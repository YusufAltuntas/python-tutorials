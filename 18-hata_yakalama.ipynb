{
 "cells": [
  {
   "cell_type": "markdown",
   "metadata": {},
   "source": [
    "# Hata Yakalama\n",
    "\n",
    "Python'da hata yakalama, programlarınızın istisnai durumlarla başa çıkmasına ve kullanıcıların daha iyi bir deneyim yaşamasına yardımcı olur. \n",
    "\n",
    "Python'da hataları yakalamak ve işlemek için try, except, else ve finally ifadelerini kullanabiliriz. İşte bu yapıları kullanarak hata yakalama adımları:\n",
    "\n",
    "- >try: İşlemi denemek istediğiniz kod bloğunu bu ifade içine koyun.\n",
    "- >except: Eğer bir hata meydana gelirse bu blok çalışır. Hatanın türüne göre özel bir işlem yapabilirsiniz.\n",
    "- >else (isteğe bağlı): Hata olmadığında bu blok çalışır.\n",
    "- >finally (isteğe bağlı): Bu blok, hata olsun veya olmasın her zaman çalışır. Temizleme işlemleri için kullanışlıdır.\n",
    "\n",
    "Aşağıda örneklerle hata yakalama işlemi nasıl gerçekleştirilir, adım adım açıklanmıştır:"
   ]
  },
  {
   "cell_type": "code",
   "execution_count": 1,
   "metadata": {},
   "outputs": [
    {
     "name": "stdout",
     "output_type": "stream",
     "text": [
      "Sıfıra bölme hatası!\n",
      "İşlem tamamlandı.\n"
     ]
    }
   ],
   "source": [
    "# Temel Hata Yakalama\n",
    "\n",
    "try:\n",
    "    # Hata alabileceğiniz kodları buraya yazın\n",
    "    x = int(input(\"Bir sayı girin: \"))\n",
    "    y = 10 / x\n",
    "except ZeroDivisionError:\n",
    "    print(\"Sıfıra bölme hatası!\")\n",
    "except ValueError:\n",
    "    print(\"Geçersiz sayı girişi!\")\n",
    "else:\n",
    "    print(\"İşlem başarılı.\")\n",
    "finally:\n",
    "    print(\"İşlem tamamlandı.\")\n"
   ]
  },
  {
   "cell_type": "markdown",
   "metadata": {},
   "source": [
    "- Bu örnekte, kullanıcıdan bir sayı girmesi istenir. Eğer kullanıcı sıfır girerse ZeroDivisionError, sayısal olmayan bir değer girerse ValueError hatası alınır. Hata oluşursa except bloğu çalışır, aksi takdirde else bloğu çalışır. Son olarak, her durumda finally bloğu çalışır."
   ]
  },
  {
   "cell_type": "code",
   "execution_count": 5,
   "metadata": {},
   "outputs": [
    {
     "name": "stdout",
     "output_type": "stream",
     "text": [
      "Payda sıfır olmamalı\n",
      "finally bloğu çalışıyor\n"
     ]
    }
   ],
   "source": [
    "try:\n",
    "    a= 5\n",
    "    b = 0\n",
    "    c = a / b\n",
    "    d = x\n",
    "    isim = \"ali\"\n",
    "    karakter = isim[10]\n",
    "\n",
    "\n",
    "\n",
    "except ZeroDivisionError:\n",
    "    print(\"Payda sıfır olmamalı\")\n",
    "except NameError:\n",
    "    print(\"Bu değiişken daha önce tanımlanmamış\")\n",
    "except IndexError:\n",
    "    print(\"Böyle bir index bulunmuyor\")\n",
    "except Exception:\n",
    "    print(\"Bilinmeyen bir hata oluştu\") # eğer gözümüzden kaçan bir hata kodu varsa diye genel bir exception kullandık\n",
    "\n",
    "else:\n",
    "    print(\"Bir hata ile karşılaşılmadı\") # eğer \"try\" bloğunda bir hata ile karşılaşılmazsa \"else\" bloğu içindeki kod çalışır.\n",
    "    \n",
    "finally:\n",
    "    print(\"finally bloğu çalışıyor\") # hata yakalansa da yakalanmasa da her halükarda \"finally\" bloğu çalışır.\n",
    "\n",
    "\n",
    "# program \"try\" bloğunda ilk hata aldığında ilgili hata bloğuna gitti ve programın geri kalanı çalışmadı. "
   ]
  },
  {
   "cell_type": "markdown",
   "metadata": {},
   "source": [
    "**Özel Hata Mesajları**\n",
    "\n",
    "* Hata yakalama bloklarında, hata mesajlarını özelleştirebilirsiniz:"
   ]
  },
  {
   "cell_type": "code",
   "execution_count": 7,
   "metadata": {},
   "outputs": [
    {
     "name": "stdout",
     "output_type": "stream",
     "text": [
      "İşlem başarılı.\n",
      "İşlem tamamlandı.\n"
     ]
    }
   ],
   "source": [
    "try:\n",
    "    age = int(input(\"Yaşınızı girin: \"))\n",
    "    if age < 0:\n",
    "        raise ValueError(\"Yaş negatif olamaz.\")\n",
    "except ValueError as e:\n",
    "    print(\"Hata:\", str(e))\n",
    "else:\n",
    "    print(\"İşlem başarılı.\")\n",
    "finally:\n",
    "    print(\"İşlem tamamlandı.\")\n",
    "\n",
    "# Bu örnekte, yaş değeri negatifse özel bir ValueError yaratılır ve yakalanır.\n"
   ]
  },
  {
   "cell_type": "code",
   "execution_count": 8,
   "metadata": {},
   "outputs": [
    {
     "name": "stdout",
     "output_type": "stream",
     "text": [
      "division by zero\n"
     ]
    }
   ],
   "source": [
    "try:\n",
    "    a= 5\n",
    "    b = 0\n",
    "    c = a / b\n",
    "\n",
    "except ZeroDivisionError as e:\n",
    "    print(e)    \n",
    "\n",
    "# Burada hata mesajını e adlı değişkene atadık ve hata aldığımızda hata mesajını döndürdük."
   ]
  },
  {
   "cell_type": "code",
   "execution_count": null,
   "metadata": {},
   "outputs": [],
   "source": []
  }
 ],
 "metadata": {
  "kernelspec": {
   "display_name": "Python 3",
   "language": "python",
   "name": "python3"
  },
  "language_info": {
   "codemirror_mode": {
    "name": "ipython",
    "version": 3
   },
   "file_extension": ".py",
   "mimetype": "text/x-python",
   "name": "python",
   "nbconvert_exporter": "python",
   "pygments_lexer": "ipython3",
   "version": "3.11.2"
  },
  "orig_nbformat": 4
 },
 "nbformat": 4,
 "nbformat_minor": 2
}
