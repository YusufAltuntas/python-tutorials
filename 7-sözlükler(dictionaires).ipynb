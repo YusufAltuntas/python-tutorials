{
 "cells": [
  {
   "cell_type": "markdown",
   "metadata": {},
   "source": [
    "# SÖZLÜKLER (DİCTİONAİRES)\n",
    "\n",
    "## 1. Sözlük Nedir?\n",
    "\n",
    "    * Bir sözlük, anahtar (key) ve değer (value) çiftlerini içeren bir veri koleksiyonudur.\n",
    "    * Anahtarlar benzersiz ve değiştirilemez (immutable) olmalıdır (örneğin, string, sayı veya tuple gibi).\n",
    "    * Değerler herhangi bir veri türünü alabilir (örneğin, string, sayı, liste, başka bir sözlük vb.).\n",
    "\n",
    "Bir sözlüğü anahtar: değer çiftleri olarak düşünmek en iyisidir. Bir sözlük içerisindeki her anahtarın benzersiz olması gerektiğini ise unutmayın. Bir çift parantez boş bir sözlük oluşturur: {}. Anahtar:değer çiftlerinin virgülle ayrılmış bir listesini parantezler içine yerleştirmek sözlüğe ilk anahtar:değer çiftlerini ekler; sözlükler çıktıda da aynı bu şekilde görünürler.\n",
    "\n",
    "Bir sözlük üzerindeki ana işlemler, bir değeri bir anahtarla depolamak ve anahtarı verilen değeri geri çıkarmaktır. Ayrıca del ile bir anahtar:değer çiftini silmek de mümkündür. Zaten bir değeri kullanımda olan bir anahtar kullanarak saklarsanız, bu anahtarla ilişkili eski değer unutulur. Var olmayan bir anahtar kullanarak değer çıkarmak bir hatadır."
   ]
  },
  {
   "cell_type": "markdown",
   "metadata": {},
   "source": [
    "## 2. Sözlük Oluşturma\n",
    "\n",
    "    * Sözlükler süslü parantez {} veya dict() fonksiyonu ile oluşturulabilir."
   ]
  },
  {
   "cell_type": "code",
   "execution_count": 1,
   "metadata": {},
   "outputs": [
    {
     "name": "stdout",
     "output_type": "stream",
     "text": [
      "{'John': 938477566, 'Jack': 938377264, 'Jill': 947662781}\n"
     ]
    }
   ],
   "source": [
    "# Bir telefon rehberi oluşturalım.\n",
    "\n",
    "phonebook = {}\n",
    "phonebook[\"John\"] = 938477566\n",
    "phonebook[\"Jack\"] = 938377264\n",
    "phonebook[\"Jill\"] = 947662781\n",
    "print(phonebook)"
   ]
  },
  {
   "cell_type": "code",
   "execution_count": 2,
   "metadata": {},
   "outputs": [
    {
     "name": "stdout",
     "output_type": "stream",
     "text": [
      "{'John': 938477566, 'Jack': 938377264, 'Jill': 947662781}\n"
     ]
    }
   ],
   "source": [
    "# Alternatif olarak bir sözlük bu şekilde de oluşturulabilir\n",
    "\n",
    "phonebook = {\n",
    "    \"John\" : 938477566,\n",
    "    \"Jack\" : 938377264,\n",
    "    \"Jill\" : 947662781\n",
    "}\n",
    "print(phonebook)"
   ]
  },
  {
   "cell_type": "markdown",
   "metadata": {},
   "source": [
    "## 3. Bir Sözlük Elemanına Erişme\n",
    "\n",
    "    * Sözlüklerde anahtarları kullanarak değerlere erişebilirsiniz.\n",
    "    \n",
    "    * get() metodu ile bir anahtarın değerini güvenli bir şekilde alabilirsiniz.\n",
    "      get() metodu, bir sözlükte belirli bir anahtara sahip bir değeri güvenli bir şekilde almanıza yardımcı olan bir Python sözlük metodu olarak kullanılır. get() metodu \n",
    "      ayrıca, belirli bir  anahtarın sözlükte olup olmadığını kontrol etmek için de kullanılabilir. get() metodunun temel kullanımı şu şekildedir:\n",
    "\n",
    "- deger = sozluk.get(anahtar, varsayilan_deger) \n",
    "\n",
    "* sozluk: Sorgulanacak sözlük.\n",
    "* anahtar: Almak istediğiniz değerin anahtarı.\n",
    "* varsayilan_deger (isteğe bağlı): Eğer belirtilen anahtar sözlükte bulunmuyorsa, döndürülecek varsayılan bir değer. Bu parametre belirtilmezse, varsayılan olarak None döner.\n",
    "- get() metodunun temel avantajı, belirli bir anahtarın sözlükte olup olmadığını kontrol etmeden değeri alabilmenizdir. Ayrıca, eğer belirtilen anahtar sözlükte bulunmuyorsa None yerine istediğiniz bir varsayılan değer döndürebilirsiniz.\n"
   ]
  },
  {
   "cell_type": "code",
   "execution_count": 1,
   "metadata": {},
   "outputs": [
    {
     "name": "stdout",
     "output_type": "stream",
     "text": [
      "Ahmet\n"
     ]
    }
   ],
   "source": [
    "my_dict = {\"isim\": \"Ahmet\", \"yaş\": 30}\n",
    "isim = my_dict[\"isim\"]  # Değeri almak\n",
    "print(isim)"
   ]
  },
  {
   "cell_type": "code",
   "execution_count": 9,
   "metadata": {},
   "outputs": [
    {
     "name": "stdout",
     "output_type": "stream",
     "text": [
      "Ahmet\n",
      "None\n",
      "Bilinmiyor\n"
     ]
    }
   ],
   "source": [
    "### get() metodu\n",
    "\n",
    "sozluk = {\"isim\": \"Ahmet\", \"yas\": 30}\n",
    "\n",
    "# \"isim\" anahtarının değerini al\n",
    "isim = sozluk.get(\"isim\")\n",
    "print(isim)  # Çıktı: Ahmet\n",
    "\n",
    "# \"sehir\" anahtarının değerini al, varsayılan olarak None dönecek\n",
    "sehir = sozluk.get(\"sehir\")\n",
    "print(sehir)  # Çıktı: None\n",
    "\n",
    "# \"sehir\" anahtarının değerini al, varsayılan olarak \"Bilinmiyor\" dönecek\n",
    "sehir = sozluk.get(\"sehir\", \"Bilinmiyor\")\n",
    "print(sehir)  # Çıktı: Bilinmiyor\n"
   ]
  },
  {
   "cell_type": "markdown",
   "metadata": {},
   "source": [
    "## 4. Anahtar-Değer Çiftlerini Alma\n",
    "\n",
    "    * Sözlüklerdeki tüm anahtarları veya değerleri almak için keys() ve values() metotlarını kullanabilirsiniz."
   ]
  },
  {
   "cell_type": "code",
   "execution_count": 22,
   "metadata": {},
   "outputs": [
    {
     "name": "stdout",
     "output_type": "stream",
     "text": [
      "dict_keys(['isim', 'yaş'])\n",
      "dict_values(['Ahmet', 30])\n",
      "dict_items([('isim', 'Ahmet'), ('yaş', 30)])\n"
     ]
    }
   ],
   "source": [
    "anahtarlar = my_dict.keys()  # Tüm anahtarları alır\n",
    "degerler = my_dict.values()  # Tüm değerleri alır\n",
    "ciftler = my_dict.items()    # anahtar değer çiftlerini alır\n",
    "\n",
    "print(anahtarlar)\n",
    "print(degerler)\n",
    "print(ciftler)"
   ]
  },
  {
   "cell_type": "markdown",
   "metadata": {},
   "source": [
    "## 5. Eleman Ekleme veya Güncelleme\n",
    "\n",
    "    * Sözlüğe yeni bir anahtar-değer çifti ekleyebilir veya mevcut bir çifti güncelleyebilirsiniz.\n",
    "    * update() metodu kullanarak birden fazla değeri aynı anda değiştirebiliriz."
   ]
  },
  {
   "cell_type": "code",
   "execution_count": 13,
   "metadata": {},
   "outputs": [
    {
     "name": "stdout",
     "output_type": "stream",
     "text": [
      "{'isim': 'ali', 'yas': 20, 'cinsiyet': 'm', 'hobiler': ['Sinema', 'Konser', 'Yazılım']}\n",
      "{'isim': 'Ahmet', 'yas': 20, 'cinsiyet': 'm', 'hobiler': ['Sinema', 'Konser', 'Yazılım'], 'Sehir': 'Ordu'}\n",
      "{'isim': 'Yusuf', 'yas': 30, 'cinsiyet': 'm', 'hobiler': ['Sinema', 'Konser', 'Yazılım'], 'Sehir': 'Ordu'}\n"
     ]
    }
   ],
   "source": [
    "kisi = {\"isim\": \"ali\", \"yas\": 20, \"cinsiyet\": \"m\", \"hobiler\": [\"Sinema\", \"Konser\", \"Yazılım\"]}\n",
    "print(kisi)\n",
    "\n",
    "kisi[\"isim\"] = \"Ahmet\" # değer güncelleme\n",
    "kisi[\"Sehir\"] = \"Ordu\" # yeni bir anahtar değer çifti ekleme\n",
    "\n",
    "print(kisi)\n",
    "\n",
    "kisi.update({\"isim\" : \"Yusuf\", \"yas\" : 30}) # aynı anda isim ve yas değerlerini değiştirdik\n",
    "print(kisi)"
   ]
  },
  {
   "cell_type": "markdown",
   "metadata": {},
   "source": [
    "## 6. Eleman Silme\n",
    "\n",
    "    * pop() metodu, belirli bir anahtarın değerini döndürür ve bu anahtar-değer çiftini sözlükten çıkarır. pop() metodu, çıkardığı anahtarın değerini döndürür, bu nedenle \n",
    "      çıkardığınız değeri  alabilirsiniz.\n",
    "    * del anahtar kelimesi kullanarakta silme işlemi gerçekleştirebiliriz. del anahtar kelimesi bir değer döndürmez, yani silinen anahtarın değerini alamazsınız."
   ]
  },
  {
   "cell_type": "code",
   "execution_count": 16,
   "metadata": {},
   "outputs": [
    {
     "name": "stdout",
     "output_type": "stream",
     "text": [
      "{'anne': 'esengül', 'baba': 'güven', 'kardes': 3}\n",
      "güven\n",
      "{'anne': 'esengül', 'kardes': 3}\n",
      "{'anne': 'esengül'}\n"
     ]
    }
   ],
   "source": [
    "sozluk = {\"anne\" : \"esengül\", \"baba\" : \"güven\", \"kardes\": 3}\n",
    "print(sozluk)\n",
    "print(sozluk.pop(\"baba\"))\n",
    "print(sozluk)\n",
    "\n",
    "del sozluk[\"kardes\"]\n",
    "print(sozluk)\n"
   ]
  },
  {
   "cell_type": "markdown",
   "metadata": {},
   "source": [
    "## 7. Sözlükte Döngü ile Gezinme\n",
    "\n",
    "    * Python'da sözlüklerle çalışırken, for döngüsü kullanarak sözlükteki anahtarları, değerleri veya anahtar-değer çiftlerini gezme yeteneğine sahipsiniz. \n",
    "    İşte sözlükte for döngüsü kullanmanın farklı yöntemleri:"
   ]
  },
  {
   "cell_type": "code",
   "execution_count": 18,
   "metadata": {},
   "outputs": [
    {
     "name": "stdout",
     "output_type": "stream",
     "text": [
      "isim\n",
      "yas\n",
      "cinsiyet\n",
      "hobiler\n"
     ]
    }
   ],
   "source": [
    "# 1- Sadece Anahtarları Gezmek:\n",
    "\n",
    "kisi = {\"isim\": \"ali\", \"yas\": 20, \"cinsiyet\": \"m\", \"hobiler\": [\"Sinema\", \"Konser\", \"Yazılım\"]}\n",
    "for anahtar in kisi:\n",
    "    print(anahtar)\n",
    "\n",
    "# Bu döngü, sözlüğün anahtarlarını tek tek alır ve her birini anahtar adındaki değişkene atar."
   ]
  },
  {
   "cell_type": "code",
   "execution_count": 19,
   "metadata": {},
   "outputs": [
    {
     "name": "stdout",
     "output_type": "stream",
     "text": [
      "ali\n",
      "20\n",
      "m\n",
      "['Sinema', 'Konser', 'Yazılım']\n"
     ]
    }
   ],
   "source": [
    "# 2- Değerleri Gezmek:\n",
    "\n",
    "kisi = {\"isim\": \"ali\", \"yas\": 20, \"cinsiyet\": \"m\", \"hobiler\": [\"Sinema\", \"Konser\", \"Yazılım\"]}\n",
    "for deger in kisi.values():\n",
    "    print(deger)\n"
   ]
  },
  {
   "cell_type": "code",
   "execution_count": 20,
   "metadata": {},
   "outputs": [
    {
     "name": "stdout",
     "output_type": "stream",
     "text": [
      "isim ali\n",
      "yas 20\n",
      "cinsiyet m\n",
      "hobiler ['Sinema', 'Konser', 'Yazılım']\n"
     ]
    }
   ],
   "source": [
    "# 3- Anahtar-Değer Çiftlerini Gezmek:\n",
    "\n",
    "kisi = {\"isim\": \"ali\", \"yas\": 20, \"cinsiyet\": \"m\", \"hobiler\": [\"Sinema\", \"Konser\", \"Yazılım\"]}\n",
    "for anahtar, deger in kisi.items():\n",
    "    print(anahtar, deger)\n"
   ]
  }
 ],
 "metadata": {
  "kernelspec": {
   "display_name": "Python 3",
   "language": "python",
   "name": "python3"
  },
  "language_info": {
   "codemirror_mode": {
    "name": "ipython",
    "version": 3
   },
   "file_extension": ".py",
   "mimetype": "text/x-python",
   "name": "python",
   "nbconvert_exporter": "python",
   "pygments_lexer": "ipython3",
   "version": "3.11.2"
  },
  "orig_nbformat": 4
 },
 "nbformat": 4,
 "nbformat_minor": 2
}
