{
 "cells": [
  {
   "cell_type": "code",
   "execution_count": 3,
   "metadata": {},
   "outputs": [
    {
     "name": "stdout",
     "output_type": "stream",
     "text": [
      "True\n",
      "False\n"
     ]
    }
   ],
   "source": [
    "# Question\n",
    "\n",
    "class Question:\n",
    "    def __init__(self, text, choices, answer):\n",
    "        self.text = text\n",
    "        self.choices = choices\n",
    "        self.answer = answer\n",
    "\n",
    "    def CheckAnswer(self, answer):\n",
    "        return self.answer == answer\n",
    "    \n",
    "\n",
    "\n",
    "class Quiz:\n",
    "    def __init__(self, questions):\n",
    "        self.questions = questions\n",
    "        self.score = 0\n",
    "        self.questionIndex = 0\n",
    "\n",
    "    def getQuestion(self):\n",
    "        return self.questions[self.questionIndex ]\n",
    "q1 = Question(\"En iyi programlama dili hangisidir?\", [\"c#\", \"Python\", \"Javascript\", \"java\"], \"Python\")\n",
    "q2 = Question(\"En popüler programlama dili hangisidir?\", [\"Python\",\"c#\", \"Javascript\", \"java\"], \"Python\")\n",
    "q3 = Question(\"En çok kazandıran programlama dili hangisidir?\", [\"c#\",  \"Javascript\", \"java\", \"Python\"], \"Python\")\n",
    "questions = [q1,q2,q3]\n",
    "\n",
    "quiz = Quiz(questions)"
   ]
  },
  {
   "cell_type": "code",
   "execution_count": null,
   "metadata": {},
   "outputs": [],
   "source": []
  }
 ],
 "metadata": {
  "kernelspec": {
   "display_name": "Python 3",
   "language": "python",
   "name": "python3"
  },
  "language_info": {
   "codemirror_mode": {
    "name": "ipython",
    "version": 3
   },
   "file_extension": ".py",
   "mimetype": "text/x-python",
   "name": "python",
   "nbconvert_exporter": "python",
   "pygments_lexer": "ipython3",
   "version": "3.11.2"
  }
 },
 "nbformat": 4,
 "nbformat_minor": 2
}
