{
 "cells": [
  {
   "cell_type": "markdown",
   "metadata": {},
   "source": [
    "# İç İçe Fonksiyonlar\n",
    "\n",
    "- Python'da iç içe fonksiyonlar, bir fonksiyonun başka bir fonksiyon içinde tanımlandığı ve kullanıldığı bir yapıdır. Bu, kodunuzu daha düzenli ve modüler hale getirmenize yardımcı olabilir. İç içe fonksiyonları daha iyi anlamak için aşağıda detaylı örneklerle inceleyelim:"
   ]
  },
  {
   "cell_type": "markdown",
   "metadata": {},
   "source": [
    "### Örnek 1: Basit bir iç içe fonksiyon kullanımı"
   ]
  },
  {
   "cell_type": "code",
   "execution_count": 3,
   "metadata": {},
   "outputs": [
    {
     "name": "stdout",
     "output_type": "stream",
     "text": [
      "Dış fonksiyon çalıştı.\n",
      "İç fonksiyon çalıştı.\n"
     ]
    }
   ],
   "source": [
    "def dış_fonksiyon():\n",
    "    print(\"Dış fonksiyon çalıştı.\")\n",
    "\n",
    "    def iç_fonksiyon():\n",
    "        print(\"İç fonksiyon çalıştı.\")\n",
    "\n",
    "    iç_fonksiyon()  # İç fonksiyonu dış fonksiyon içinde çağırıyoruz.\n",
    "\n",
    "dış_fonksiyon()"
   ]
  },
  {
   "cell_type": "markdown",
   "metadata": {},
   "source": [
    "- Bu örnekte, dış_fonksiyon adlı bir dış fonksiyon tanımladık ve içinde iç_fonksiyon adlı bir iç fonksiyon tanımladık. Dış fonksiyon içerisinde iç fonksiyonu çağırdık. Sonuç olarak, dış fonksiyonu çağırdığımızda iç fonksiyon da otomatik olarak çağrılacak ve ekrana \"Dış fonksiyon çalıştı.\" ve \"İç fonksiyon çalıştı.\" mesajları yazdırılacaktır."
   ]
  },
  {
   "cell_type": "markdown",
   "metadata": {},
   "source": [
    "### Örnek 2: İç içe fonksiyonlar ve argümanlar"
   ]
  },
  {
   "cell_type": "code",
   "execution_count": 4,
   "metadata": {},
   "outputs": [
    {
     "name": "stdout",
     "output_type": "stream",
     "text": [
      "Toplam Sonuç: 8\n"
     ]
    }
   ],
   "source": [
    "def toplama(x, y):\n",
    "    def toplam():\n",
    "        return x + y\n",
    "\n",
    "    sonuc = toplam()\n",
    "    return sonuc\n",
    "\n",
    "toplam_sonuc = toplama(5, 3)\n",
    "print(\"Toplam Sonuç:\", toplam_sonuc)\n"
   ]
  },
  {
   "cell_type": "markdown",
   "metadata": {},
   "source": [
    "- Bu örnekte, toplama adlı bir dış fonksiyon tanımladık. Bu dış fonksiyon, iki argüman (x ve y) alır. İç fonksiyon toplam, bu argümanları kullanarak toplama işlemini gerçekleştirir. Dış fonksiyon sonucu iç fonksiyonu çağırarak hesaplar ve sonucu döndürür."
   ]
  },
  {
   "cell_type": "markdown",
   "metadata": {},
   "source": [
    "### Örnek 3: İç içe fonksiyonlar ve kapsülleme (encapsulation)"
   ]
  },
  {
   "cell_type": "code",
   "execution_count": 1,
   "metadata": {},
   "outputs": [
    {
     "name": "stdout",
     "output_type": "stream",
     "text": [
      "Karesi: 36, Karekoku: 2.449489742783178, Faktoriyeli: 720\n"
     ]
    }
   ],
   "source": [
    "def hesaplamalar(x):\n",
    "    def kare_al(a):\n",
    "        return a ** 2\n",
    "    \n",
    "    def karekok_al(a):\n",
    "        return a ** 0.5\n",
    "    \n",
    "    def faktoriyel(a):\n",
    "        carpim = 1\n",
    "        for i in range(1, a + 1):\n",
    "            carpim *= i\n",
    "        return carpim\n",
    "    \n",
    "    kare = kare_al(x)\n",
    "    karekok = karekok_al(x)\n",
    "    fakt = faktoriyel(x)\n",
    "    return f\"Karesi: {kare}, Karekoku: {karekok}, Faktoriyeli: {fakt}\"\n",
    "\n",
    "print(hesaplamalar(6))"
   ]
  },
  {
   "cell_type": "code",
   "execution_count": 2,
   "metadata": {},
   "outputs": [
    {
     "data": {
      "text/plain": [
       "'Toplamları: 12, Çarpımları: 60'"
      ]
     },
     "execution_count": 2,
     "metadata": {},
     "output_type": "execute_result"
    }
   ],
   "source": [
    "def toplam_carpim(*args):\n",
    "    def toplama(demet):\n",
    "        return sum(demet)\n",
    "    def carpma(demet):\n",
    "        carpim = 1\n",
    "        for i in demet:\n",
    "            carpim *= i\n",
    "        return carpim\n",
    "    \n",
    "    return f\"Toplamları: {toplama(args)}, Çarpımları: {carpma(args)}\"\n",
    "\n",
    "toplam_carpim(3,4,5)"
   ]
  }
 ],
 "metadata": {
  "kernelspec": {
   "display_name": "Python 3",
   "language": "python",
   "name": "python3"
  },
  "language_info": {
   "codemirror_mode": {
    "name": "ipython",
    "version": 3
   },
   "file_extension": ".py",
   "mimetype": "text/x-python",
   "name": "python",
   "nbconvert_exporter": "python",
   "pygments_lexer": "ipython3",
   "version": "3.11.2"
  }
 },
 "nbformat": 4,
 "nbformat_minor": 2
}
