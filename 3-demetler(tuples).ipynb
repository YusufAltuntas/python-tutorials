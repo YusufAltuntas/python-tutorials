{
 "cells": [
  {
   "cell_type": "markdown",
   "metadata": {},
   "source": [
    "# Demetler(Tuples)\n",
    "\n",
    "### 1. Tuple Nedir?\n",
    "\n",
    "        * Tuple, bir koleksiyon veri türüdür ve listelere benzer, ancak birkaç önemli farkı vardır. Tuple'lar değiştirilemezdir, yani bir kez oluşturulduktan sonra içeriği değiştirilemez.\n",
    "\n",
    "### 2. Tuple Oluşturma\n",
    "\n",
    "        * Boş demeti belirtmek için bir çift parantez kullanma: ()\n",
    "\n",
    "        * Tekli bir tuple için sonunda virgül kullanma: a, veya (a,)\n",
    "\n",
    "        * Öğeleri virgülle ayırma: a, b, c veya (a, b, c)\n",
    "\n",
    "        * Gömülü tuple() kullanmak: tuple() veya tuple(iterable)\n",
    "\n",
    "### 3. Elemanlara Erişim\n",
    "\n",
    "        * Tuple elemanları sıfır tabanlı indislerle erişilebilir.\n"
   ]
  },
  {
   "cell_type": "code",
   "execution_count": 6,
   "metadata": {},
   "outputs": [
    {
     "name": "stdout",
     "output_type": "stream",
     "text": [
      "1\n"
     ]
    }
   ],
   "source": [
    "tuple1 = (1, 2, 3)\n",
    "print(tuple1[0])  # Çıktı: 1"
   ]
  },
  {
   "cell_type": "markdown",
   "metadata": {},
   "source": [
    "### 4. Değiştirilememezlik(immutable):\n",
    "\n",
    "        * Tuple'lar oluşturulduktan sonra içerikleri değiştirilemez. Yani eleman ekleyemez veya çıkaramazsınız. Listelerden en temel farkı budur.\n",
    "\n",
    "### 5. Tupple ların Avantajları\n",
    "\n",
    "        * Tuple'lar listelere göre daha hızlıdır, çünkü değiştirilemezdirler.\n",
    "        * Tuple'lar dictionary anahtarları olarak kullanılabilir, ancak listeler kullanılamaz çünkü değiştirilebilirler.\n",
    "\n",
    "### 6. Paketleme ve Açma (Packing and Unpacking):\n",
    "\n",
    "        * Tuple'lar genellikle birden fazla değişkeni tek bir tuple içinde paketlemek ve sonra aynı tuple'ı kullanarak değişkenlere açmak için kullanılır."
   ]
  },
  {
   "cell_type": "code",
   "execution_count": 4,
   "metadata": {},
   "outputs": [
    {
     "name": "stdout",
     "output_type": "stream",
     "text": [
      "3 4\n"
     ]
    }
   ],
   "source": [
    "point = (3, 4)\n",
    "x, y = point  # Tuple açma (unpacking)\n",
    "print(x, y)"
   ]
  },
  {
   "cell_type": "markdown",
   "metadata": {},
   "source": [
    "### 7. Tuple Metodları:\n",
    "\n",
    "        * Tuple veri tipinin kendine ait çok fazla metod yoktur. Ancak count() ve index() metotları bulunur. count() belirli bir elemanın kaç kez tuple içinde geçtiğini sayar, index() ise belirli bir elemanın ilk indeksini döndürür."
   ]
  },
  {
   "cell_type": "code",
   "execution_count": 5,
   "metadata": {},
   "outputs": [],
   "source": [
    "my_tuple = (1, 2, 2, 3, 4, 5, 2)\n",
    "count = my_tuple.count(2)  # 2, 2 kaç kez geçiyor? Cevap: 3\n",
    "index = my_tuple.index(3)  # 3 hangi indekste? Cevap: 3"
   ]
  },
  {
   "cell_type": "markdown",
   "metadata": {},
   "source": [
    "### 8. Tuple ve Liste Arasındaki Farklar:\n",
    "\n",
    "        * Tuple'lar değiştirilemezken, listeler değiştirilebilir.\n",
    "        * Tuple'lar parantezler veya virgüllerle tanımlanırken, listeler köşeli parantezlerle [] tanımlanır.\n",
    "        * Tuple'lar listelere göre daha hızlıdır.\n",
    "        * Tuple'lar, örneğin dictionary anahtarları olarak kullanılabilir, çünkü değiştirilemezler.\n",
    "        * Bu bilgiler, Python'da tuple kullanımı hakkında temel bilgileri içermektedir. Tuple'lar, belirli bir sıralama gerektiren ve değiştirilmesini istemediğiniz verileri saklamak için kullanışlıdır."
   ]
  }
 ],
 "metadata": {
  "kernelspec": {
   "display_name": "Python 3",
   "language": "python",
   "name": "python3"
  },
  "language_info": {
   "codemirror_mode": {
    "name": "ipython",
    "version": 3
   },
   "file_extension": ".py",
   "mimetype": "text/x-python",
   "name": "python",
   "nbconvert_exporter": "python",
   "pygments_lexer": "ipython3",
   "version": "3.11.2"
  },
  "orig_nbformat": 4
 },
 "nbformat": 4,
 "nbformat_minor": 2
}
