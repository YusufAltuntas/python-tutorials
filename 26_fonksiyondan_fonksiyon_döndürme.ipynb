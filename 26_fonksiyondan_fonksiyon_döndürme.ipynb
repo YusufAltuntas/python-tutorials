{
 "cells": [
  {
   "cell_type": "code",
   "execution_count": 1,
   "metadata": {},
   "outputs": [
    {
     "name": "stdout",
     "output_type": "stream",
     "text": [
      "22\n"
     ]
    }
   ],
   "source": [
    "def islem_sec(islem):\n",
    "    def toplama(*args):\n",
    "        return sum(args)\n",
    "    \n",
    "    def carpma(*args):\n",
    "        carpim = 0\n",
    "        for arg in args:\n",
    "            carpim *= arg\n",
    "        return carpim\n",
    "    \n",
    "    def ortalama(*args):\n",
    "        return sum(args) / len(args)\n",
    "    \n",
    "    if islem == \"toplama\":\n",
    "        return toplama\n",
    "    elif islem == \"carpma\":\n",
    "        return carpma\n",
    "    elif islem == \"ortalama\":\n",
    "        return ortalama\n",
    "    \n",
    "top_fonk = islem_sec(\"toplama\")\n",
    "print(top_fonk(1,5,3,4,9))"
   ]
  },
  {
   "cell_type": "code",
   "execution_count": 2,
   "metadata": {},
   "outputs": [
    {
     "name": "stdout",
     "output_type": "stream",
     "text": [
      "Yusuf Fenerbahce takımını tutuyor.\n",
      "Ece GotanaSpor takımını tutuyor.\n"
     ]
    }
   ],
   "source": [
    "def kisi_sec(kisi):\n",
    "    def takim_sec(takim):\n",
    "        return f\"{kisi} {takim} takımını tutuyor.\"\n",
    "    return takim_sec\n",
    "\n",
    "a = kisi_sec(\"Yusuf\")\n",
    "b = kisi_sec(\"Ece\")\n",
    "\n",
    "print(a(\"Fenerbahce\"))\n",
    "print(b(\"GotanaSpor\"))"
   ]
  },
  {
   "cell_type": "markdown",
   "metadata": {},
   "source": [
    "# Fonksiyonlara Parametre Olarak Fonksiyon Göndermek\n"
   ]
  },
  {
   "cell_type": "code",
   "execution_count": 3,
   "metadata": {},
   "outputs": [
    {
     "name": "stdout",
     "output_type": "stream",
     "text": [
      "[1, 4, 9, 16, 25]\n",
      "[1, 27, 64, 125, 512, 729, 1331]\n"
     ]
    }
   ],
   "source": [
    "liste1 = [1,2,3,4,5]\n",
    "liste2 = [1,3,4,5,8,9,11]\n",
    "\n",
    "def kare_al(x):\n",
    "    return x ** 2\n",
    "def kup_al(x):\n",
    "    return x ** 3\n",
    "\n",
    "def map_fonk(fonk, liste):\n",
    "    sonuc = []\n",
    "    for i in liste:\n",
    "        sonuc.append(fonk(i))\n",
    "    return sonuc\n",
    "\n",
    "print(map_fonk(kare_al, liste1))\n",
    "print(map_fonk(kup_al, liste2))"
   ]
  }
 ],
 "metadata": {
  "kernelspec": {
   "display_name": "Python 3",
   "language": "python",
   "name": "python3"
  },
  "language_info": {
   "codemirror_mode": {
    "name": "ipython",
    "version": 3
   },
   "file_extension": ".py",
   "mimetype": "text/x-python",
   "name": "python",
   "nbconvert_exporter": "python",
   "pygments_lexer": "ipython3",
   "version": "3.11.2"
  }
 },
 "nbformat": 4,
 "nbformat_minor": 2
}
