{
 "cells": [
  {
   "cell_type": "markdown",
   "metadata": {},
   "source": [
    "# STRİNG FONKSİYONLARI\n",
    "\n",
    "### 1. upper():\n",
    "* \"upper()\" fonksiyonu, bir stringin tüm karakterlerini büyük harfe dönüştürmek için kullanılır. İşlev, orijinal stringi değiştirmeden büyük harfli bir kopya döndürür. \n",
    "\n",
    "### 2. lower():\n",
    "* \"lower()\" fonksiyonu, bir stringin tüm karakterlerini küçük harfe dönüştürmek için kullanılır. Bu işlev de orijinal stringi değiştirmeden küçük harfli bir kopya döndürür. \n",
    "\n",
    "### 3. capitalize():\n",
    "* \"capitalize()\" fonksiyonu, bir stringin sadece ilk karakterini büyük harfe dönüştürmek için kullanılır. Orijinal stringdeki diğer karakterlerin hepsi küçük harfle başlar. \n",
    "İşlev değişiklik yapmadan yeni bir string döndürür. \n",
    "İşlevin kullanımı şu şekildedir:"
   ]
  },
  {
   "cell_type": "code",
   "execution_count": 2,
   "metadata": {},
   "outputs": [
    {
     "name": "stdout",
     "output_type": "stream",
     "text": [
      "MERHABA DÜNYA\n"
     ]
    }
   ],
   "source": [
    "mesaj = \"merhaba dünya\"\n",
    "print(mesaj.upper())"
   ]
  },
  {
   "cell_type": "code",
   "execution_count": 3,
   "metadata": {},
   "outputs": [
    {
     "name": "stdout",
     "output_type": "stream",
     "text": [
      "merhaba dünya\n"
     ]
    }
   ],
   "source": [
    "mesaj = \"MERHABA DÜNYA\"\n",
    "print(mesaj.lower())"
   ]
  },
  {
   "cell_type": "code",
   "execution_count": 4,
   "metadata": {},
   "outputs": [
    {
     "name": "stdout",
     "output_type": "stream",
     "text": [
      "Merhaba dünya\n"
     ]
    }
   ],
   "source": [
    "mesaj = \"merhaba dünya\"\n",
    "print(mesaj.capitalize())"
   ]
  },
  {
   "cell_type": "markdown",
   "metadata": {},
   "source": [
    "### 4. startswith() ve endswith() fonksiyonu:\n",
    "\n",
    "* Bir stringin başlangıç ve bitiş değerlerini kontrol etmek için \"startswith\" ve \"endswith\" fonksiyonlarını kullanırız. Bu bile bir boolean değer döndürür.\n",
    "\n",
    "### 5. len() fonksiyonu:\n",
    "\n",
    "* Python dilinde, len() fonksiyonu bir nesnenin (örneğin, bir string, liste, demet, vb.) uzunluğunu döndürmek için kullanılır. İşlev, nesnenin içerdiği elemanların sayısını veya karakterlerin sayısını verir.\n"
   ]
  },
  {
   "cell_type": "code",
   "execution_count": 5,
   "metadata": {},
   "outputs": [
    {
     "name": "stdout",
     "output_type": "stream",
     "text": [
      "True\n",
      "False\n",
      "True\n",
      "False\n"
     ]
    }
   ],
   "source": [
    "mesaj = \"Merhaba Dünya\"\n",
    "print(mesaj.startswith(\"Me\"))\n",
    "print(mesaj.startswith(\"me\"))\n",
    "print(mesaj.endswith(\"ya\"))\n",
    "print(mesaj.endswith(\"zc\"))"
   ]
  },
  {
   "cell_type": "code",
   "execution_count": 6,
   "metadata": {},
   "outputs": [
    {
     "name": "stdout",
     "output_type": "stream",
     "text": [
      "15\n"
     ]
    }
   ],
   "source": [
    "text = \"Merhaba, dünya!\"\n",
    "length = len(text)\n",
    "print(length)"
   ]
  },
  {
   "cell_type": "markdown",
   "metadata": {},
   "source": [
    "### 6. Dilimleme İşlemi\n",
    "\n",
    "* Python'da stringlerde dilimleme (slicing) işlemi, bir stringin belirli bir bölümünü almak veya stringi parçalara ayırmak için kullanılır. \n",
    "String dilimleme işlemini şu şekilde yapabilirsiniz:"
   ]
  },
  {
   "cell_type": "code",
   "execution_count": 8,
   "metadata": {},
   "outputs": [
    {
     "name": "stdout",
     "output_type": "stream",
     "text": [
      "Merhaba\n",
      "Merhaba\n",
      " Python\n",
      "Pytho\n",
      "Mraa yhn\n",
      "nohtyP ,abahreM\n"
     ]
    }
   ],
   "source": [
    "text = \"Merhaba, Python\"\n",
    "\n",
    "# Belirli bir indeks aralığındaki karakterleri almak\n",
    "substring1 = text[0:7]\n",
    "print(substring1)  # Çıktı: Merhaba\n",
    "\n",
    "# İndeks aralığındaki karakterleri belirtmek için başlangıç veya bitiş indeksi belirtmeyebilirsiniz\n",
    "substring2 = text[:7]  # Başlangıç indeksi belirtilmediği için 0'dan başlar\n",
    "print(substring2)  # Çıktı: Merhaba\n",
    "\n",
    "substring3 = text[8:]  # Bitiş indeksi belirtilmediği için stringin sonuna kadar alır\n",
    "print(substring3)  # Çıktı: Python\n",
    "\n",
    "# Negatif indeksler kullanarak stringin sonundan karakterleri almak\n",
    "substring4 = text[-6:-1]\n",
    "print(substring4)  # Çıktı: Pytho\n",
    "\n",
    "# Belirli bir adımda (step) karakterleri almak\n",
    "substring5 = text[::2]  # Her ikinci karakteri alır\n",
    "print(substring5)  # Çıktı: Mraa yhn\n",
    "\n",
    "# Stringin tersini almak\n",
    "substring6 = text[::-1]\n",
    "print(substring6)  # Çıktı: nohtyP ,abahreM"
   ]
  }
 ],
 "metadata": {
  "kernelspec": {
   "display_name": "Python 3",
   "language": "python",
   "name": "python3"
  },
  "language_info": {
   "codemirror_mode": {
    "name": "ipython",
    "version": 3
   },
   "file_extension": ".py",
   "mimetype": "text/x-python",
   "name": "python",
   "nbconvert_exporter": "python",
   "pygments_lexer": "ipython3",
   "version": "3.9.13"
  },
  "orig_nbformat": 4
 },
 "nbformat": 4,
 "nbformat_minor": 2
}
