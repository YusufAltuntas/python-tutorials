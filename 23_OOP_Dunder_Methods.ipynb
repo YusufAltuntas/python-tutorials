{
 "cells": [
  {
   "cell_type": "markdown",
   "metadata": {},
   "source": [
    "# Dunder Methods\n",
    "\n",
    "- Python'da \"dunder methods\" veya \"magic methods\" olarak adlandırılan özel metodlar, çeşitli işlemleri özelleştirmek veya sınıfınızın davranışını değiştirmek için kullanılan özel adlandırılmış metodlardır. Bu metodlar, çift alt çizgi ile başlar ve biter (örneğin, ```__init__ , __str__ , __add__```). İşte bazı önemli dunder metodları ve bu metodları kullanarak nasıl özel davranışlar tanımlayabileceğinizle ilgili örnekler:\n",
    "\n"
   ]
  },
  {
   "cell_type": "markdown",
   "metadata": {},
   "source": [
    "1) **\\_\\_init\\_\\_:** Bir sınıf örneği oluşturulduğunda çağrılan inşa metodudur. Özellikle sınıf örneği oluştururken başlangıç değerlerini ayarlamak için kullanılır.\n",
    "\n",
    "2) **\\_\\_del\\_\\_:** Bir sınıf örneği silindiğinde çağrılan bu metod, nesnenin bellekten kaldırılması veya temizlenmesi gereken herhangi bir işlem için kullanılır.\n",
    "\n",
    "3) **\\_\\_str\\_\\_:** Bir sınıfın insan tarafından okunabilir bir dize temsilini döndüren metodur. str() fonksiyonu veya print() işlevi çağrıldığında otomatik olarak çalışır.\n",
    "\n",
    "4) **\\_\\_rep\\_\\_:** repr() fonksiyonu ile çağrılan ve nesnenin tüm detaylarını içeren bir dize temsilini döndüren metodur. Genellikle hata ayıklama veya nesne temsilini oluşturmak için kullanılır.\n",
    "\n",
    "5) **\\_\\_len\\_\\_:** Bir sınıfın uzunluğunu (eleman sayısını) döndüren metodur. len() fonksiyonu ile kullanılır.\n",
    "\n",
    "6) **\\_\\_getitem\\_\\_ ve \\_\\_setitem\\_\\_:** Bu metodlar, indeksleme (örneğin, my_object[2]) işlemlerini özelleştirmek için kullanılır. __getitem__, nesneden veri almak için, __setitem__ ise nesneye veri eklemek veya güncellemek için kullanılır.\n",
    "\n",
    "7) **\\_\\_call\\_\\_:** Bir nesne gibi davranmasını sağlar. Yani, nesneyi bir fonksiyon gibi çağırabilirsiniz. Özel işlemler veya hesaplamalar yapmak için kullanışlıdır.\n",
    "\n",
    "8) **\\_\\_add\\_\\_ ve \\_\\_sub\\_\\_:** Bu metodlar, nesnelerin toplama veya çıkarma işlemlerini özelleştirmek için kullanılır. Örneğin, iki nesneyi toplamak veya bir nesneyi diğerinden çıkarmak gibi işlemler için kullanılabilir."
   ]
  },
  {
   "cell_type": "code",
   "execution_count": 6,
   "metadata": {},
   "outputs": [
    {
     "name": "stdout",
     "output_type": "stream",
     "text": [
      "[5, 7, 9]\n",
      "[-3, -3, -3]\n",
      "False\n",
      "[5, 6, 4, 2]\n",
      "[3, 6, 4]\n"
     ]
    }
   ],
   "source": [
    "# Mylist adında özel bir sınıf tanımlanıyor, bu sınıf Python'ın temel 'list' sınıfını miras alıyor.\n",
    "class Mylist(list):\n",
    "    # __add__ metodu, + operatörünün aşırı yüklenmesi için kullanılır.\n",
    "    def __add__(self, other):\n",
    "        # İki listenin eleman sayıları eşit olmalıdır, aksi takdirde toplama işlemi yapılamaz.\n",
    "        if len(self) != len(other):\n",
    "            return \"Bu elemanlar toplanamaz\"\n",
    "        else:\n",
    "            # Yeni bir Mylist nesnesi oluşturulur.\n",
    "            result = Mylist()\n",
    "            for i in range(len(self)):\n",
    "                # İki listenin elemanlarını toplar ve sonucu yeni listeye ekler.\n",
    "                result.append(self[i] + other[i])\n",
    "            return result\n",
    "\n",
    "    # __sub__ metodu, - operatörünün aşırı yüklenmesi için kullanılır.\n",
    "    def __sub__(self, other):\n",
    "        # İki listenin eleman sayıları eşit olmalıdır, aksi takdirde çıkarma işlemi yapılamaz.\n",
    "        if len(self) != len(other):\n",
    "            return \"Bu elemanlar çıkarılamaz\"\n",
    "        else:\n",
    "            # Yeni bir Mylist nesnesi oluşturulur.\n",
    "            result = Mylist()\n",
    "            for i in range(len(self)):\n",
    "                # İki listenin elemanlarını çıkarır ve sonucu yeni listeye ekler.\n",
    "                result.append(self[i] - other[i])\n",
    "            return result\n",
    "\n",
    "    # __eq__ metodu, == operatörünün aşırı yüklenmesi için kullanılır.\n",
    "    def __eq__(self, other):\n",
    "        # İki listenin elemanlarının toplamı eşitse True, aksi takdirde False döner.\n",
    "        if sum(self) == sum(other):\n",
    "            return True\n",
    "        return False\n",
    "\n",
    "    # __abs__ metodu, abs() fonksiyonunun aşırı yüklenmesi için kullanılır.\n",
    "    def __abs__(self):\n",
    "        # Yeni bir Mylist nesnesi oluşturulur.\n",
    "        result = Mylist()\n",
    "        for i in self:\n",
    "            # Elemanların mutlak değerlerini alır ve sonucu yeni listeye ekler.\n",
    "            if i >= 0:\n",
    "                result.append(i)\n",
    "            else:\n",
    "                result.append(i * -1)\n",
    "        return result\n",
    "\n",
    "# Mylist sınıfı tanımlandı, şimdi bu sınıfı kullanabiliriz.\n",
    "\n",
    "\n",
    "\n",
    "liste1 = Mylist([1,2,3])\n",
    "liste2 = Mylist([4,5,6])\n",
    "liste3 = Mylist([-5,-6,4,-2])\n",
    "liste4 = Mylist([3,-6,4])\n",
    "\n",
    "print(liste1 + liste2)\n",
    "print(liste1 - liste2)\n",
    "print(liste1 == liste2)\n",
    "print(abs(liste3))\n",
    "print(abs(liste4))"
   ]
  },
  {
   "cell_type": "code",
   "execution_count": 10,
   "metadata": {},
   "outputs": [
    {
     "name": "stdout",
     "output_type": "stream",
     "text": [
      "False\n",
      "True\n",
      "YY\n",
      "AK\n"
     ]
    }
   ],
   "source": [
    "# Futbolcu adında bir sınıf tanımlanıyor.\n",
    "class Futbolcu:\n",
    "    # Yapıcı (constructor) metodu, sınıfın özelliklerini başlatır.\n",
    "    def __init__(self, ad, soyad, yas):\n",
    "        self.ad = ad  # Futbolcunun adı\n",
    "        self.soyad = soyad  # Futbolcunun soyadı\n",
    "        self.yas = yas  # Futbolcunun yaşı\n",
    "\n",
    "    # __eq__ metodu, iki futbolcunun karşılaştırılması için kullanılır.\n",
    "    def __eq__(self, other):\n",
    "        # Eğer iki futbolcunun adları ve soyadları aynı ise True döner, aksi takdirde False döner.\n",
    "        if self.ad == other.ad and self.soyad == other.soyad:\n",
    "            return True\n",
    "        return False\n",
    "\n",
    "    # __add__ metodu, iki futbolcunun toplanmasını temsil eder.\n",
    "    def __add__(self, other):\n",
    "        # Yeni bir futbolcu oluşturmak için ad, soyad ve yaş toplanır.\n",
    "        ad = self.ad[0] + other.ad[0]  # İlk harf\n",
    "        soyad = self.soyad[0] + other.soyad[0]  # İlk harf\n",
    "        yas = self.yas + other.yas\n",
    "        # Yeni bir Futbolcu nesnesi oluşturulur ve döndürülür.\n",
    "        return Futbolcu(ad, soyad, yas)\n",
    "\n",
    "# Futbolcu nesneleri oluşturuluyor.\n",
    "futbolcu1 = Futbolcu(\"Yasin\", \"Altuntas\", 14)\n",
    "futbolcu2 = Futbolcu(\"Yasin\", \"Keskin\", 17)\n",
    "futbolcu3 = Futbolcu(\"Yasin\", \"Altuntas\", 25)\n",
    "\n",
    "# İki futbolcu nesnesi toplanıyor ve yeni bir futbolcu nesnesi oluşturuluyor.\n",
    "futbolcu4 = futbolcu1 + futbolcu2\n",
    "\n",
    "# Karşılaştırmalar ve sonuçlar yazdırılıyor.\n",
    "print(futbolcu1 == futbolcu2)  # False, çünkü adlar aynı ancak soyadları farklı.\n",
    "print(futbolcu1 == futbolcu3)  # True, çünkü adlar ve soyadlar aynı.\n",
    "print(futbolcu4.ad)  # \"YY\", iki futbolcunun adlarının ilk harfleri birleştirildi.\n",
    "print(futbolcu4.soyad)  # \"AK\", iki futbolcunun soyadlarının ilk harfleri birleştirildi.\n",
    "\n"
   ]
  },
  {
   "cell_type": "code",
   "execution_count": 1,
   "metadata": {},
   "outputs": [
    {
     "name": "stdout",
     "output_type": "stream",
     "text": [
      "Movie objesi oluşturuldu\n",
      "Filmin adı by Filmin Yönetmeni\n",
      "120\n"
     ]
    }
   ],
   "source": [
    "class Movie():\n",
    "    def __init__(self, title, director, duration):\n",
    "        self.title = title\n",
    "        self.director = director\n",
    "        self.duration = duration\n",
    "        print(\"Movie objesi oluşturuldu\")\n",
    "    \n",
    "    def __str__(self):\n",
    "        return f\"{self.title} by {self.director}\"\n",
    "    \n",
    "    def __len__(self):\n",
    "        return self.duration\n",
    "    \n",
    "m = Movie(\"Filmin adı\", \"Yönetmen adı\", 120)\n",
    "print(str(m))\n",
    "print(len(m))"
   ]
  },
  {
   "cell_type": "code",
   "execution_count": 4,
   "metadata": {},
   "outputs": [
    {
     "name": "stdout",
     "output_type": "stream",
     "text": [
      "Ad: Ali Soyad: Veli Yaş: 20\n",
      "Ogrenci(\"Ali\", \"Veli\" , \"20\")\n",
      "Ad: Ali Soyad: Veli Yaş: 20\n"
     ]
    }
   ],
   "source": [
    "# str ve repr özelleştirme\n",
    "\n",
    "class Ogrenci:\n",
    "    def __init__(self, ad, soyad, yas):\n",
    "        self.ad = ad\n",
    "        self.soyad = soyad\n",
    "        self.yas = yas\n",
    "\n",
    "    def __str__(self):\n",
    "        return f\"Ad: {self.ad} Soyad: {self.soyad} Yaş: {self.yas}\"\n",
    "    \n",
    "    def __repr__(self):\n",
    "        return f'Ogrenci(\"{self.ad}\", \"{self.soyad}\" , \"{self.yas}\")'\n",
    "    \n",
    "\n",
    "ogrenci1 = Ogrenci(\"Ali\", \"Veli\", 20)\n",
    "print(ogrenci1)\n",
    "print(ogrenci1.__repr__())\n",
    "\n",
    "ogrenci2 = Ogrenci(\"Ali\", \"Veli\" , \"20\")\n",
    "print(ogrenci2)"
   ]
  },
  {
   "cell_type": "code",
   "execution_count": null,
   "metadata": {},
   "outputs": [],
   "source": []
  }
 ],
 "metadata": {
  "kernelspec": {
   "display_name": "Python 3",
   "language": "python",
   "name": "python3"
  },
  "language_info": {
   "codemirror_mode": {
    "name": "ipython",
    "version": 3
   },
   "file_extension": ".py",
   "mimetype": "text/x-python",
   "name": "python",
   "nbconvert_exporter": "python",
   "pygments_lexer": "ipython3",
   "version": "3.11.2"
  }
 },
 "nbformat": 4,
 "nbformat_minor": 2
}
