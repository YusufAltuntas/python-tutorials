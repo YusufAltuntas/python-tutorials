{
 "cells": [
  {
   "cell_type": "markdown",
   "metadata": {},
   "source": [
    "### KOŞULLU DURUMLAR (İF, ELİF, ELSE)\n",
    "\n",
    "- Python'da if, elif, ve else ifadeleri, koşullu ifadeleri kontrol etmek ve programınızın farklı yollarını seçmesini sağlamak için kullanılır. Bu ifadeler, programınızın belirli şartlara veya koşullara bağlı olarak farklı işlemleri gerçekleştirmesine olanak tanır."
   ]
  },
  {
   "cell_type": "markdown",
   "metadata": {},
   "source": [
    "## 1- if İfadesi\n",
    "\n",
    "    * if ifadesi, belirli bir koşulu kontrol etmek için kullanılır. Eğer koşul doğruysa, belirtilen kod bloğu çalıştırılır. Aksi takdirde, bu blok atlanır ve programın devamı çalışır. İfadenin genel yapısı şu şekildedir:"
   ]
  },
  {
   "cell_type": "code",
   "execution_count": 1,
   "metadata": {},
   "outputs": [
    {
     "name": "stdout",
     "output_type": "stream",
     "text": [
      "x pozitif bir sayıdır.\n"
     ]
    }
   ],
   "source": [
    "x = 5\n",
    "if x > 0:\n",
    "    print(\"x pozitif bir sayıdır.\")"
   ]
  },
  {
   "cell_type": "markdown",
   "metadata": {},
   "source": [
    "## 2- elif İfadesi (İsteğe Bağlı)\n",
    "\n",
    "    * elif ifadesi, birden fazla koşulu sırayla kontrol etmek için kullanılır. İlk if ifadesi doğru değilse ve bir veya daha fazla elif ifadesi varsa, Python bu elif ifadelerini sırayla kontrol eder ve ilk doğru olanı bulduğunda ilgili kod bloğunu çalıştırır. elif ifadesi isteğe bağlıdır ve birden fazla olabilir."
   ]
  },
  {
   "cell_type": "code",
   "execution_count": null,
   "metadata": {},
   "outputs": [],
   "source": [
    "x = 5\n",
    "if x > 0:\n",
    "    print(\"x pozitif bir sayıdır.\")\n",
    "elif x < 0:\n",
    "    print(\"x negatif bir sayıdır.\")\n",
    "else:\n",
    "    print(\"x sıfırdır.\")\n"
   ]
  },
  {
   "cell_type": "markdown",
   "metadata": {},
   "source": [
    "## 3- else İfadesi (İsteğe Bağlı)\n",
    "\n",
    "    * else ifadesi, hiçbir if veya elif koşulu doğru değilse çalıştırılacak kod bloğunu tanımlamak için kullanılır. else ifadesi de isteğe bağlıdır ve yalnızca bir kez kullanılabilir.\n",
    "    "
   ]
  },
  {
   "cell_type": "code",
   "execution_count": null,
   "metadata": {},
   "outputs": [],
   "source": [
    "x = 5\n",
    "if x > 0:\n",
    "    print(\"x pozitif bir sayıdır.\")\n",
    "else:\n",
    "    print(\"x pozitif değil veya sıfırdır.\")\n"
   ]
  },
  {
   "cell_type": "markdown",
   "metadata": {},
   "source": [
    "    * Python'da is, in, not, or, ve and gibi ifadeler, farklı koşullu ifadeleri oluşturmak ve karşılaştırmalar yapmak için kullanılır. İşte bu ifadelerin her biri hakkında detaylı açıklamalar:\n",
    "\n",
    "    A) is İfadesi:\n",
    "\n",
    "- is, iki nesnenin aynı nesne olup olmadığını kontrol etmek için kullanılır. Yani, iki nesne aynı bellek alanını gösteriyorsa, is ifadesi True (doğru) değerini döndürür. Bu, referans karşılaştırması yapmak için kullanışlıdır.\n",
    "\n",
    "Örnek bir kullanım:"
   ]
  },
  {
   "cell_type": "code",
   "execution_count": 2,
   "metadata": {},
   "outputs": [
    {
     "name": "stdout",
     "output_type": "stream",
     "text": [
      "True\n",
      "False\n"
     ]
    }
   ],
   "source": [
    "x = [1, 2, 3]\n",
    "y = x  # x ve y aynı nesneyi gösteriyor\n",
    "z = [1, 2, 3]\n",
    "\n",
    "print(x is y)  # True\n",
    "print(x is z)  # False\n"
   ]
  },
  {
   "cell_type": "markdown",
   "metadata": {},
   "source": [
    "    B) in İfadesi:\n",
    "\n",
    "- in, bir nesnenin başka bir nesnenin içinde olup olmadığını kontrol etmek için kullanılır. Özellikle dize içinde karakterlerin veya bir liste içinde bir elemanın bulunup bulunmadığını kontrol etmek için kullanılır."
   ]
  },
  {
   "cell_type": "code",
   "execution_count": null,
   "metadata": {},
   "outputs": [],
   "source": [
    "text = \"Merhaba, dünya!\"\n",
    "print(\"Merhaba\" in text)  # True\n",
    "print(\"Python\" in text)    # False\n",
    "\n",
    "numbers = [1, 2, 3, 4, 5]\n",
    "print(3 in numbers)  # True\n",
    "print(6 in numbers)  # False"
   ]
  },
  {
   "cell_type": "markdown",
   "metadata": {},
   "source": [
    "    C) or İfadesi:\n",
    "\n",
    "- or, iki veya daha fazla koşulu kontrol etmek ve bu koşullardan herhangi biri doğruysa kodu çalıştırmak için kullanılır. En az bir koşul doğruysa, or ifadesi True (doğru) değerini döndürür.\n",
    "\n",
    "Örnek bir kullanım:"
   ]
  },
  {
   "cell_type": "code",
   "execution_count": null,
   "metadata": {},
   "outputs": [],
   "source": [
    "x = 5\n",
    "y = 10\n",
    "\n",
    "if x > 3 or y < 5:\n",
    "    print(\"En az bir koşul doğru.\")\n"
   ]
  },
  {
   "cell_type": "markdown",
   "metadata": {},
   "source": [
    "    D) and İfadesi:\n",
    "\n",
    "- and, iki veya daha fazla koşulu kontrol etmek ve bu koşulların hepsi doğruysa kodu çalıştırmak için kullanılır. Tüm koşullar doğruysa, and ifadesi True (doğru) değerini döndürür.\n",
    "\n",
    "Örnek bir kullanım:"
   ]
  },
  {
   "cell_type": "code",
   "execution_count": null,
   "metadata": {},
   "outputs": [],
   "source": [
    "x = 5\n",
    "y = 10\n",
    "\n",
    "if x > 3 and y < 15:\n",
    "    print(\"Tüm koşullar doğru.\")\n"
   ]
  }
 ],
 "metadata": {
  "kernelspec": {
   "display_name": "Python 3",
   "language": "python",
   "name": "python3"
  },
  "language_info": {
   "codemirror_mode": {
    "name": "ipython",
    "version": 3
   },
   "file_extension": ".py",
   "mimetype": "text/x-python",
   "name": "python",
   "nbconvert_exporter": "python",
   "pygments_lexer": "ipython3",
   "version": "3.11.2"
  },
  "orig_nbformat": 4
 },
 "nbformat": 4,
 "nbformat_minor": 2
}
