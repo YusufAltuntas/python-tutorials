{
 "cells": [
  {
   "cell_type": "code",
   "execution_count": 4,
   "metadata": {},
   "outputs": [
    {
     "name": "stdout",
     "output_type": "stream",
     "text": [
      "233168\n",
      "233168\n"
     ]
    }
   ],
   "source": [
    "# Problem 1 => 1000 den küçük olup 3 veya 5 e tam bölünen sayıların toplamı\n",
    "\n",
    "'''\n",
    "ÇÖZÜM 1\n",
    "'''\n",
    "\n",
    "toplam = 0\n",
    "for i in range(1000):\n",
    "    if i % 3 == 0 or i % 5 == 0:\n",
    "        toplam += i\n",
    "\n",
    "print(toplam)\n",
    "\n",
    "\n",
    "'''\n",
    "ÇÖZÜM 2\n",
    "'''\n",
    "\n",
    "def check(x):\n",
    "    if x % 3 == 0 or x % 5 == 0:\n",
    "        return True\n",
    "    else:\n",
    "        return False\n",
    "    \n",
    "sum = 0\n",
    "\n",
    "for x in range(1000):\n",
    "    if check(x):\n",
    "        sum += x\n",
    "\n",
    "print(sum)\n"
   ]
  },
  {
   "cell_type": "code",
   "execution_count": 5,
   "metadata": {},
   "outputs": [
    {
     "name": "stdout",
     "output_type": "stream",
     "text": [
      "4613732\n"
     ]
    }
   ],
   "source": [
    "# Problem 2 => 4 milyondan küçük Fibonacci sayıları arasından çift olanların toplamı kaçtır?\n",
    "\n",
    "fibonacci_list = [1,1]\n",
    "index = 2\n",
    "\n",
    "while True:\n",
    "    fibonacci_list.append(fibonacci_list[index - 1] + fibonacci_list[index - 2])\n",
    "    index += 1\n",
    "    if max(fibonacci_list) >= 4000000:\n",
    "        break\n",
    "\n",
    "toplam = 0\n",
    "for sayi in fibonacci_list:\n",
    "    if sayi % 2 == 0:\n",
    "        toplam += sayi\n",
    "\n",
    "print(toplam)\n"
   ]
  },
  {
   "cell_type": "code",
   "execution_count": 6,
   "metadata": {},
   "outputs": [
    {
     "name": "stdout",
     "output_type": "stream",
     "text": [
      "6857\n"
     ]
    }
   ],
   "source": [
    "# Problwm 3 => 600851475143 sayısının en büyük asal çarpanı nedir?\n",
    "\n",
    "import math\n",
    "\n",
    "def prime_check(x):\n",
    "    is_prime = True\n",
    "\n",
    "    for i in range(2, int(math.sqrt(x)) + 1):\n",
    "        if x % i == 0:\n",
    "            is_prime = False\n",
    "            continue\n",
    "        \n",
    "    return is_prime\n",
    "\n",
    "number = 600851475143\n",
    "biggest_prime = 1\n",
    "for i in range(2, int(math.sqrt(number)) +1):\n",
    "    if number % i == 0 and prime_check(i):\n",
    "        biggest_prime = i\n",
    "\n",
    "print(biggest_prime)\n",
    "\n",
    "\n",
    "\n",
    "\n"
   ]
  },
  {
   "cell_type": "code",
   "execution_count": 19,
   "metadata": {},
   "outputs": [
    {
     "name": "stdout",
     "output_type": "stream",
     "text": [
      "906609\n"
     ]
    }
   ],
   "source": [
    "# Problem 4 => 2 adet 3 haneli sayıyı çarparak elde edilecek en büyük palindrom sayı kaçtır? (palindrom sayı: baştan ve sondan okunuşu aynı olan sayılar)\n",
    "\n",
    "def palindrom_check(x):\n",
    "    str_number = str(x)\n",
    "    reverse_number = str_number[::-1]\n",
    "    if str_number == reverse_number:\n",
    "        return True\n",
    "    else:\n",
    "        return False   \n",
    "\n",
    "biggest_palindrome = 0\n",
    "for i in range(100,1000):\n",
    "    for j in range(100,1000):\n",
    "        if palindrom_check(i * j) and (i * j) > biggest_palindrome:\n",
    "            biggest_palindrome = i * j\n",
    "\n",
    "print(biggest_palindrome)\n",
    "\n"
   ]
  },
  {
   "cell_type": "code",
   "execution_count": 12,
   "metadata": {},
   "outputs": [
    {
     "name": "stdout",
     "output_type": "stream",
     "text": [
      "1'den 20'ye kadar bütün tam sayılara kalansız bölünebilen en küçük sayı: 232792560\n"
     ]
    }
   ],
   "source": [
    "# Problem 5 => 1 den 20 ye kadar olan tüm sayılara kalansız bölünen sayı kaçtır? (çözülemedi)\n",
    "\n",
    "def en_kucuk_bolunen_sayi():\n",
    "    sayi = 20\n",
    "    while True:\n",
    "        tam_bolunuyor = True\n",
    "        for i in range(1, 21):\n",
    "            if sayi % i != 0:\n",
    "                tam_bolunuyor = False\n",
    "                break\n",
    "        if tam_bolunuyor:\n",
    "            return sayi\n",
    "        sayi += 20\n",
    "\n",
    "sonuc = en_kucuk_bolunen_sayi()\n",
    "print(\"1'den 20'ye kadar bütün tam sayılara kalansız bölünebilen en küçük sayı:\", sonuc)\n"
   ]
  },
  {
   "cell_type": "code",
   "execution_count": 21,
   "metadata": {},
   "outputs": [
    {
     "name": "stdout",
     "output_type": "stream",
     "text": [
      "25164150\n"
     ]
    }
   ],
   "source": [
    "# Problem 6 => İlk 100 doğal sayının karelerinin toplamı ile toplamlarının karesi kaçtır?\n",
    "\n",
    "sum1 = 0\n",
    "sum2 = 0\n",
    "\n",
    "for i in range(1,101):\n",
    "    sum1 += i\n",
    "\n",
    "for i in range(1,101):\n",
    "    sum2 += i ** 2\n",
    "\n",
    "print((sum1 ** 2) - sum2)\n"
   ]
  },
  {
   "cell_type": "code",
   "execution_count": 30,
   "metadata": {},
   "outputs": [
    {
     "name": "stdout",
     "output_type": "stream",
     "text": [
      "104743\n"
     ]
    }
   ],
   "source": [
    "# Problem 7 => 10001 inci asal sayı kaçtır?\n",
    "\n",
    "import math\n",
    "prime_count = 0\n",
    "\n",
    "def prime_check(x):\n",
    "    is_prime = True\n",
    "    if x == 2:\n",
    "        return True\n",
    "    else:\n",
    "        for i in range(2, int(math. sqrt(x) + 1)):\n",
    "            if x % i == 0:\n",
    "                is_prime = False\n",
    "                break\n",
    "        return is_prime\n",
    "\n",
    "sayi = 2\n",
    "while True:\n",
    "    prime_check(sayi)\n",
    "    if prime_check(sayi):\n",
    "        prime_count += 1\n",
    "    if prime_count == 10001:\n",
    "        break\n",
    "    sayi += 1\n",
    "\n",
    "print(sayi)"
   ]
  },
  {
   "cell_type": "code",
   "execution_count": 39,
   "metadata": {},
   "outputs": [
    {
     "name": "stdout",
     "output_type": "stream",
     "text": [
      "23514624000\n"
     ]
    }
   ],
   "source": [
    "# Problem 8 => Verilen sayıda ard arda gelen 13 sayıdan toplamları en büyük olan 13 lü sayı grubu nedir?\n",
    "\n",
    "num = \"\"\"73167176531330624919225119674426574742355349194934\n",
    "96983520312774506326239578318016984801869478851843\n",
    "85861560789112949495459501737958331952853208805511\n",
    "12540698747158523863050715693290963295227443043557\n",
    "66896648950445244523161731856403098711121722383113\n",
    "62229893423380308135336276614282806444486645238749\n",
    "30358907296290491560440772390713810515859307960866\n",
    "70172427121883998797908792274921901699720888093776\n",
    "65727333001053367881220235421809751254540594752243\n",
    "52584907711670556013604839586446706324415722155397\n",
    "53697817977846174064955149290862569321978468622482\n",
    "83972241375657056057490261407972968652414535100474\n",
    "82166370484403199890008895243450658541227588666881\n",
    "16427171479924442928230863465674813919123162824586\n",
    "17866458359124566529476545682848912883142607690042\n",
    "24219022671055626321111109370544217506941658960408\n",
    "07198403850962455444362981230987879927244284909188\n",
    "84580156166097919133875499200524063689912560717606\n",
    "05886116467109405077541002256983155200055935729725\n",
    "71636269561882670428252483600823257530420752963450\"\"\"\n",
    "\n",
    "\n",
    "liste = num.split(\"\\n\")\n",
    "num2 = \"\"\n",
    "max_carpim = 0\n",
    "\n",
    "for i in liste:\n",
    "    num2 += i\n",
    "\n",
    "for i in range(0,len(num2) - 12):\n",
    "    carpim = 1\n",
    "    for j in num2[i:i+13]:\n",
    "        carpim *= int(j)\n",
    "    if carpim > max_carpim:\n",
    "        max_carpim = carpim\n",
    "\n",
    "print(max_carpim)"
   ]
  },
  {
   "cell_type": "code",
   "execution_count": 44,
   "metadata": {},
   "outputs": [
    {
     "name": "stdout",
     "output_type": "stream",
     "text": [
      "31875000\n",
      "31875000\n"
     ]
    }
   ],
   "source": [
    "# Problem 9 => Toplamları 1000 olan pisagor üçlüsünün çarpımı kaçtır?\n",
    "\n",
    "for a in range(1,1000):\n",
    "    for b in range(1,1000 - a):\n",
    "        c = 1000 - (a + b)\n",
    "        if c*c == (a * a) + (b * b):\n",
    "            print(a*b*c)\n",
    "            break\n"
   ]
  },
  {
   "cell_type": "code",
   "execution_count": 4,
   "metadata": {},
   "outputs": [
    {
     "name": "stdout",
     "output_type": "stream",
     "text": [
      "142913828922\n"
     ]
    }
   ],
   "source": [
    "# Problem 10 => 2 milyondan küçük asal sayıların toplamı nedir?\n",
    "\n",
    "import math\n",
    "\n",
    "def prime_check(x):\n",
    "    is_prime = True\n",
    "    if x == 2:\n",
    "        return True\n",
    "    for i in range(2, int(math.sqrt(x)) + 1):\n",
    "        if x % i == 0:\n",
    "            is_prime = False\n",
    "            break\n",
    "    else:\n",
    "        return is_prime\n",
    "    \n",
    "number = 2\n",
    "sum_prime = 0\n",
    "while True:\n",
    "    if number == 2000000:\n",
    "        break\n",
    "    if prime_check(number):\n",
    "        sum_prime += number\n",
    "    number += 1\n",
    "\n",
    "print(sum_prime)"
   ]
  },
  {
   "cell_type": "code",
   "execution_count": null,
   "metadata": {},
   "outputs": [],
   "source": [
    "# Problem 11(çözülecek)"
   ]
  },
  {
   "cell_type": "code",
   "execution_count": null,
   "metadata": {},
   "outputs": [],
   "source": [
    "# Problem 12(çözülemedi)"
   ]
  },
  {
   "cell_type": "code",
   "execution_count": 8,
   "metadata": {},
   "outputs": [
    {
     "name": "stdout",
     "output_type": "stream",
     "text": [
      "5537376230\n"
     ]
    }
   ],
   "source": [
    "# Problem 13\n",
    "\n",
    "big_number = \"\"\"37107287533902102798797998220837590246510135740250\n",
    "46376937677490009712648124896970078050417018260538\n",
    "74324986199524741059474233309513058123726617309629\n",
    "91942213363574161572522430563301811072406154908250\n",
    "23067588207539346171171980310421047513778063246676\n",
    "89261670696623633820136378418383684178734361726757\n",
    "28112879812849979408065481931592621691275889832738\n",
    "44274228917432520321923589422876796487670272189318\n",
    "47451445736001306439091167216856844588711603153276\n",
    "70386486105843025439939619828917593665686757934951\n",
    "62176457141856560629502157223196586755079324193331\n",
    "64906352462741904929101432445813822663347944758178\n",
    "92575867718337217661963751590579239728245598838407\n",
    "58203565325359399008402633568948830189458628227828\n",
    "80181199384826282014278194139940567587151170094390\n",
    "35398664372827112653829987240784473053190104293586\n",
    "86515506006295864861532075273371959191420517255829\n",
    "71693888707715466499115593487603532921714970056938\n",
    "54370070576826684624621495650076471787294438377604\n",
    "53282654108756828443191190634694037855217779295145\n",
    "36123272525000296071075082563815656710885258350721\n",
    "45876576172410976447339110607218265236877223636045\n",
    "17423706905851860660448207621209813287860733969412\n",
    "81142660418086830619328460811191061556940512689692\n",
    "51934325451728388641918047049293215058642563049483\n",
    "62467221648435076201727918039944693004732956340691\n",
    "15732444386908125794514089057706229429197107928209\n",
    "55037687525678773091862540744969844508330393682126\n",
    "18336384825330154686196124348767681297534375946515\n",
    "80386287592878490201521685554828717201219257766954\n",
    "78182833757993103614740356856449095527097864797581\n",
    "16726320100436897842553539920931837441497806860984\n",
    "48403098129077791799088218795327364475675590848030\n",
    "87086987551392711854517078544161852424320693150332\n",
    "59959406895756536782107074926966537676326235447210\n",
    "69793950679652694742597709739166693763042633987085\n",
    "41052684708299085211399427365734116182760315001271\n",
    "65378607361501080857009149939512557028198746004375\n",
    "35829035317434717326932123578154982629742552737307\n",
    "94953759765105305946966067683156574377167401875275\n",
    "88902802571733229619176668713819931811048770190271\n",
    "25267680276078003013678680992525463401061632866526\n",
    "36270218540497705585629946580636237993140746255962\n",
    "24074486908231174977792365466257246923322810917141\n",
    "91430288197103288597806669760892938638285025333403\n",
    "34413065578016127815921815005561868836468420090470\n",
    "23053081172816430487623791969842487255036638784583\n",
    "11487696932154902810424020138335124462181441773470\n",
    "63783299490636259666498587618221225225512486764533\n",
    "67720186971698544312419572409913959008952310058822\n",
    "95548255300263520781532296796249481641953868218774\n",
    "76085327132285723110424803456124867697064507995236\n",
    "37774242535411291684276865538926205024910326572967\n",
    "23701913275725675285653248258265463092207058596522\n",
    "29798860272258331913126375147341994889534765745501\n",
    "18495701454879288984856827726077713721403798879715\n",
    "38298203783031473527721580348144513491373226651381\n",
    "34829543829199918180278916522431027392251122869539\n",
    "40957953066405232632538044100059654939159879593635\n",
    "29746152185502371307642255121183693803580388584903\n",
    "41698116222072977186158236678424689157993532961922\n",
    "62467957194401269043877107275048102390895523597457\n",
    "23189706772547915061505504953922979530901129967519\n",
    "86188088225875314529584099251203829009407770775672\n",
    "11306739708304724483816533873502340845647058077308\n",
    "82959174767140363198008187129011875491310547126581\n",
    "97623331044818386269515456334926366572897563400500\n",
    "42846280183517070527831839425882145521227251250327\n",
    "55121603546981200581762165212827652751691296897789\n",
    "32238195734329339946437501907836945765883352399886\n",
    "75506164965184775180738168837861091527357929701337\n",
    "62177842752192623401942399639168044983993173312731\n",
    "32924185707147349566916674687634660915035914677504\n",
    "99518671430235219628894890102423325116913619626622\n",
    "73267460800591547471830798392868535206946944540724\n",
    "76841822524674417161514036427982273348055556214818\n",
    "97142617910342598647204516893989422179826088076852\n",
    "87783646182799346313767754307809363333018982642090\n",
    "10848802521674670883215120185883543223812876952786\n",
    "71329612474782464538636993009049310363619763878039\n",
    "62184073572399794223406235393808339651327408011116\n",
    "66627891981488087797941876876144230030984490851411\n",
    "60661826293682836764744779239180335110989069790714\n",
    "85786944089552990653640447425576083659976645795096\n",
    "66024396409905389607120198219976047599490197230297\n",
    "64913982680032973156037120041377903785566085089252\n",
    "16730939319872750275468906903707539413042652315011\n",
    "94809377245048795150954100921645863754710598436791\n",
    "78639167021187492431995700641917969777599028300699\n",
    "15368713711936614952811305876380278410754449733078\n",
    "40789923115535562561142322423255033685442488917353\n",
    "44889911501440648020369068063960672322193204149535\n",
    "41503128880339536053299340368006977710650566631954\n",
    "81234880673210146739058568557934581403627822703280\n",
    "82616570773948327592232845941706525094512325230608\n",
    "22918802058777319719839450180888072429661980811197\n",
    "77158542502016545090413245809786882778948721859617\n",
    "72107838435069186155435662884062257473692284509516\n",
    "20849603980134001723930671666823555245252804609722\n",
    "53503534226472524250874054075591789781264330331690\"\"\"\n",
    "\n",
    "big_number_split = big_number.split(\"\\n\")\n",
    "\n",
    "sum_big_number = 0\n",
    "\n",
    "for i in big_number_split:\n",
    "    sum_big_number += int(i)\n",
    "\n",
    "print(str(sum_big_number)[:10])\n"
   ]
  },
  {
   "cell_type": "code",
   "execution_count": null,
   "metadata": {},
   "outputs": [],
   "source": [
    "# Problem 14(basit, daha sonra yapıcam)\n",
    "\n"
   ]
  },
  {
   "cell_type": "code",
   "execution_count": 11,
   "metadata": {},
   "outputs": [
    {
     "name": "stdout",
     "output_type": "stream",
     "text": [
      "1366\n"
     ]
    }
   ],
   "source": [
    "# Problem 16\n",
    "\n",
    "üs = pow(2,1000)\n",
    "üs_toplam = 0\n",
    "for i in str(üs):\n",
    "    üs_toplam += int(i)\n",
    "\n",
    "print(üs_toplam)\n"
   ]
  },
  {
   "cell_type": "code",
   "execution_count": 17,
   "metadata": {},
   "outputs": [
    {
     "name": "stdout",
     "output_type": "stream",
     "text": [
      "648\n"
     ]
    }
   ],
   "source": [
    "# Problem 20\n",
    "\n",
    "def fact(x):\n",
    "    faktoriyel = 1\n",
    "    for i in range(1,x + 1):\n",
    "        faktoriyel *= i\n",
    "    return faktoriyel\n",
    "\n",
    "sum_faktoriyel = 0\n",
    "for i in str(fact(100)):\n",
    "    sum_faktoriyel += int(i)\n",
    "\n",
    "print(sum_faktoriyel)"
   ]
  },
  {
   "cell_type": "code",
   "execution_count": 1,
   "metadata": {},
   "outputs": [
    {
     "name": "stdout",
     "output_type": "stream",
     "text": [
      "31626\n"
     ]
    }
   ],
   "source": [
    "# Problem 21\n",
    "\n",
    "def sum_of_divisors(x):\n",
    "    bolenler = 0\n",
    "    for i in range(1, x):\n",
    "        if x % i == 0:\n",
    "            bolenler += i\n",
    "    return bolenler\n",
    "\n",
    "amicable_sum = 0\n",
    "\n",
    "for i in range(1, 10001):\n",
    "    bolenler_i = sum_of_divisors(i)\n",
    "    if i != bolenler_i and i == sum_of_divisors(bolenler_i):\n",
    "        amicable_sum += i\n",
    "\n",
    "print(amicable_sum)\n"
   ]
  },
  {
   "cell_type": "code",
   "execution_count": 17,
   "metadata": {},
   "outputs": [
    {
     "name": "stdout",
     "output_type": "stream",
     "text": [
      "871198282\n"
     ]
    }
   ],
   "source": [
    "# Problem 22\n",
    "\n",
    "import string\n",
    "\n",
    "with open(r\"C:\\Users\\Yusuf Altuntaş\\Desktop\\projecteuler.net_resources_documents_0022_names.txt\") as f:\n",
    "    names = f.read()\n",
    "\n",
    "sozluk = dict()\n",
    "alfabe = string.ascii_uppercase\n",
    "harf_degeri = 1\n",
    "\n",
    "for harf in alfabe:\n",
    "    sozluk[harf] = harf_degeri\n",
    "    harf_degeri += 1\n",
    "\n",
    "names = names.split(\",\")\n",
    "list.sort(names)\n",
    "\n",
    "index = 1\n",
    "toplam_deger = 0\n",
    "for name in names:\n",
    "    name = name[1:len(name) -1]\n",
    "    for harf in name:\n",
    "        toplam_deger += sozluk[harf] * index\n",
    "    index += 1\n",
    "\n",
    "print(toplam_deger)\n",
    "\n"
   ]
  },
  {
   "cell_type": "code",
   "execution_count": 20,
   "metadata": {},
   "outputs": [
    {
     "name": "stdout",
     "output_type": "stream",
     "text": [
      "4782\n"
     ]
    }
   ],
   "source": [
    "# Problem 25 => 1000 basamaklı ilk fibonacci sayısı kaçıncı sıradadır?\n",
    "\n",
    "fibonacci_sayilari = [1,1]\n",
    "index = 2\n",
    "\n",
    "while True:\n",
    "    fibonacci_sayilari.append(fibonacci_sayilari[index - 1] + fibonacci_sayilari[index - 2])\n",
    "    if len(str(fibonacci_sayilari[index])) >= 1000:\n",
    "        break\n",
    "    index += 1\n",
    "\n",
    "print(index + 1)\n",
    "    \n"
   ]
  },
  {
   "cell_type": "code",
   "execution_count": 23,
   "metadata": {},
   "outputs": [
    {
     "name": "stdout",
     "output_type": "stream",
     "text": [
      "9183\n"
     ]
    }
   ],
   "source": [
    "# Problem 29\n",
    "\n",
    "üsler = set()\n",
    "for a in range(2,101):\n",
    "    for b in range(2,101):\n",
    "        üsler.add(a**b)\n",
    "print(len(üsler))"
   ]
  },
  {
   "cell_type": "code",
   "execution_count": 23,
   "metadata": {},
   "outputs": [
    {
     "name": "stdout",
     "output_type": "stream",
     "text": [
      "19317\n"
     ]
    }
   ],
   "source": [
    "# Problem 30\n",
    "\n",
    "def kontrol(x):\n",
    "    is_Armstrong = False \n",
    "    toplam = 0\n",
    "    for i in str(x):\n",
    "        toplam += int(i) ** 4\n",
    "    if toplam == x:\n",
    "        is_Armstrong = True\n",
    "    return is_Armstrong\n",
    "\n",
    "sonuc = 0\n",
    "for x in range(1, 10000001):\n",
    "    if kontrol(x):\n",
    "        sonuc += x\n",
    "\n",
    "print(sonuc)    "
   ]
  },
  {
   "cell_type": "code",
   "execution_count": 22,
   "metadata": {},
   "outputs": [
    {
     "name": "stdout",
     "output_type": "stream",
     "text": [
      "443839\n"
     ]
    }
   ],
   "source": [
    "def sum_of_fifth_powers(n):\n",
    "    return sum(int(digit) ** 5 for digit in str(n))\n",
    "\n",
    "result = 0\n",
    "\n",
    "# 1'den başlayarak muhtemel sayıları kontrol edelim\n",
    "for number in range(10, 1000000):\n",
    "    if number == sum_of_fifth_powers(number):\n",
    "        result += number\n",
    "\n",
    "print(result)\n"
   ]
  },
  {
   "cell_type": "code",
   "execution_count": 13,
   "metadata": {},
   "outputs": [
    {
     "name": "stdout",
     "output_type": "stream",
     "text": [
      "£2'yi oluşturmanın farklı yolları: 73682\n"
     ]
    }
   ],
   "source": [
    "# Problem 31 => \n",
    "\n",
    "def count_coin_combinations(target, coins):\n",
    "    # Çözümü depolamak için bir dizi oluşturun\n",
    "    ways = [0] * (target + 1)\n",
    "    ways[0] = 1  # 0'ı oluşturmanın tek bir yol vardır (boş para kullanma)\n",
    "\n",
    "    # Her bir madeni para için kombinasyonları hesaplayın\n",
    "    for coin in coins:\n",
    "        for i in range(coin, target + 1):\n",
    "            ways[i] += ways[i - coin]\n",
    "\n",
    "    return ways[target]\n",
    "\n",
    "target_amount = 200  # £2'yi ifade eden pence cinsinden miktar\n",
    "available_coins = [1, 2, 5, 10, 20, 50, 100, 200]  # Kullanılabilir madeni paraların değerleri\n",
    "\n",
    "result = count_coin_combinations(target_amount, available_coins)\n",
    "print(\"£2'yi oluşturmanın farklı yolları:\", result)\n"
   ]
  },
  {
   "cell_type": "code",
   "execution_count": null,
   "metadata": {},
   "outputs": [],
   "source": []
  }
 ],
 "metadata": {
  "kernelspec": {
   "display_name": "Python 3",
   "language": "python",
   "name": "python3"
  },
  "language_info": {
   "codemirror_mode": {
    "name": "ipython",
    "version": 3
   },
   "file_extension": ".py",
   "mimetype": "text/x-python",
   "name": "python",
   "nbconvert_exporter": "python",
   "pygments_lexer": "ipython3",
   "version": "3.11.2"
  },
  "orig_nbformat": 4
 },
 "nbformat": 4,
 "nbformat_minor": 2
}
