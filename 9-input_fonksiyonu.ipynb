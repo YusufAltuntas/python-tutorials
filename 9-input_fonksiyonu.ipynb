{
 "cells": [
  {
   "cell_type": "markdown",
   "metadata": {},
   "source": [
    "# * input Fonksiyonu\n",
    "\n",
    "    * Python'da input() fonksiyonu, kullanıcıdan klavye üzerinden veri girişi almak için kullanılır. Bu fonksiyon, bir metin veya sayı girişi alabilir ve bu girdiyi bir karakter dizisi (string) olarak döndürür. İşte input() fonksiyonunu kullanarak yapılabilecek bazı örnekler:"
   ]
  },
  {
   "cell_type": "code",
   "execution_count": 7,
   "metadata": {},
   "outputs": [
    {
     "name": "stdout",
     "output_type": "stream",
     "text": [
      "Favori renkleriniz: ['']\n"
     ]
    }
   ],
   "source": [
    "# Bir dizi veri girişi almak:\n",
    "\n",
    "girdiler = input(\"Favori renklerinizi virgülle ayırarak girin: \")\n",
    "renkler = girdiler.split(',')\n",
    "print(\"Favori renkleriniz:\", renkler)\n",
    "\n",
    "# Bu kod parçası, kullanıcının virgülle ayrılmış favori renklerini alır ve bu renkleri bir liste olarak ekrana yazdırır."
   ]
  },
  {
   "cell_type": "code",
   "execution_count": null,
   "metadata": {},
   "outputs": [],
   "source": [
    "# Sonsuz döngü ile kullanım:\n",
    "\n",
    "while True:\n",
    "    cevap = input(\"Çıkmak için 'q' tuşuna basın: \")\n",
    "    if cevap.lower() == 'q':\n",
    "        break\n",
    "    else:\n",
    "        print(\"Hâlâ buradayız!\")\n",
    "\n",
    "# Bu örnekte, kullanıcı \"q\" tuşuna basana kadar program sonsuz bir döngüde kalır."
   ]
  },
  {
   "cell_type": "code",
   "execution_count": 8,
   "metadata": {},
   "outputs": [
    {
     "name": "stdout",
     "output_type": "stream",
     "text": [
      "120\n"
     ]
    }
   ],
   "source": [
    "# Kullanıcıdan alınan sayının faktöriyelini bulma\n",
    "\n",
    "sayi = int(input(\"Bir sayı giriniz: \"))\n",
    "\n",
    "faktoriyel = 1\n",
    "\n",
    "for i in range(1, sayi +1):\n",
    "    faktoriyel = faktoriyel * i\n",
    "    \n",
    "print(faktoriyel)"
   ]
  },
  {
   "cell_type": "code",
   "execution_count": 14,
   "metadata": {},
   "outputs": [
    {
     "name": "stdout",
     "output_type": "stream",
     "text": [
      "67 Sayısı Asaldır\n"
     ]
    }
   ],
   "source": [
    "# Kullanıcıdan alınan sayının asal olup olmadığını kontrol eden bir program yazalım\n",
    "\n",
    "sayi1 = int(input(\"Bir sayı giriniz\"))\n",
    "\n",
    "for i in range(2, int(sayi1 ** 0.5 + 1 )):\n",
    "    if sayi1 % i == 0:\n",
    "        print(\"{} Sayısı Asal Değildir\".format (sayi1))\n",
    "        break\n",
    "else:\n",
    "    print (\"{} Sayısı Asaldır\".format (sayi1))\n",
    "    "
   ]
  },
  {
   "cell_type": "code",
   "execution_count": 17,
   "metadata": {},
   "outputs": [
    {
     "name": "stdout",
     "output_type": "stream",
     "text": [
      "20 sayısının 6 tane pozitif böleni vardır \n"
     ]
    }
   ],
   "source": [
    "# Kullanıcıdan alınan sayının kaç tane pozitif böleni olduğunu bulan program\n",
    "\n",
    "sayi2 = int(input(\"Bir sayı giriniz:\"))\n",
    "pozitif_bolen = []\n",
    "\n",
    "for i in range(1, sayi2 + 1):\n",
    "    if sayi2 % i == 0:\n",
    "        pozitif_bolen.append(i)\n",
    "    else:\n",
    "        continue\n",
    "\n",
    "print(f\"{sayi2} sayısının {len(pozitif_bolen)} tane pozitif böleni vardır \")"
   ]
  },
  {
   "cell_type": "code",
   "execution_count": 18,
   "metadata": {},
   "outputs": [
    {
     "name": "stdout",
     "output_type": "stream",
     "text": [
      "16\n"
     ]
    }
   ],
   "source": [
    "# Kullanıcıdan alınan bir sayının rakamları toplamını bulan program\n",
    "\n",
    "sayi3 = int(input(\"Bir sayı giriniz\"))\n",
    "str_sayi = str(sayi3)\n",
    "toplam = 0\n",
    "\n",
    "for rakam in str_sayi:\n",
    "    toplam += int(rakam)\n",
    "\n",
    "print(toplam)"
   ]
  },
  {
   "cell_type": "code",
   "execution_count": 22,
   "metadata": {},
   "outputs": [
    {
     "name": "stdout",
     "output_type": "stream",
     "text": [
      "Girilen sayılardan en büyüğü 75 en küçüğü ise 3 dir.\n"
     ]
    }
   ],
   "source": [
    "# Kullanıcıdan peşpeşe alınan 5 sayıdan en büyük ve küçüğünü bulma\n",
    "\n",
    "liste = []\n",
    "for i in range(5):\n",
    "    sayi4 = int(input(\"Bir sayı giriniz:\"))\n",
    "    liste.append(sayi4)\n",
    "\n",
    "print(f\"Girilen sayılardan en büyüğü {max(liste)} en küçüğü ise {min(liste)} dir.\")"
   ]
  },
  {
   "cell_type": "code",
   "execution_count": 32,
   "metadata": {},
   "outputs": [
    {
     "name": "stdout",
     "output_type": "stream",
     "text": [
      "13 sayısı hiçbir sayının karesi değildir.\n"
     ]
    }
   ],
   "source": [
    "# Kullanıcıdan alınan sayının herhangi bir sayının karesi olup olmadığını kontrol eden program\n",
    "\n",
    "x = int(input(\"Bir sayı giriniz: \"))\n",
    "\n",
    "for i in range(2, int(x ** 0.5) + 1):\n",
    "    if x == i ** 2:\n",
    "        print(f\"{x} sayısı {i} sayısının karesidir. \")\n",
    "        break\n",
    "else:\n",
    "    print(f\"{x} sayısı hiçbir sayının karesi değildir.\")"
   ]
  },
  {
   "cell_type": "code",
   "execution_count": 34,
   "metadata": {},
   "outputs": [
    {
     "name": "stdout",
     "output_type": "stream",
     "text": [
      "p 1\n",
      "r 2\n",
      "o 1\n",
      "g 1\n",
      "a 3\n",
      "m 2\n",
      "l 1\n"
     ]
    }
   ],
   "source": [
    "# Ekrandan okunan bir metinde hangi harfin kaç kere kullanıldığını belirten uygulama\n",
    "\n",
    "metin = input(\"Bir metin giriniz: \")\n",
    "sozluk = dict()\n",
    "\n",
    "for harf in metin:\n",
    "    if harf in sozluk:\n",
    "        sozluk[harf] += 1\n",
    "    else:\n",
    "        sozluk[harf] = 1\n",
    "    \n",
    "for harf,adet in sozluk.items():\n",
    "    print(harf,adet)"
   ]
  },
  {
   "cell_type": "code",
   "execution_count": 48,
   "metadata": {},
   "outputs": [
    {
     "name": "stdout",
     "output_type": "stream",
     "text": [
      "AkbAbA\n"
     ]
    }
   ],
   "source": [
    "# Ekrandan okunan bir metinde \"a\" harflerini büyük yapan bir program\n",
    "\n",
    "metin1 = input(\"Br metin giriniz: \")\n",
    "\n",
    "bos_metin = \"\"\n",
    "for harf in metin1:\n",
    "    if harf == \"a\":\n",
    "        bos_metin += \"A\"\n",
    "    else:\n",
    "        bos_metin += harf\n",
    "\n",
    "print(bos_metin)\n",
    "\n"
   ]
  }
 ],
 "metadata": {
  "kernelspec": {
   "display_name": "Python 3",
   "language": "python",
   "name": "python3"
  },
  "language_info": {
   "codemirror_mode": {
    "name": "ipython",
    "version": 3
   },
   "file_extension": ".py",
   "mimetype": "text/x-python",
   "name": "python",
   "nbconvert_exporter": "python",
   "pygments_lexer": "ipython3",
   "version": "3.11.2"
  },
  "orig_nbformat": 4
 },
 "nbformat": 4,
 "nbformat_minor": 2
}
