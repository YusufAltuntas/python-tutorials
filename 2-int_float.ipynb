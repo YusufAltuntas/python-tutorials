{
 "cells": [
  {
   "cell_type": "markdown",
   "metadata": {},
   "source": [
    "## Python Matematiksel İşlemler\n",
    "\n",
    "1. Toplama: `x + y`\n",
    "\n",
    "2. Çıkarma: `x - y`\n",
    "\n",
    "3. Çarpma: `x * y`\n",
    "\n",
    "4. Bölme: `x / y`\n",
    "\n",
    "5. Üs Alma: `x ** y`\n",
    "\n",
    "6. Mod Alma (Kalan Bulma): `x % y`\n",
    "\n",
    "7. Karekök Alma: `sqrt(x)`\n",
    "\n",
    "8. Mutlak Değer Alma: `abs(x)`\n"
   ]
  }
 ],
 "metadata": {
  "kernelspec": {
   "display_name": "Python 3",
   "language": "python",
   "name": "python3"
  },
  "language_info": {
   "codemirror_mode": {
    "name": "ipython",
    "version": 3
   },
   "file_extension": ".py",
   "mimetype": "text/x-python",
   "name": "python",
   "nbconvert_exporter": "python",
   "pygments_lexer": "ipython3",
   "version": "3.11.2"
  },
  "orig_nbformat": 4
 },
 "nbformat": 4,
 "nbformat_minor": 2
}
