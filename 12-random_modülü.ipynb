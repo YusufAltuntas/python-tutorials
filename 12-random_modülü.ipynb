{
 "cells": [
  {
   "cell_type": "markdown",
   "metadata": {},
   "source": [
    "# Random Modülü\n",
    "\n",
    "* Python'da random modülü, rastgele sayılar oluşturmak, verileri karıştırmak, öğeleri rastgele seçmek ve benzeri rastgele işlemler için kullanılan bir standart kütüphanedir. Bu modülün kullanımı oldukça yaygındır ve pek çok farklı senaryoda işe yarar. İşte random modülünü detaylıca açıklayan ve örneklerle destekleyen bir rehber:"
   ]
  },
  {
   "cell_type": "markdown",
   "metadata": {},
   "source": [
    "### 1) Rastgele  Sayılar Üretme\n",
    "\n",
    "    - random modülü, rastgele tam sayılar üretmek için çeşitli fonksiyonlar sağlar. İşte bazı örnekler:"
   ]
  },
  {
   "cell_type": "code",
   "execution_count": 4,
   "metadata": {},
   "outputs": [
    {
     "name": "stdout",
     "output_type": "stream",
     "text": [
      "36\n",
      "45\n",
      "0.6079911714685855\n"
     ]
    }
   ],
   "source": [
    "# A) random.randint(a, b): a ile b arasında (a ve b dahil) rastgele bir tam sayı üretir.\n",
    "\n",
    "import random\n",
    "\n",
    "rastgele_sayi = random.randint(1, 100)\n",
    "print(rastgele_sayi)\n",
    "\n",
    "# B) random.randrange(start, stop, step): start ile stop arasında (start dahil, stop hariç) step adımlarıyla rastgele bir tam sayı üretir.\n",
    "\n",
    "rastgele_sayi2 = random.randrange(0, 100, 5)  # 0 ile 99 arasında 5 adımlık rastgele bir sayı\n",
    "print(rastgele_sayi2)\n",
    "\n",
    "# C) random.random(): 0 ile 1 arasında rastgele bir ondalık sayı üretir.\n",
    "\n",
    "ondalik_sayi = random.random()\n",
    "print(ondalik_sayi)\n"
   ]
  },
  {
   "cell_type": "markdown",
   "metadata": {},
   "source": [
    "### 2) Rastgele Öğe Seçme \n",
    "\n",
    "    - random modülü, veri koleksiyonlarından rastgele öğeler seçmek için kullanışlı fonksiyonlar sunar."
   ]
  },
  {
   "cell_type": "code",
   "execution_count": 6,
   "metadata": {},
   "outputs": [
    {
     "name": "stdout",
     "output_type": "stream",
     "text": [
      "1\n",
      "[4, 2, 5]\n"
     ]
    }
   ],
   "source": [
    "# A) random.choice(seq): Verilen bir diziden rastgele bir öğe seçer.\n",
    "\n",
    "liste = [1, 2, 3, 4, 5]\n",
    "rastgele_oge = random.choice(liste)\n",
    "print(rastgele_oge)\n",
    "\n",
    "# B) random.sample(population, k): population içinden, k adet benzersiz öğe seçer.\n",
    "\n",
    "liste = [1, 2, 3, 4, 5]\n",
    "rastgele_oge2 = random.sample(liste, 3)  # 3 benzersiz öğe seçer\n",
    "print(rastgele_oge2)\n"
   ]
  },
  {
   "cell_type": "markdown",
   "metadata": {},
   "source": [
    "### 3) Verileri Karıştırma:\n",
    "\n",
    "    - random.shuffle(seq) fonksiyonu, bir diziyi rastgele karıştırır. Bu, özellikle sıralı verileri karıştırmak için kullanışlıdır."
   ]
  },
  {
   "cell_type": "code",
   "execution_count": 14,
   "metadata": {},
   "outputs": [
    {
     "name": "stdout",
     "output_type": "stream",
     "text": [
      "[5, 2, 1, 4, 3]\n"
     ]
    }
   ],
   "source": [
    "# listeyi karıştırma\n",
    "\n",
    "liste2 = [1, 2, 3, 4, 5]\n",
    "random.shuffle(liste2)\n",
    "print(liste2)"
   ]
  },
  {
   "cell_type": "markdown",
   "metadata": {},
   "source": [
    "### 4) Seed (Tohum):\n",
    "\n",
    "- random.seed(x) fonksiyonu, rastgele sayı üretimini belirli bir başlangıç noktasına sabitlemek için kullanılır. Aynı başlangıç noktası kullanıldığında, aynı rastgele sayılar üretilir.\n",
    "\n",
    "\n",
    "```\n",
    "import random\n",
    "\n",
    "# Rastgele sayı üretimini başlatmak için bir tohum değeri (seed) belirleyelim\n",
    "random.seed(42)\n",
    "\n",
    "# Aynı tohum değeri ile rastgele sayı üretelim\n",
    "rastgele_sayi_1 = random.randint(1, 100)\n",
    "rastgele_sayi_2 = random.randint(1, 100)\n",
    "\n",
    "print(rastgele_sayi_1)  # Her çalıştırıldığında aynı sonuç\n",
    "print(rastgele_sayi_2)  # Her çalıştırıldığında aynı sonuç\n",
    "\n",
    "```\n",
    "    "
   ]
  },
  {
   "cell_type": "code",
   "execution_count": 18,
   "metadata": {},
   "outputs": [
    {
     "name": "stdout",
     "output_type": "stream",
     "text": [
      "82\n",
      "15\n"
     ]
    }
   ],
   "source": [
    "random.seed(42)\n",
    "random.seed(42)\n",
    "rastgele_sayi_1 = random.randint(1, 100)\n",
    "rastgele_sayi_2 = random.randint(1, 100)\n",
    "\n",
    "print(rastgele_sayi_1)\n",
    "print(rastgele_sayi_2)\n"
   ]
  },
  {
   "cell_type": "code",
   "execution_count": 23,
   "metadata": {},
   "outputs": [
    {
     "name": "stdout",
     "output_type": "stream",
     "text": [
      "1 gelme olasılığı: 0.19\n",
      "2 gelme olasılığı: 0.21\n",
      "3 gelme olasılığı: 0.09\n",
      "4 gelme olasılığı: 0.19\n",
      "5 gelme olasılığı: 0.15\n",
      "6 gelme olasılığı: 0.17\n"
     ]
    }
   ],
   "source": [
    "# 100 kere atılan bi zarda her bi yüzün kaç kere geleceğini bulan program:\n",
    "\n",
    "zarlar = {1:0, 2:0, 3:0, 4:0, 5:0, 6:0}\n",
    "\n",
    "for i in range(100):\n",
    "    zar = random.randint(1,6)\n",
    "    zarlar[zar] += 1\n",
    "\n",
    "for zar in zarlar:\n",
    "    print(f\"{zar} gelme olasılığı: {zarlar[zar] / 100}\" )"
   ]
  },
  {
   "cell_type": "code",
   "execution_count": 31,
   "metadata": {},
   "outputs": [
    {
     "name": "stdout",
     "output_type": "stream",
     "text": [
      "10 kere düşeş atmak için 165 kere zar atıldı\n"
     ]
    }
   ],
   "source": [
    "# zar atıldığında 10 kere düşeş gelmesi için kaç kere zar atılması gerektiğini bulan program:\n",
    "\n",
    "deneme_sayisi = 0\n",
    "düses = 0\n",
    "\n",
    "while True:\n",
    "    deneme_sayisi += 1\n",
    "    zar1 = random.randint(1,6)\n",
    "    zar2 = random.randint(1,6)\n",
    "    if zar1 == 6 and zar2 == 6:\n",
    "        düses += 1\n",
    "    if düses == 6:\n",
    "        print(f\"10 kere düşeş atmak için {deneme_sayisi} kere zar atıldı\")\n",
    "        break\n",
    "\n"
   ]
  }
 ],
 "metadata": {
  "kernelspec": {
   "display_name": "Python 3",
   "language": "python",
   "name": "python3"
  },
  "language_info": {
   "codemirror_mode": {
    "name": "ipython",
    "version": 3
   },
   "file_extension": ".py",
   "mimetype": "text/x-python",
   "name": "python",
   "nbconvert_exporter": "python",
   "pygments_lexer": "ipython3",
   "version": "3.11.2"
  },
  "orig_nbformat": 4
 },
 "nbformat": 4,
 "nbformat_minor": 2
}
