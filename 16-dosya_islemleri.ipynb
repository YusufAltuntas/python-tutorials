{
 "cells": [
  {
   "cell_type": "markdown",
   "metadata": {},
   "source": [
    "# Dosya İşlemleri\n",
    "\n",
    "* Python'da dosya işlemleri oldukça önemlidir ve genellikle metin veya veri işleme uygulamalarında kullanılır. Dosya işlemleri için Python'da kullanabileceğiniz temel işlevleri ve örnekleri aşağıda bulabilirsiniz:"
   ]
  },
  {
   "cell_type": "markdown",
   "metadata": {},
   "source": [
    "    * Dosya Modları\n",
    "\n",
    "Dosya işlemleri sırasında kullanabileceğiniz bazı dosya modları şunlardır:\n",
    "\n",
    "* \"r\": Okuma modu (read). Dosyayı sadece okuma amaçlı açar.\n",
    "* \"w\": Yazma modu (write). Dosyayı sadece yazma amaçlı açar. Varolan veriyi siler ve yeniden yazar.\n",
    "* \"a\": Ekleme modu (append). Dosyayı sadece yazma amaçlı açar, ancak varolan veriyi silmez, dosyanın sonuna ekler.\n",
    "* \"x\": Oluşturma modu (create). Dosyayı yazma amaçlı açar, ancak dosya zaten varsa hata verir.\n",
    "* \"b\": İkili mod. Metin yerine ikili verileri işlemek için kullanılır.\n",
    "* \"t\": Metin modu. Varsayılan olarak metin modundadır ve metin dosyaları için kullanılır.\n",
    "Dosya işlemleri sırasında hataları yönetmek için try ve except bloklarını kullanabilirsiniz.\n",
    "\n",
    "Bu örnekler, Python'da temel dosya işlemlerini anlamanıza yardımcı olmalıdır. Dosya işlemleri, verilerin okunması, yazılması ve işlenmesi için önemli bir beceridir ve Python'da birçok farklı senaryoda kullanılır."
   ]
  },
  {
   "cell_type": "markdown",
   "metadata": {},
   "source": [
    "### 1) Dosya Okuma (Read):\n",
    "\n",
    "* Bir dosyayı okumak için open() fonksiyonunu kullanabiliriz. İşte bir örnek:\n",
    "\n",
    "    ```\n",
    "    # Dosyayı okuma modunda aç\n",
    "    dosya = open(\"yeni_dosya.txt\", \"r\")\n",
    "\n",
    "    # Dosyadaki veriyi oku\n",
    "    veri = dosya.read()\n",
    "\n",
    "    # Dosyayı kapat\n",
    "    dosya.close()\n",
    "\n",
    "    # Veriyi ekrana yazdır\n",
    "    print(veri)\n",
    "\n",
    "* Bu örnekte, \"yeni_dosya.txt\" adlı dosyayı okuma modunda açtık ve dosyanın içeriğini read() fonksiyonu ile okuduk.\n",
    "\n",
    "* Eğer read() fonksiyonunu içine parametre olarak bir sayı girersek dosyamızı o sayı karakteri kadar okur. \n"
   ]
  },
  {
   "cell_type": "code",
   "execution_count": 15,
   "metadata": {},
   "outputs": [
    {
     "name": "stdout",
     "output_type": "stream",
     "text": [
      "Dosyalarla Çalışma \n",
      "Birinci Kısım: Dosyaları Açma\n",
      "r modu: Okuma modu (Dosya yoksa hata verir)\n",
      "w modu: Yazma modu (Dosya yoksa oluşturur)\n",
      "r+ modu: Hem okuma hem yazma modu\n",
      "a modu: Dosyanın sonuna ekleme modu\n",
      "b modu: binary mode\n",
      "Dosyaları kapatma\n",
      "With open yapısı\n",
      "İkinci Kısım: Dosyaları Okuma\n",
      "read ()\n",
      "readline ()\n",
      "readlines ()\n"
     ]
    }
   ],
   "source": [
    "f = open(\"deneme.txt\", \"r\", encoding=\"utf-8\")\n",
    "icerik = f.read()\n",
    "print(icerik)\n",
    "f.close()"
   ]
  },
  {
   "cell_type": "code",
   "execution_count": 1,
   "metadata": {},
   "outputs": [
    {
     "name": "stdout",
     "output_type": "stream",
     "text": [
      "\tDosyalarla Çalışma\n",
      "Birinci Kısım: Dosyaları Açma\n",
      "r modu: Okuma modu (Dosya yoksa hata verir)\n",
      "w modu: Yazma modu (Dosya yoksa oluşturur)\n",
      "r+ modu: Hem \n"
     ]
    }
   ],
   "source": [
    "# Girdiğimiz karakter sayısı kadar okutma\n",
    "\n",
    "f = open(\"deneme.txt\", \"r\", encoding=\"utf-8\")\n",
    "icerik = f.read(150)\n",
    "print(icerik)\n",
    "f.close()"
   ]
  },
  {
   "cell_type": "code",
   "execution_count": 36,
   "metadata": {},
   "outputs": [
    {
     "name": "stdout",
     "output_type": "stream",
     "text": [
      "Dosyalarla Çalışma\n",
      "Birinci Kısım: Dosyaları Açma\n",
      "r"
     ]
    }
   ],
   "source": [
    "# Dosyayı istediğimiz karakter kadar parça parça okutma\n",
    "\n",
    "with open(\"deneme.txt\", \"r\", encoding=\"utf-8\") as f:\n",
    "    icerik = f.read(10)\n",
    "    print(icerik, end=\"\")\n",
    "    icerik = f.read(10)\n",
    "    print(icerik, end=\"\")\n",
    "    icerik = f.read(10)\n",
    "    print(icerik, end=\"\")\n",
    "    icerik = f.read(10)\n",
    "    print(icerik, end=\"\")\n",
    "    icerik = f.read(10)\n",
    "    print(icerik, end=\"\")\n",
    "    "
   ]
  },
  {
   "cell_type": "code",
   "execution_count": 35,
   "metadata": {},
   "outputs": [
    {
     "name": "stdout",
     "output_type": "stream",
     "text": [
      "Dosyalarla Çalışma\n",
      "Birinci Kısım: Dosyaları Açma\n",
      "r modu: Okuma modu (Dosya yoksa hata verir)\n",
      "w modu: Yazma modu (Dosya yoksa oluşturur)\n",
      "r+ modu: Hem okuma hem yazma modu\n",
      "a modu: Dosyanın sonuna ekleme modu\n",
      "b modu: binary mode\n",
      "Dosyaları kapatma\n",
      "With open yapısı\n",
      "İkinci Kısım: Dosyaları Okuma\n",
      "read ()\n",
      "readline ()\n",
      "readlines ()"
     ]
    }
   ],
   "source": [
    "# Parça parça okutmak için kullanım örneği:\n",
    "\n",
    "with open(\"deneme.txt\", \"r\", encoding=\"utf-8\") as f:\n",
    "    okunacak_miktar = 10\n",
    "    icerik = f.read(okunacak_miktar)\n",
    "    while len(icerik) > 0:\n",
    "        print(icerik, end=\"\")\n",
    "        icerik = f.read(okunacak_miktar)"
   ]
  },
  {
   "cell_type": "markdown",
   "metadata": {},
   "source": [
    "## With Bloğu:\n",
    "\n",
    "* with bloğu, dosya işlemlerinde yaygın olarak kullanılan bir yapıdır ve bazı önemli avantajları vardır. Bu yapıyı kullanmanın nedenleri şunlar olabilir:\n",
    "\n",
    "    1) Dosya Kapatma Otomasyonu: with bloğunu kullanarak bir dosyayı açtığınızda, blok içinde işlem bittiğinde dosyanın otomatik olarak kapatılmasını sağlar. Bu, dosya kapatma işlemini unutmamanız veya yanlışlıkla atlamamanız için önemlidir. Dosyayı açtıktan sonra işiniz bittiğinde dosya otomatik olarak kapatılacaktır, böylece kaynak sızıntılarını önler.\n",
    "    \n",
    "    2) Hata İşleme: with bloğu, dosya işlemleri sırasında oluşabilecek hataları daha iyi ele almanıza yardımcı olur. Bir hata oluştuğunda, with bloğu dosyayı otomatik olarak kapatır ve hata daha iyi yönetilir. Ayrıca, bu yapı, dosya açma veya kapatma sırasında hataların oluştuğu durumlarda programınızın istikrarlı çalışmasına yardımcı olabilir.\n",
    "    \n",
    "    3) Okunaklılık ve Kısalık: with bloğu, dosya işlemlerini daha okunaklı ve kısa hale getirir. Dosya açma ve kapatma işlemlerini aynı satırda yapar, böylece kod daha temiz ve anlaşılır hale gelir.\n",
    "\n",
    "Örnek kullanım:\n",
    "\n",
    "    ```\n",
    "    with open(\"dosya.txt\", \"r\") as f:\n",
    "        icerik = f.read()\n",
    "        # Dosya otomatik olarak kapanır\n",
    "\n",
    "* Bu nedenlerle, with bloğu, Python'da dosya işlemleri yaparken tavsiye edilen ve tercih edilen bir yaklaşımdır. Dosya işlemleri tamamlandığında otomatik olarak kaynakları serbest bırakır ve kodunuzun daha düzenli ve hata yönetimi açısından güvenli olmasını sağlar."
   ]
  },
  {
   "cell_type": "markdown",
   "metadata": {},
   "source": [
    "### 2) Dosya Satır Satır Okuma\n",
    "\n",
    "* Bir dosyayı satır satır okumak için readline() veya readlines() fonksiyonlarını kullanabilirsiniz. İşte örnekler:\n",
    "\n",
    "A) readline() kullanımı:\n",
    "\n",
    "    ```\n",
    "    - Dosyayı okuma modunda aç\n",
    "    \n",
    "    dosya = open(\"yeni_dosya.txt\", \"r\")\n",
    "    \n",
    "    - Dosyayı satır satır oku ve ekrana yazdır\n",
    "\n",
    "    while True:\n",
    "        satir = dosya.readline()\n",
    "        if not satir:\n",
    "            break\n",
    "        print(satir)\n",
    "    \n",
    "    - Dosyayı kapat\n",
    "    dosya.close()\n",
    "\n",
    "B) readlines() kullanımı:\n",
    "\n",
    "    ```\n",
    "    # Dosyayı okuma modunda aç\n",
    "    dosya = open(\"yeni_dosya.txt\", \"r\")\n",
    "    \n",
    "    # Dosyayı oku ve satırları bir liste olarak al\n",
    "    satirlar = dosya.readlines()\n",
    "    \n",
    "    # Dosyayı kapat\n",
    "    dosya.close()\n",
    "    \n",
    "    # Satırları ekrana yazdır\n",
    "    for satir in satirlar:\n",
    "        print(satir)\n",
    "\n"
   ]
  },
  {
   "cell_type": "code",
   "execution_count": 17,
   "metadata": {},
   "outputs": [
    {
     "name": "stdout",
     "output_type": "stream",
     "text": [
      "['Dosyalarla Çalışma \\n', 'Birinci Kısım: Dosyaları Açma\\n', 'r modu: Okuma modu (Dosya yoksa hata verir)\\n', 'w modu: Yazma modu (Dosya yoksa oluşturur)\\n', 'r+ modu: Hem okuma hem yazma modu\\n', 'a modu: Dosyanın sonuna ekleme modu\\n', 'b modu: binary mode\\n', 'Dosyaları kapatma\\n', 'With open yapısı\\n', 'İkinci Kısım: Dosyaları Okuma\\n', 'read ()\\n', 'readline ()\\n', 'readlines ()']\n",
      "Dosyalarla Çalışma \n",
      "Birinci Kısım: Dosyaları Açma\n",
      "r modu: Okuma modu (Dosya yoksa hata verir)\n",
      "w modu: Yazma modu (Dosya yoksa oluşturur)\n",
      "r+ modu: Hem okuma hem yazma modu\n",
      "a modu: Dosyanın sonuna ekleme modu\n",
      "b modu: binary mode\n",
      "Dosyaları kapatma\n",
      "With open yapısı\n",
      "İkinci Kısım: Dosyaları Okuma\n",
      "read ()\n",
      "readline ()\n",
      "readlines ()"
     ]
    }
   ],
   "source": [
    "with open(\"deneme.txt\", \"r\", encoding=\"utf-8\") as f:  # encoding \"UTF-8\" karakter kodlamasıyla açar ve bu sayede Türkçe karakterlerin doğru bir şekilde görüntülenmesini sağlar.\n",
    "    icerik = f.readlines()\n",
    "    print(icerik)\n",
    "    for satir in icerik:\n",
    "        print(satir, end = \"\")  # ilk başta içeriği yazdırırken satırların sonunda \\n karakterini görüyoruz. for döngüsü ile yazdırırken bu sebepten ötürü her satir değerinden sonra ,\n",
    "                                # bir satır boşluk bırakıyor. Bunu engellemek için end = \"\" koyduk."
   ]
  },
  {
   "cell_type": "code",
   "execution_count": 22,
   "metadata": {},
   "outputs": [
    {
     "name": "stdout",
     "output_type": "stream",
     "text": [
      "Dosyalarla Çalışma \n",
      "Birinci Kısım: Dosyaları Açma\n",
      "r modu: Okuma modu (Dosya yoksa hata verir)\n",
      "Pozisyon: 104\n"
     ]
    }
   ],
   "source": [
    "with open(\"deneme.txt\", \"r\", encoding=\"utf-8\") as f:\n",
    "    satir = f.readline()\n",
    "    print(satir, end=\"\")\n",
    "    satir = f.readline()\n",
    "    print(satir, end=\"\") \n",
    "    satir = f.readline()\n",
    "    print(satir, end=\"\")    # her kullandığımızda imleç nerde kaldıysa ordan okumaya devam eder.\n",
    "    pozisyon = f.tell()\n",
    "    print(\"Pozisyon:\", pozisyon)\n",
    "\n"
   ]
  },
  {
   "cell_type": "code",
   "execution_count": 23,
   "metadata": {},
   "outputs": [
    {
     "name": "stdout",
     "output_type": "stream",
     "text": [
      "Dosyalarla Çalışma \n",
      "Birinci Kısım: Dosyaları Açma\n",
      "Pozisyon: 59\n"
     ]
    }
   ],
   "source": [
    "# eğer imlecin nerde kaldığını unuttuysak veya bilmiyorsak f.tell() fonksiyonunu kullanabiliriz.\n",
    "\n",
    "with open(\"deneme.txt\", \"r\", encoding=\"utf-8\") as f:\n",
    "    satir = f.readline()\n",
    "    print(satir, end=\"\")\n",
    "    satir = f.readline()\n",
    "    print(satir, end=\"\") \n",
    "    pozisyon = f.tell()\n",
    "    print(\"Pozisyon:\", pozisyon)\n",
    "\n",
    "    "
   ]
  },
  {
   "cell_type": "code",
   "execution_count": 24,
   "metadata": {},
   "outputs": [
    {
     "name": "stdout",
     "output_type": "stream",
     "text": [
      "Dosyalarla Çalışma \n",
      "Birinci Kısım: Dosyaları Açma\n",
      "Dosyalarla Çalışma \n"
     ]
    }
   ],
   "source": [
    "# eğer imleci istediğim bir yere götürmek istersek f.seek() fonksiyonunu kullanırız.\n",
    "\n",
    "with open(\"deneme.txt\", \"r\", encoding=\"utf-8\") as f:\n",
    "    satir = f.readline()\n",
    "    print(satir, end=\"\")\n",
    "    satir = f.readline()\n",
    "    print(satir, end=\"\") \n",
    "    f.seek(0)\n",
    "    satir = f.readline()\n",
    "    print(satir, end=\"\")"
   ]
  },
  {
   "cell_type": "code",
   "execution_count": null,
   "metadata": {},
   "outputs": [],
   "source": []
  },
  {
   "cell_type": "markdown",
   "metadata": {},
   "source": [
    "### 3) Dosya Oluşturma ve Yazma (Write):\n",
    "* Bir dosya oluşturmak ve metin veya veri yazmak için open() fonksiyonunu kullanabilirsiniz. İşte bir örnek:\n",
    "\n",
    "    ```\n",
    "    # Dosya oluştur ve yazma modunda aç\n",
    "    dosya = open(\"yeni_dosya.txt\", \"w\")\n",
    "\n",
    "    # Metin yaz\n",
    "    dosya.write(\"Bu dosyaya yazıldı.\\nİkinci satırda yazılan.\")\n",
    "\n",
    "    # Dosyayı kapat\n",
    "    dosya.close()\n",
    "\n",
    "* Yukarıdaki örnekte \"yeni_dosya.txt\" adında bir dosya oluşturduk ve bu dosyaya metin yazdık. \"w\" modu, dosyanın yazma modunda açıldığını belirtir. Eğer dosya zaten varsa, içeriği silinir ve yeniden yazılır."
   ]
  },
  {
   "cell_type": "code",
   "execution_count": 42,
   "metadata": {},
   "outputs": [],
   "source": [
    "with open(\"deneme2.txt\", \"w\") as f:\n",
    "    f.write(\"merhaba\")\n",
    "    \n",
    "# burada deneme2.txt dosyasının içine \"merhaba\" yazdırdık. eğer içeriğinde bir şey olsaydı silinip \"merhaba\" yazılacaktı. Varolan veriyi silmeyip sonuna eklemek için \"a\" modunda açmamız gerek."
   ]
  },
  {
   "cell_type": "markdown",
   "metadata": {},
   "source": [
    "### 4) \"a\": Ekleme modu (append)\n",
    "\n",
    "* Dosyayı sadece yazma amaçlı açar, ancak varolan veriyi silmez, dosyanın sonuna ekler."
   ]
  },
  {
   "cell_type": "code",
   "execution_count": 43,
   "metadata": {},
   "outputs": [],
   "source": [
    "with open(\"deneme3.txt\", \"a\") as f:\n",
    "    f.write(\"deneme birki\")\n",
    "    "
   ]
  },
  {
   "cell_type": "code",
   "execution_count": 44,
   "metadata": {},
   "outputs": [],
   "source": [
    "with open(\"deneme.txt\", \"r\") as okunacak:\n",
    "    with open(\"deneme2.txt\", \"w\") as yazilacak:\n",
    "        for satir in okunacak:\n",
    "            yazilacak.write(satir)\n",
    "\n",
    "# Bu Python kodu, bir metin dosyasını (\"deneme.txt\") okuyup, okunan içeriği başka bir metin dosyasına (\"deneme2.txt\") yazmak için kullanılır."
   ]
  },
  {
   "cell_type": "markdown",
   "metadata": {},
   "source": [
    "##### Bu kod, bir ikili (binary) dosyanın (bir PNG resmi gibi) içeriğini başka bir ikili dosyaya (başka bir PNG resmi) kopyalamak için kullanılır.\n",
    "\n",
    "* İlk olarak, open() fonksiyonuyla okunacak adında bir dosya açılır. \"rb\" modu ile dosyanın ikili modda (binary) okunacağını belirtir.\n",
    "* \n",
    "* Ardından, open() fonksiyonuyla yazilacak adında başka bir dosya açılır. \"wb\" modu ile dosyanın ikili modda yazılacağını belirtir. Bu dosya, okunacak dosyasının içeriğinin kopyalanacağı * dosyadır.\n",
    "* \n",
    "* Bir okunacak_boyut değişkeni belirlenir. Bu, her seferinde okunacak ve yazılacak olan veri miktarını kontrol eder. Bu, büyük dosyaları küçük parçalara bölmek ve bellek kullanımını azaltmak * için kullanışlıdır.\n",
    "* \n",
    "* Bir döngü başlar ve her döngü adımında okunacak dosyasından okunacak_boyut kadar veri okunur. Eğer okunan veri boşsa (dosyanın sonuna gelinmişse), döngü sona erer.\n",
    "* \n",
    "* Okunan veri, yazilacak dosyasına yazılır. Bu, okunacak dosyasının içeriğinin yazilacak dosyasına kopyalanmasını sağlar.\n",
    "* \n",
    "* Döngü tekrar başa döner ve işlem, okunacak dosyasının sonuna ulaşana kadar devam eder."
   ]
  },
  {
   "cell_type": "code",
   "execution_count": 45,
   "metadata": {},
   "outputs": [],
   "source": [
    "# Bu kod, bir ikili (binary) dosyanın (bir PNG resmi gibi) içeriğini başka bir ikili dosyaya (başka bir PNG resmi) kopyalamak için kullanılır.\n",
    "\n",
    "with open(r\"C:\\Users\\Yusuf Altuntaş\\Desktop\\python vscode\\png-transparent-python-logo-thumbnail.png\", \"rb\") as okunacak:\n",
    "    with open(\"python2.png\", \"wb\") as yazilacak:\n",
    "        okunacak_boyut= 1024\n",
    "        icerik = okunacak.read(okunacak_boyut)\n",
    "        while len(icerik) > 0:\n",
    "            yazilacak.write(icerik)\n",
    "            icerik = okunacak.read(okunacak_boyut)"
   ]
  },
  {
   "cell_type": "code",
   "execution_count": null,
   "metadata": {},
   "outputs": [],
   "source": []
  }
 ],
 "metadata": {
  "kernelspec": {
   "display_name": "Python 3",
   "language": "python",
   "name": "python3"
  },
  "language_info": {
   "codemirror_mode": {
    "name": "ipython",
    "version": 3
   },
   "file_extension": ".py",
   "mimetype": "text/x-python",
   "name": "python",
   "nbconvert_exporter": "python",
   "pygments_lexer": "ipython3",
   "version": "3.11.2"
  },
  "orig_nbformat": 4
 },
 "nbformat": 4,
 "nbformat_minor": 2
}
