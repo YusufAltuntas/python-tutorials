{
 "cells": [
  {
   "cell_type": "markdown",
   "metadata": {},
   "source": [
    "# List Comprehension\n",
    "\n",
    "* List Comprehension, Python programlama dilinde kullanılan güçlü bir tekniktir. List Comprehension ile, liste oluşturma, dönüştürme ve filtreleme işlemlerini tek satırda yapabilirsiniz. Bu, kodunuzu daha okunabilir ve kompakt hale getirmenize yardımcı olabilir. Aşağıda List Comprehension hakkında bilmeniz gereken her şeyi detaylıca açıklayacağım ve örneklerle göstereceğim."
   ]
  },
  {
   "cell_type": "markdown",
   "metadata": {},
   "source": [
    "### Temel List Comprehension Sözdizimi\n",
    "\n",
    "List Comprehension sözdizimi şu şekildedir:\n",
    "\n",
    "   > * new_list = [expression for item in iterable if condition]\n",
    "\n",
    "* expression: Her bir öğe üzerinde uygulanan ifade. Yeni liste bu ifadelerin sonuçları ile doldurulur.\n",
    "* item: İterable (örneğin, liste, dize veya demet) içinde dolaşan geçici bir değişken.\n",
    "* iterable: İşlem yapılacak olan veri yapısı (liste, dize, vb.).\n",
    "* condition (opsiyonel): İfadenin uygulanacağı bir koşul. Koşul sağlanıyorsa, öğe yeni liste içinde yer alır.\n",
    " "
   ]
  },
  {
   "cell_type": "markdown",
   "metadata": {},
   "source": [
    "## Örneklerle List Comprehension Kullanımı\n",
    "    \n",
    "### 1) Temel Liste Oluşturma:\n",
    "List Comprehension kullanarak bir liste oluşturabilirsiniz. Örneğin, 1'den 10'a kadar olan sayıların karesini içeren bir liste oluşturmak için aşağıdaki kodu kullanırız."
   ]
  },
  {
   "cell_type": "code",
   "execution_count": 1,
   "metadata": {},
   "outputs": [
    {
     "name": "stdout",
     "output_type": "stream",
     "text": [
      "[1, 4, 9, 16, 25, 36, 49, 64, 81, 100]\n"
     ]
    }
   ],
   "source": [
    "kareler = [sayi ** 2 for sayi in range(1,11)]\n",
    "print(kareler)"
   ]
  },
  {
   "cell_type": "markdown",
   "metadata": {},
   "source": [
    "### 2) Liste Elemanlarını Filtreleme:\n",
    "\n",
    "list Comprehension, bir koşula uyan öğeleri filtrelemek için kullanılabilir. Örneğin, 1'den 10'a kadar olan sayılar içinde sadece çift sayıları içeren bir liste oluşturmak için aşağıdaki kodu kullanırız:"
   ]
  },
  {
   "cell_type": "code",
   "execution_count": 4,
   "metadata": {},
   "outputs": [
    {
     "name": "stdout",
     "output_type": "stream",
     "text": [
      "[2, 4, 6, 8, 10]\n"
     ]
    }
   ],
   "source": [
    "cift_sayilar = [cift for cift in range(1,11) if cift % 2 == 0]\n",
    "print(cift_sayilar)"
   ]
  },
  {
   "cell_type": "code",
   "execution_count": 5,
   "metadata": {},
   "outputs": [
    {
     "name": "stdout",
     "output_type": "stream",
     "text": [
      "[(1, 'a'), (1, 'b'), (1, 'c'), (1, 'd'), (2, 'a'), (2, 'b'), (2, 'c'), (2, 'd'), (3, 'a'), (3, 'b'), (3, 'c'), (3, 'd'), (4, 'a'), (4, 'b'), (4, 'c'), (4, 'd')]\n"
     ]
    }
   ],
   "source": [
    "# [(1,a),(1,b), (1,c), (1,d), (2,a), ... (4,d)] biçiminde ikililerden oluşan bir liste oluşturalım:\n",
    "\n",
    "sayilar = [1,2,3,4]\n",
    "harfler = \"abcd\"\n",
    "\n",
    "ikili_liste = [(sayi,harf) for sayi in sayilar for harf in harfler]\n",
    "print(ikili_liste)"
   ]
  },
  {
   "cell_type": "code",
   "execution_count": 7,
   "metadata": {},
   "outputs": [
    {
     "name": "stdout",
     "output_type": "stream",
     "text": [
      "[1, 16, 49, 64]\n"
     ]
    }
   ],
   "source": [
    "# birinci listede bulunup ikinci listede bulunmayan sayıların karesinden oluşan bir liste yapalım\n",
    "\n",
    "list1 = [1,2,3,4,5,6,7,8,9]\n",
    "list2 = [2,3,6,9,5]\n",
    "\n",
    "list3 = [sayi ** 2 for sayi in list1 if sayi not in list2]\n",
    "print(list3)"
   ]
  },
  {
   "cell_type": "code",
   "execution_count": 9,
   "metadata": {},
   "outputs": [
    {
     "name": "stdout",
     "output_type": "stream",
     "text": [
      "[1, 2, 3, 4, 5, 6, 7, 8, 9, 10, 11, 12]\n"
     ]
    }
   ],
   "source": [
    "# iç içe bir listeyi sıralı bir şekilde yazdırmak\n",
    "\n",
    "numbers = [[1,2,3], [4,5,6,7], [8,9,10,11,12]]\n",
    "n = 0\n",
    "sirali = [ j for i in numbers for j in i ]\n",
    "print(sirali)"
   ]
  },
  {
   "cell_type": "code",
   "execution_count": 10,
   "metadata": {},
   "outputs": [
    {
     "name": "stdout",
     "output_type": "stream",
     "text": [
      "['append', 'clear', 'copy', 'count', 'extend', 'index', 'insert', 'pop', 'remove', 'reverse', 'sort']\n"
     ]
    }
   ],
   "source": [
    "# liste metodlarını bir listeye ekleyelim\n",
    "\n",
    "list_methods = [ methods for methods in dir(list) if not methods.startswith(\"__\") ]\n",
    "print(list_methods)"
   ]
  },
  {
   "cell_type": "markdown",
   "metadata": {},
   "source": [
    "### 3. String İşlemleri\n",
    "\n",
    "List Comprehension, string işlemleri için de kullanılabilir. "
   ]
  },
  {
   "cell_type": "code",
   "execution_count": 12,
   "metadata": {},
   "outputs": [
    {
     "name": "stdout",
     "output_type": "stream",
     "text": [
      "['h', 'e', 'l', 'l', 'o', 'w', 'o', 'r', 'l', 'd']\n"
     ]
    }
   ],
   "source": [
    "# Örneğin, bir string içindeki harf sayısını küçük harf olarak almak için:\n",
    "\n",
    "text = \"Hello, World!\"\n",
    "letters = [ letter.lower() for letter in text if letter.isalpha()]\n",
    "print(letters)"
   ]
  },
  {
   "cell_type": "code",
   "execution_count": null,
   "metadata": {},
   "outputs": [],
   "source": []
  }
 ],
 "metadata": {
  "kernelspec": {
   "display_name": "Python 3",
   "language": "python",
   "name": "python3"
  },
  "language_info": {
   "codemirror_mode": {
    "name": "ipython",
    "version": 3
   },
   "file_extension": ".py",
   "mimetype": "text/x-python",
   "name": "python",
   "nbconvert_exporter": "python",
   "pygments_lexer": "ipython3",
   "version": "3.11.2"
  },
  "orig_nbformat": 4
 },
 "nbformat": 4,
 "nbformat_minor": 2
}
