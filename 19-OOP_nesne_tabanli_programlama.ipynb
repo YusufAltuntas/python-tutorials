{
 "cells": [
  {
   "cell_type": "markdown",
   "metadata": {},
   "source": [
    "# Nesne Yönelimli Programlama(OOP)\n",
    "\n",
    "Nesne yönelimli programlama (Object-Oriented Programming veya OOP), bilgisayar programlarını tasarlarken verileri ve işlevleri nesneler halinde düşünmeye dayalı bir programlama paradigmasıdır. OOP, kodun daha düzenli, sürdürülebilir ve anlaşılır olmasına yardımcı olan birçok kavramı içerir. İşte nesne yönelimli programlamanın temel kavramları:\n"
   ]
  },
  {
   "cell_type": "markdown",
   "metadata": {},
   "source": [
    "1) **Nesne (Object):** Programlama dünyasındaki her şeyi temsil eden veri yapısıdır. Bir nesne, verileri (özellikler veya alanlar) ve bu veriler üzerinde işlem yapabilen işlevleri (metodlar) içerir. Örneğin, bir araba nesnesi, arabanın rengi, hızı, markası gibi özelliklere ve ileri gitme, durma gibi işlevlere sahip olabilir.\n",
    "\n",
    "2) **Sınıf (Class):** Sınıf, nesnelerin şablonunu tanımlar. Bir sınıf, belirli bir nesne türünün sahip olması gereken özellikleri ve işlevleri belirtir. Örneğin, \"Araba\" sınıfı, araba nesnelerinin nasıl olması gerektiğini tanımlar. Bir sınıfın özelliklerini (attributes) ve davranışlarını (methods) içerir. İşte bir örnek:\n",
    "\n",
    "    ```\n",
    "    class Araba:\n",
    "    def __init__(self, marka, model):\n",
    "        self.marka = marka\n",
    "        self.model = model\n",
    "\n",
    "    def bilgileri_goster(self):\n",
    "        return f\"{self.marka} {self.model}\"\n",
    "\n",
    "3) **Özellikler (Attributes):** Sınıflar, nesnelerin özelliklerini tanımlamak için kullanılır. Özellikler, nesnenin durumunu temsil eder. Yukarıdaki örnekte marka ve model, Araba sınıfının özellikleridir.\n",
    "\n",
    "4) **Metod (Method):** Bir sınıfa veya nesneye ait işlevleri tanımlar. Bu işlevler nesnenin verilerini işlemek veya değiştirmek için kullanılır.  Yukarıdaki örnekte bilgileri_goster bir metodtur ve nesnenin bilgilerini döndürür.\n",
    "\n",
    "5) **Constructor (Yapıcı):** Constructor, bir nesne oluşturulduğunda çağrılan özel bir metoddur. Bu metot, nesne başlatılırken kullanılacak ilk değerleri ayarlamak için kullanılır. Constructor, bir sınıfın \"``__init__``\" yöntemiyle tanımlanır.\n",
    "\n",
    "6) **``__init__`` Metodu:** ``__init__`` metodunu kullanarak bir sınıfın constructor'ını tanımlarız. Bu metot, sınıfın özelliklerini (attributes) başlatmak ve nesnenin ilk durumunu ayarlamak için kullanılır. self parametresi, bu metodu çağıran nesneyi temsil eder ve her metodun ilk parametresi olmalıdır. Yukarıdaki örnekte, ``__init__`` metodu Araba sınıfının constructor'ıdır ve self üzerinden nesnenin özelliklerini başlatır.\n",
    "\n",
    "5) **Encapsulation (Kapsülleme):** Kapsülleme, verileri (alanlar) ve bu verilere erişimi kontrol altına almayı sağlar. Sınıfın içindeki verilere sadece sınıfın metotları aracılığıyla erişilebilir. Bu, verilerin yanlışlıkla değiştirilmesini veya bozulmasını önler.\n",
    "\n",
    "6) **Kalıtım (Inheritance):** Kalıtım, bir sınıfın başka bir sınıftan özelliklerini ve metodlarını miras almasını sağlar. Bu, kodun yeniden kullanılabilirliğini artırır ve sınıflar arasındaki ilişkileri tanımlar.\n",
    "\n",
    "7) **Polimorfizm (Polymorphism):** Çok biçimlilik, farklı sınıfların aynı adı taşıyan metodları farklı şekillerde uygulayabileceği bir kavramdır.. Yani aynı işlem farklı nesneler tarafından farklı şekillerde gerçekleştirilebilir.\n",
    "\n",
    "8) **Örnek (Instance):** Bir sınıftan türetilen nesne, o sınıfın bir örneğidir. Örneğin, \"Araba\" sınıfından türetilen bir araba nesnesi, \"Araba\" sınıfının bir örneğidir. Nesne(object) ile aynı anlama gelir.\n",
    "\n",
    "9) **Üye Erişimi (Member Access):** Sınıfların içindeki verilere ve metodlara erişmek için kullanılan operatörler veya sözdizimi kurallarıdır. Genellikle \".\" operatörü kullanılarak yapılır.\n",
    "\n"
   ]
  },
  {
   "cell_type": "code",
   "execution_count": 1,
   "metadata": {},
   "outputs": [],
   "source": [
    "# Boş Class Oluşturma:\n",
    "\n",
    "class Person:\n",
    "    pass     # Burada pass keywordu ile bir yer tutucu kullandık. Kullanmasaydık bizden bir attribute veya method girmemizi isteyip hata vericekti.\n",
    "    # attribute\n",
    "    # method\n",
    "\n",
    "# object, instance"
   ]
  },
  {
   "cell_type": "code",
   "execution_count": 2,
   "metadata": {},
   "outputs": [
    {
     "name": "stdout",
     "output_type": "stream",
     "text": [
      "name: Yusuf year: 2003 adress: Ordu\n",
      "name: Yağmur year: 1999 adress: no information\n",
      "Merhaba ben Yusuf\n",
      "None\n",
      "24\n",
      "{'name': 'Yusuf', 'year': 2003, 'adress': 'Ordu'}\n",
      "{'name': 'Yağmur', 'year': 1999}\n"
     ]
    }
   ],
   "source": [
    "# Class Tanımlaması:\n",
    "\n",
    "class Person:\n",
    "    # class attributes()\n",
    "    adress = \"no information\"\n",
    "\n",
    "    # constructor(yapıcı metod)\n",
    "    def __init__(self, name, year):\n",
    "\n",
    "        # object attributes()\n",
    "        self.name = name\n",
    "        self.year = year\n",
    "\n",
    "    # instance methods\n",
    "    def intro(self):\n",
    "        print(\"Merhaba ben \" + self.name)\n",
    "\n",
    "    def calculateAge(self):\n",
    "        return 2023 - self.year\n",
    "\n",
    "# object (instance)\n",
    "p1 = Person(\"Yusuf\", 2002)\n",
    "p2 = Person(\"Yağmur\", 1999)\n",
    "\n",
    "# update()\n",
    "p1.year = 2003\n",
    "p1.adress = \"Ordu\" \n",
    "\n",
    "# accessing object attributes(nesne niteliklerine erişim)\n",
    "print(f\"name: {p1.name} year: {p1.year} adress: {p1.adress}\")\n",
    "print(f\"name: {p2.name} year: {p2.year} adress: {p2.adress}\")\n",
    "print(p1.intro())\n",
    "print(p2.calculateAge())\n",
    "\n",
    "# Bir nesnenin sahip olduğu özellikleri bir sözlük olarak bu şekilde yazdırırız.\n",
    "print(p1.__dict__)\n",
    "print(p2.__dict__)"
   ]
  },
  {
   "cell_type": "code",
   "execution_count": 20,
   "metadata": {},
   "outputs": [
    {
     "name": "stdout",
     "output_type": "stream",
     "text": [
      "c1 : alan = 3.14 çevre = 6.28\n",
      "c2 : alan = 78.5 çevre = 31.400000000000002\n"
     ]
    }
   ],
   "source": [
    "class Circle:\n",
    "    # class object attribute\n",
    "    pi = 3.14  \n",
    "\n",
    "    # constructor (yapıcı metod)\n",
    "    def __init__(self, yaricap=1):\n",
    "        # object attributes\n",
    "        self.yaricap = yaricap\n",
    "\n",
    "    # methods\n",
    "    def alan_hesapla(self):\n",
    "        return self.pi * (self.yaricap ** 2)\n",
    "    \n",
    "    def cevre_hesapla(self):\n",
    "        return 2 * self.pi * self.yaricap\n",
    "    \n",
    "c1 = Circle()\n",
    "c2 = Circle(5)\n",
    "\n",
    "print(f\"c1 : alan = {c1.alan_hesapla()} çevre = {c1.cevre_hesapla()}\")\n",
    "print(f\"c2 : alan = {c2.alan_hesapla()} çevre = {c2.cevre_hesapla()}\")\n"
   ]
  },
  {
   "cell_type": "code",
   "execution_count": null,
   "metadata": {},
   "outputs": [],
   "source": []
  }
 ],
 "metadata": {
  "kernelspec": {
   "display_name": "Python 3",
   "language": "python",
   "name": "python3"
  },
  "language_info": {
   "codemirror_mode": {
    "name": "ipython",
    "version": 3
   },
   "file_extension": ".py",
   "mimetype": "text/x-python",
   "name": "python",
   "nbconvert_exporter": "python",
   "pygments_lexer": "ipython3",
   "version": "3.11.2"
  }
 },
 "nbformat": 4,
 "nbformat_minor": 2
}
