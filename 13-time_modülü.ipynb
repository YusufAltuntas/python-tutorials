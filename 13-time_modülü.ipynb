{
 "cells": [
  {
   "cell_type": "markdown",
   "metadata": {},
   "source": [
    "# Time Modülü\n",
    "\n",
    "* Python'da time modülü, zamanla ilgili işlemleri gerçekleştirmek için kullanılan bir standart kütüphanedir. Bu modül, zamanı ölçmek, zaman damgaları oluşturmak, saatleri ve dakikaları işlemek, beklemek ve zamanla ilgili diğer birçok işlemi yapmanıza olanak tanır. İşte time modülü hakkında bilmeniz gereken bazı temel kavramlar ve örnekler:"
   ]
  },
  {
   "cell_type": "markdown",
   "metadata": {},
   "source": [
    "### 1) time() Fonksiyonu (Zaman Damgaları (Timestamps)):\n",
    "\n",
    "    - Geçerli zamanın saniye cinsinden değerini döndürür. Başlangıç tarihi ise programlama dillerinin zamanın başlangıcı olarak kabul etiiği \"1 Ocak 1970\" tarihidir. Yani fonksiyon başlangıç tarihinden fonksiyonun kullanıldığı tarihe kadar geçen zamanın saniye cinsinden değerini döndürür.\n",
    "\n",
    "- time modülü, bir işlemin ne kadar sürede tamamlandığını ölçmek için kullanılabilir. Bir iş yapacaksanız ve elinizde alternatif iki adet algoritma varsa hangisinin daha hızlı çalıştığını öğrenmek için bu yola başvurabilirsiniz."
   ]
  },
  {
   "cell_type": "code",
   "execution_count": 1,
   "metadata": {},
   "outputs": [
    {
     "name": "stdout",
     "output_type": "stream",
     "text": [
      "Geçen süre: 0.0 saniye\n"
     ]
    }
   ],
   "source": [
    "import time\n",
    "\n",
    "import time\n",
    "\n",
    "start_time = time.time()\n",
    "# Uzun sürecek bir işlem burada yapılır\n",
    "end_time = time.time()\n",
    "\n",
    "elapsed_time = end_time - start_time\n",
    "print(f\"Geçen süre: {elapsed_time} saniye\")\n"
   ]
  },
  {
   "cell_type": "markdown",
   "metadata": {},
   "source": [
    "### 2) ctime() Fonksiyonu:\n",
    "\n",
    "    * Python'daki time modülünün ctime() fonksiyonu, bir zaman damgasını (timestamp) daha okunabilir bir tarih ve saat formatına dönüştüren bir fonksiyondur. Bu fonksiyon, time modülündeki diğer fonksiyonlarla birlikte kullanılarak, zaman işlemlerini daha insan dostu bir biçimde görüntülemek için kullanışlıdır.\n",
    "\n",
    "İşte ctime() fonksiyonunun kullanımı:"
   ]
  },
  {
   "cell_type": "code",
   "execution_count": 4,
   "metadata": {},
   "outputs": [
    {
     "name": "stdout",
     "output_type": "stream",
     "text": [
      "Zaman Damgası: 1695332424.2050993\n",
      "Okunabilir Tarih ve Saat: Fri Sep 22 00:40:24 2023\n"
     ]
    }
   ],
   "source": [
    "import time\n",
    "\n",
    "timestamp = time.time()  # Geçerli zaman damgasını alın\n",
    "\n",
    "# time.ctime() fonksiyonunu kullanarak zaman damgasını okunabilir bir formata dönüştürün\n",
    "formatted_time = time.ctime(timestamp)\n",
    "\n",
    "print(\"Zaman Damgası:\", timestamp)\n",
    "print(\"Okunabilir Tarih ve Saat:\", formatted_time)\n",
    "\n",
    "\n",
    "# Yukarıdaki örnekte, time.time() ile geçerli zaman damgasını aldık ve bu zaman damgasını time.ctime() fonksiyonuna ileterek daha okunabilir bir tarih ve saat formatına dönüştürdük. \n",
    "# Çıktı, zaman damgasının ve okunabilir tarihin ekrana yazdırılmasıyla elde edilir."
   ]
  },
  {
   "cell_type": "markdown",
   "metadata": {},
   "source": [
    "### 3) Zaman Dilimleri ve Saat Dilimi Değiştirme:\n",
    "\n",
    "    * time modülü, yerel saat dilimini ve UTC (Koordinasyonlu Evrensel Zaman) arasında dönüşümler yapabilir.\n",
    "    * localtime() fonksiyonu geçerli zamanı çok detaylı bir şekilde bir liste halinde döndürür.\n",
    "    * asctime() fonksiyonu karışık olan bir zaman damgasını (örneğin localtime), daha okunabilir bir hale getirir.\n",
    "    "
   ]
  },
  {
   "cell_type": "code",
   "execution_count": 6,
   "metadata": {},
   "outputs": [
    {
     "name": "stdout",
     "output_type": "stream",
     "text": [
      "Yerel Saat: time.struct_time(tm_year=2023, tm_mon=9, tm_mday=22, tm_hour=0, tm_min=44, tm_sec=28, tm_wday=4, tm_yday=265, tm_isdst=0)\n",
      "UTC Saati: time.struct_time(tm_year=2023, tm_mon=9, tm_mday=21, tm_hour=21, tm_min=44, tm_sec=28, tm_wday=3, tm_yday=264, tm_isdst=0)\n",
      "Fri Sep 22 00:44:28 2023\n"
     ]
    }
   ],
   "source": [
    "import time\n",
    "\n",
    "local_time = time.localtime()\n",
    "print(f\"Yerel Saat: {local_time}\")\n",
    "\n",
    "utc_time = time.gmtime()\n",
    "print(f\"UTC Saati: {utc_time}\")\n",
    "\n",
    "print(time.asctime(local_time))"
   ]
  },
  {
   "cell_type": "markdown",
   "metadata": {},
   "source": [
    "### 4) Zamanı Formatlama => strftime():\n",
    "\n",
    "    * strf.time() modülü, zamanı insanlar tarafından okunabilir biçimlere dönüştürmek için kullanılabilir.\n",
    "    * İçine yazacağımız argğmanlar sayesinde zamanı gün ay yıl veya yıl gün saat vs şeklinde yazdırabiliriz\n",
    "- \" %d \" = gün\n",
    "- \" %Y \" = yıl\n",
    "- \" %m \" = ay\n",
    "- \" %H \" = saat\n",
    "- \" %M \" = dakika\n",
    "- \" %S \" = saniye\n",
    "- \" %a \" = günün kısaltılmış adı\n",
    "- \" %A \" = günün tam adı\n",
    "- \" %b \" = ayın kısaltılmış ismi\n",
    "- \" %B \" = ayın tam adı\n",
    "- \" %c \" = tarih ve saati gösteren standart biçimi kullanarak tarihi görüntüler\n",
    "- \" %x \" = yerel ayarını temel alan bir tarih görüntüsü oluşturur \n",
    "- \" %X \" = yerel ayarını temel alan bir saatin görüntüsü oluşturur\n",
    "- \" %p \" = AM/PM (saat dilimini belirtir)\n",
    " \""
   ]
  },
  {
   "cell_type": "code",
   "execution_count": 15,
   "metadata": {},
   "outputs": [
    {
     "name": "stdout",
     "output_type": "stream",
     "text": [
      " 22 , 2023 , 09 , 01 , 07 , 53 \n",
      "Fri- Friday- Sep- September- Fri Sep 22 01:07:53 2023- 09/22/23- X\n"
     ]
    }
   ],
   "source": [
    "print(time.strftime(\" %d , %Y , %m , %H , %M , %S \"))\n",
    "print(time.strftime(\"%a- %A- %b- %B- %c- %x- X\"))\n"
   ]
  },
  {
   "cell_type": "markdown",
   "metadata": {},
   "source": [
    "### 5) Bekleme(sleep):\n",
    "\n",
    "    * Belirli bir süre boyunca programın beklemesini sağlamak için time.sleep() fonksiyonu kullanılır."
   ]
  },
  {
   "cell_type": "code",
   "execution_count": 16,
   "metadata": {},
   "outputs": [
    {
     "name": "stdout",
     "output_type": "stream",
     "text": [
      "İşlem başladı.\n",
      "İşlem tamamlandı.\n"
     ]
    }
   ],
   "source": [
    "import time\n",
    "\n",
    "print(\"İşlem başladı.\")\n",
    "time.sleep(2)  # 2 saniye bekleniyor\n",
    "print(\"İşlem tamamlandı.\")\n"
   ]
  },
  {
   "cell_type": "code",
   "execution_count": null,
   "metadata": {},
   "outputs": [],
   "source": []
  }
 ],
 "metadata": {
  "kernelspec": {
   "display_name": "Python 3",
   "language": "python",
   "name": "python3"
  },
  "language_info": {
   "codemirror_mode": {
    "name": "ipython",
    "version": 3
   },
   "file_extension": ".py",
   "mimetype": "text/x-python",
   "name": "python",
   "nbconvert_exporter": "python",
   "pygments_lexer": "ipython3",
   "version": "3.11.2"
  },
  "orig_nbformat": 4
 },
 "nbformat": 4,
 "nbformat_minor": 2
}
