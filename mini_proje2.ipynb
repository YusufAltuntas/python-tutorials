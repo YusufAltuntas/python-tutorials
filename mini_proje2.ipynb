{
 "cells": [
  {
   "cell_type": "code",
   "execution_count": 12,
   "metadata": {},
   "outputs": [],
   "source": [
    "with open(\"ornek_metin.txt\", encoding=\"utf-8\") as dosyamiz:\n",
    "    with open(\"gecenler.txt\", \"w\", encoding=\"utf-8\") as gecenler:\n",
    "        with open(\"kalanlar.txt\", \"w\", encoding=\"utf-8\") as kalanlar:\n",
    "            icerik = dosyamiz.readlines()\n",
    "            m = 0\n",
    "            for satir in icerik:\n",
    "                if m == 0:\n",
    "                    m += 1\n",
    "                    continue\n",
    "                satir = satir.replace(\"\\n\", \"\")\n",
    "                bosluk_sayisi = 0\n",
    "                bosluk_indexleri = []\n",
    "                index = 0   \n",
    "                for karakter in satir:\n",
    "                    if karakter == \" \":\n",
    "                        bosluk_sayisi += 1\n",
    "                        bosluk_indexleri.append(index)\n",
    "                    index += 1\n",
    "                ad_soyad = satir[:bosluk_indexleri[0]]\n",
    "                soyad = ad_soyad.split(\"-\")[0]\n",
    "                ad = ad_soyad[:ad_soyad.index(soyad) - 1].replace(\"-\", \" \")\n",
    "                notlar = satir.split(\" \")[-1]\n",
    "                notlar = notlar.split(\"/\")\n",
    "                vize1 = int(notlar[0])\n",
    "                vize2 = int(notlar[1])\n",
    "                final = int(notlar[2])\n",
    "                ortalama = (vize1 * 0.3) + (vize2 * 0.3) + (final * 0.4)\n",
    "                bölümler = satir[bosluk_indexleri[0] + 1:bosluk_indexleri[-1]]\n",
    "                if ortalama >= 70 and final >= 70:\n",
    "                    gecenler.write(ad)\n",
    "                    gecenler.write(\" \" * (25 - len(ad)))\n",
    "                    gecenler.write(soyad)\n",
    "                    gecenler.write(\" \" * (25 - len(soyad)))\n",
    "                    gecenler.write(bölümler)\n",
    "                    gecenler.write(\" \" * (25 - len(bölümler)))\n",
    "                    gecenler.write(str(round(ortalama,1)))\n",
    "                    gecenler.write(\" \" * 21)\n",
    "                    gecenler.write(\"gecti\")\n",
    "                    gecenler.write(\"\\n\")\n",
    "                else:\n",
    "                    kalanlar.write(ad)\n",
    "                    kalanlar.write(\" \" * (25 - len(ad)))\n",
    "                    kalanlar.write(soyad)\n",
    "                    kalanlar.write(\" \" * (25 - len(soyad)))\n",
    "                    kalanlar.write(bölümler)\n",
    "                    kalanlar.write(\" \" * (25 - len(bölümler)))\n",
    "                    kalanlar.write(str(round(ortalama,1)))\n",
    "                    kalanlar.write(\" \" * 21)\n",
    "                    kalanlar.write(\"kaldi\")\n",
    "                    kalanlar.write(\"\\n\")\n",
    "\n",
    "\n",
    "            \n"
   ]
  },
  {
   "cell_type": "code",
   "execution_count": null,
   "metadata": {},
   "outputs": [],
   "source": []
  }
 ],
 "metadata": {
  "kernelspec": {
   "display_name": "Python 3",
   "language": "python",
   "name": "python3"
  },
  "language_info": {
   "codemirror_mode": {
    "name": "ipython",
    "version": 3
   },
   "file_extension": ".py",
   "mimetype": "text/x-python",
   "name": "python",
   "nbconvert_exporter": "python",
   "pygments_lexer": "ipython3",
   "version": "3.11.2"
  },
  "orig_nbformat": 4
 },
 "nbformat": 4,
 "nbformat_minor": 2
}
