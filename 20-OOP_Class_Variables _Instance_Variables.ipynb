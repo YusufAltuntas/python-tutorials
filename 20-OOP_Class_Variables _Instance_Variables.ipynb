{
 "cells": [
  {
   "cell_type": "markdown",
   "metadata": {},
   "source": [
    "# Class Variables vs Instance Variables\n",
    "\n",
    "Python'da, Class Variables (Sınıf Değişkenleri) ve Instance Variables (Örnek Değişkenleri) adını verdiğimiz iki farklı türde değişken bulunmaktadır. Bu değişkenlerin her biri farklı kullanım alanlarına sahiptir ve farklı özelliklere sahiptirler. İşte bu iki tür değişkeni ayrıntılı bir şekilde ele alalım:"
   ]
  },
  {
   "cell_type": "markdown",
   "metadata": {},
   "source": [
    "## Class Variables (Sınıf Değişkenleri):\n",
    "\n",
    "1) **Tanım**:\n",
    "\n",
    "* Sınıf değişkenleri, bir sınıfın tüm örnekleri arasında paylaşılan değişkenlerdir. Yani, bu değişkenlere sahip bir sınıftan türetilen her örnek aynı sınıf değişkenlerini kullanır.\n",
    "* Sınıfın kendisi için tanımlanan ve örnekler üzerinden erişilebilen değişkenlerdir.\n",
    "\n",
    "2) **Kullanım**:\n",
    "\n",
    "* Sınıf değişkenleri, tüm örnekler arasında paylaşılması gereken ortak bir bilgiyi temsil etmek için kullanılır. Örneğin, bir sınıfın tüm örnekleri için aynı dil ayarını saklamak için bir sınıf değişkeni kullanabilirsiniz.\n",
    "\n",
    "3) **Tanımlama**:\n",
    "\n",
    "* Sınıf içinde, sınıfın içinde tanımlanırlar ve genellikle büyük harfle başlarlar (PEP 8 stil rehberine uygun olarak).\n",
    "\n",
    "    ```\n",
    "    class MyClass:\n",
    "        class_variable = 0\n",
    "\n",
    "**Tüm örnekler bu sınıf değişkenine erişebilir.**\n"
   ]
  },
  {
   "cell_type": "code",
   "execution_count": 1,
   "metadata": {},
   "outputs": [
    {
     "name": "stdout",
     "output_type": "stream",
     "text": [
      "2\n"
     ]
    }
   ],
   "source": [
    "# Örnek: Sınıf değişkenini kullanarak tüm örnekler arasında paylaşılan bir değeri temsil edelim:\n",
    "\n",
    "class Student:\n",
    "    # class veriables\n",
    "    total_students = 0\n",
    "\n",
    "    def __init__(self, name):\n",
    "        self.name = name\n",
    "        Student.total_students += 1\n",
    "\n",
    "student1 = Student(\"Alice\")\n",
    "student2 = Student(\"Bob\")\n",
    "\n",
    "print(Student.total_students)  # Çıktı: 2\n"
   ]
  },
  {
   "cell_type": "markdown",
   "metadata": {},
   "source": [
    "## Instance Variables (Örnek Değişkenleri):\n",
    "\n",
    "1) Tanım:\n",
    "\n",
    "* Örnek değişkenleri, bir sınıfın özel örneklerine ait değişkenlerdir. Her örnek kendi kopyasına sahip olur ve bu değişkenlere sadece ilgili örnek üzerinden erişebilir.\n",
    "\n",
    "2) Kullanım:\n",
    "\n",
    "* Örnek değişkenleri, her örnek için farklı değerler saklamak için kullanılır. Örneğin, bir öğrenci sınıfı içinde her öğrencinin kendine ait bir ismi olabilir.\n",
    "\n",
    "3) Tanımlama:\n",
    "\n",
    "* Örnek değişkenleri, sınıfın __init__ yöntemi içinde tanımlanır ve self ile başlar."
   ]
  },
  {
   "cell_type": "code",
   "execution_count": null,
   "metadata": {},
   "outputs": [],
   "source": [
    "class Student:\n",
    "    def __init__(self, name):\n",
    "        self.name = name\n",
    "\n",
    "# Her öğrenci kendi \"name\" örnek değişkenine sahiptir."
   ]
  },
  {
   "cell_type": "code",
   "execution_count": null,
   "metadata": {},
   "outputs": [],
   "source": [
    "# Örnek: Örnek değişkenini kullanarak her öğrencinin kendine ait bir ismi temsil edelim:\n",
    "\n",
    "class Student:\n",
    "    def __init__(self, name):\n",
    "        self.name = name\n",
    "\n",
    "student1 = Student(\"Alice\")\n",
    "student2 = Student(\"Bob\")\n",
    "\n",
    "print(student1.name)  # Çıktı: \"Alice\"\n",
    "print(student2.name)  # Çıktı: \"Bob\"\n"
   ]
  },
  {
   "cell_type": "markdown",
   "metadata": {},
   "source": [
    "#### Sonuç olarak, sınıf değişkenleri tüm örnekler arasında paylaşılan verileri saklarken, örnek değişkenleri her örnek için özgü verileri saklar. Bu iki tür değişken, Python sınıflarını daha etkili ve esnek bir şekilde kullanmanıza olanak sağlar."
   ]
  },
  {
   "cell_type": "code",
   "execution_count": 6,
   "metadata": {},
   "outputs": [
    {
     "name": "stdout",
     "output_type": "stream",
     "text": [
      "1.1\n",
      "1.2\n",
      "1.1\n",
      "{'__module__': '__main__', 'zam_orani': 1.1, '__init__': <function calisan.__init__ at 0x000001FF24035620>, '__dict__': <attribute '__dict__' of 'calisan' objects>, '__weakref__': <attribute '__weakref__' of 'calisan' objects>, '__doc__': None}\n",
      "{'isim': 'Yusuf', 'maas': 6000, 'zam_orani': 1.2}\n",
      "{'isim': 'Yasin', 'maas': 5000}\n"
     ]
    }
   ],
   "source": [
    "class calisan:\n",
    "    zam_orani = 1.1                     # \"zam_orani\" adlı değişken tüm örnekler için geçerlidir yani ortaktır. Bu nedenle \"zam_orani\" adlı değişken sınıf değişkenidir.(class variables) \n",
    "    def __init__(self, isim, maas):     # \"zam_orani\" adlı değişkeni hem sınıf üzerinden hem de nesneler üzerinden erişebiliriz.\n",
    "        self.isim = isim\n",
    "        self.maas = maas\n",
    "        \n",
    "calisan1 = calisan(\"Yusuf\", 6000)       # her çalışan kendi \"isim\" değişkenine sahiptir. Yani isim değişkeni Örnek değişkenidir(instance variables).\n",
    "calisan2 = calisan(\"Yasin\", 5000)\n",
    "\n",
    "calisan1.zam_orani = 1.2   # değişkeni sınıf üzerinden güncellersek bütün örneklerde yeni değer geçerli olur. Fakat örnek üzerinden güncellersek sadece o örnek için yeni değer geçerli olur.\n",
    "print(calisan.zam_orani)\n",
    "print(calisan1.zam_orani)\n",
    "print(calisan2.zam_orani)\n",
    "\n",
    "print(calisan.__dict__)          # class üzerinden özellikleri sözlük şeklinde listelediğimizde zam_orani adlı değişkeni görebiliyoruz. Fakat nesne özelliklerini bir\n",
    "print(calisan1.__dict__)         # sözlük şeklinde döndürdüğümüzde zam_orani değişkenini göremiyoruz. Bunun nedeni zam_orani değişkeninin class attribute olmasıdır.\n",
    "print(calisan2.__dict__)"
   ]
  },
  {
   "cell_type": "markdown",
   "metadata": {},
   "source": [
    "* Yukarıda verdiğimiz örnekte \"zam_oranı adlı\" değişkene istersek sınıf üzerinden, istersekte sınıf üzerinden ürettiğimiz örnekler üzerinden erişebiliriz.\n",
    "\n",
    "* \"zam_orani\" adlı değişkene erişmek istediğimizde öncelikle nesnenin içine, yani \"__init__\" fonksiyonunun içine bakıyor. Bulamazsa sınıfın içine bakıyor.\n",
    "\n",
    "* eğer sınıfın içindeki \"zam_orani\" adlı değişkenin değerini değiştirirsek bu bütün nesneler için geçerli olur. Ancak sınıfın üzerinden değil de nesnenin kendi üzerinden \"zam_orani\" değişkeninde değişiklik yaparsak bu yalnızca o nesne için geçerli olur\n",
    "\n",
    "* Normalde \"zam_orani\" değişkeni yalnızca sınıfın içindeyken nesne özelliklerinde bu değişken gözükmez. Fakat \"calisan1\" adlı nesne için \"zam_orani\" değişkenini özel olarak güncellediğimiz için nesne özelliklerini bir sözlük olarak döndürdüğümüzde \"zam_orani\" adlı değişken gözükür."
   ]
  },
  {
   "cell_type": "code",
   "execution_count": 5,
   "metadata": {},
   "outputs": [
    {
     "name": "stdout",
     "output_type": "stream",
     "text": [
      "0\n",
      "1\n",
      "2\n"
     ]
    }
   ],
   "source": [
    "class Calisan:\n",
    "    personel_sayisi = 0  # Class variable (Sınıf değişkeni)\n",
    "\n",
    "    def __init__(self, isim, maas):\n",
    "        self.isim = isim  # Instance variable (Örnek değişkeni)\n",
    "        self.maas = maas  # Instance variable (Örnek değişkeni)\n",
    "        Calisan.personel_sayisi += 1  # Her yeni örnek oluşturulduğunda, personel sayısını artırır.\n",
    "\n",
    "print(Calisan.personel_sayisi)  # Başlangıçta personel sayısı 0'dır.\n",
    "calisan1 = Calisan(\"Yusuf\", 6000)  # Birinci çalışanı oluşturur.\n",
    "print(Calisan.personel_sayisi)  # Şimdi personel sayısı 1'dir.\n",
    "calisan2 = Calisan(\"Yasin\", 5000)  # İkinci çalışanı oluşturur.\n",
    "print(Calisan.personel_sayisi)  # Şimdi personel sayısı 2'dir.\n"
   ]
  }
 ],
 "metadata": {
  "kernelspec": {
   "display_name": "Python 3",
   "language": "python",
   "name": "python3"
  },
  "language_info": {
   "codemirror_mode": {
    "name": "ipython",
    "version": 3
   },
   "file_extension": ".py",
   "mimetype": "text/x-python",
   "name": "python",
   "nbconvert_exporter": "python",
   "pygments_lexer": "ipython3",
   "version": "3.11.2"
  },
  "orig_nbformat": 4
 },
 "nbformat": 4,
 "nbformat_minor": 2
}
