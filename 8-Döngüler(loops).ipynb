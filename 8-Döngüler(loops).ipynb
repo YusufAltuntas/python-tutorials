{
 "cells": [
  {
   "cell_type": "markdown",
   "metadata": {},
   "source": [
    "# DÖNGÜLER (LOOPS)\n",
    "\n",
    "   ### 1- for Döngüsü\n",
    "- for döngüsü, bir liste, demet, dize veya diğer yinelenebilir nesneler üzerinde belirli bir işlemi tekrarlamak için kullanılır. "
   ]
  },
  {
   "cell_type": "code",
   "execution_count": null,
   "metadata": {},
   "outputs": [],
   "source": [
    "# Örnek bir for döngüsü:\n",
    "\n",
    "liste = [1, 2, 3, 4, 5]\n",
    "for eleman in liste:\n",
    "    print(eleman)\n",
    "\n",
    "#Bu döngü, listedeki her elemanı ekrana yazdırır."
   ]
  },
  {
   "cell_type": "markdown",
   "metadata": {},
   "source": [
    "    - Döngülerde İterasyon İndeksi:\n",
    "* for döngülerinde bir liste veya demetin elemanları üzerinde dolaşırken indeksleri de takip etmek için enumerate fonksiyonu kullanılabilir."
   ]
  },
  {
   "cell_type": "code",
   "execution_count": 1,
   "metadata": {},
   "outputs": [
    {
     "name": "stdout",
     "output_type": "stream",
     "text": [
      "Index: 0, Eleman: a\n",
      "Index: 1, Eleman: b\n",
      "Index: 2, Eleman: c\n"
     ]
    }
   ],
   "source": [
    "liste = ['a', 'b', 'c']\n",
    "for indeks, eleman in enumerate(liste):\n",
    "    print(f\"Index: {indeks}, Eleman: {eleman}\")\n"
   ]
  },
  {
   "cell_type": "markdown",
   "metadata": {},
   "source": [
    "    - Döngülerin İç İçe Kullanımı:\n",
    "* Döngüler, iç içe yerleştirilebilir. Bu, karmaşık yapılar oluşturmanıza olanak tanır. Örneğin, bir liste içindeki her elemanın her elemanını kontrol etmek için iç içe geçmiş for döngülerini kullanabilirsiniz."
   ]
  },
  {
   "cell_type": "code",
   "execution_count": 2,
   "metadata": {},
   "outputs": [
    {
     "name": "stdout",
     "output_type": "stream",
     "text": [
      "a 1\n",
      "a 2\n",
      "a 3\n",
      "b 1\n",
      "b 2\n",
      "b 3\n",
      "c 1\n",
      "c 2\n",
      "c 3\n"
     ]
    }
   ],
   "source": [
    "listel = [\"a\", \"b\", \"c\"]\n",
    "liste2 = [1,2,3]\n",
    "for harf in listel:\n",
    "    for rakam in liste2:\n",
    "        print(harf, rakam)"
   ]
  },
  {
   "cell_type": "markdown",
   "metadata": {},
   "source": [
    "    A) range Fonksiyonu\n",
    "\n",
    "- range() fonksiyonu, Python'da belirli bir aralıktaki ardışık sayıları üretmek için kullanılan bir fonksiyondur. Genellikle for döngüsü ile birlikte kullanılır ve belirli bir sayı aralığında dolaşmak veya belirli sayıda işlem yapmak için kullanılır. range() fonksiyonunun temel kullanımı şu şekildedir:\n",
    "\n",
    "------------- range(başlangıç, bitiş, adım) -------------\n",
    "\n",
    "- Bu fonksiyon üç parametre alır:\n",
    "\n",
    "* başlangıç (start): Sayı dizisinin başlangıç değeri (varsayılan olarak 0).\n",
    "* bitiş (stop): Sayı dizisinin son değeri (bu değer dahil edilmez).\n",
    "* adım (step): Ardışık sayılar arasındaki fark (varsayılan olarak 1).\n",
    "\n",
    "\n",
    "\n"
   ]
  },
  {
   "cell_type": "code",
   "execution_count": null,
   "metadata": {},
   "outputs": [],
   "source": [
    "for sayi in range(1, 10, 2):\n",
    "    print(sayi)\n",
    "\n",
    "# Bu kod, 1'den başlayarak 10'a kadar (10 dahil değil) olan sayıları 2'şer artırarak yazdırır."
   ]
  },
  {
   "cell_type": "markdown",
   "metadata": {},
   "source": [
    "    * range() ile liste oluşturma:\n",
    "\n",
    "- list() fonksiyonu ile range() sonucunu kullanarak bir liste oluşturabilirsiniz:"
   ]
  },
  {
   "cell_type": "code",
   "execution_count": null,
   "metadata": {},
   "outputs": [],
   "source": [
    "sayilar = list(range(1, 6))\n",
    "print(sayilar)\n",
    "\n",
    "# Bu kod, [1, 2, 3, 4, 5] listesini oluşturur."
   ]
  },
  {
   "cell_type": "markdown",
   "metadata": {},
   "source": [
    "# 2- While döngüsü\n",
    "\n",
    " - while döngüsü, belirli bir koşul doğru olduğu sürece işlemi tekrarlar. İşte while döngüsünün temel yapısı:\n",
    "\n",
    "```Python3\n",
    "while koşul:\n",
    "    # Koşul doğru olduğu sürece yapılacak işlem\n"
   ]
  },
  {
   "cell_type": "code",
   "execution_count": null,
   "metadata": {},
   "outputs": [],
   "source": [
    "# Örnek bir while döngüsü: \n",
    "\n",
    "sayac = 0\n",
    "while sayac < 5:\n",
    "    print(sayac)\n",
    "    sayac += 1\n",
    "\n",
    "# Bu döngü, sayac 5 olana kadar sayacı ekrana yazdırır.\n"
   ]
  },
  {
   "cell_type": "markdown",
   "metadata": {},
   "source": [
    "    B) Döngü kontrol İfadeleri\n",
    "\n",
    "- Döngülerin içinde belirli kontrolleri yapmak için break ve continue ifadeleri kullanılabilir.\n",
    "\n",
    "* break: Döngüyü anında sonlandırır.\n",
    "* continue: Döngüyü sonlandırmaz ancak o döngü adımını atlar ve bir sonraki adıma geçer."
   ]
  },
  {
   "cell_type": "code",
   "execution_count": 3,
   "metadata": {},
   "outputs": [
    {
     "name": "stdout",
     "output_type": "stream",
     "text": [
      "2 bir asal sayıdır\n",
      "3 bir asal sayıdır\n",
      "4 bir sayının 2 * 2 şeklinde eşit olduğu bulundu.\n",
      "5 bir asal sayıdır\n",
      "6 bir sayının 2 * 3 şeklinde eşit olduğu bulundu.\n",
      "7 bir asal sayıdır\n",
      "8 bir sayının 2 * 4 şeklinde eşit olduğu bulundu.\n",
      "9 bir sayının 3 * 3 şeklinde eşit olduğu bulundu.\n"
     ]
    }
   ],
   "source": [
    "for n in range(2, 10):\n",
    "    for x in range(2, n):\n",
    "        if n % x == 0:\n",
    "            print(n, 'bir sayının', x, '*', n // x, 'şeklinde eşit olduğu bulundu.')\n",
    "            break\n",
    "    else:\n",
    "        # Faktör bulunmadan döngü tamamlandı\n",
    "        print(n, 'bir asal sayıdır')\n"
   ]
  },
  {
   "cell_type": "code",
   "execution_count": 6,
   "metadata": {},
   "outputs": [
    {
     "name": "stdout",
     "output_type": "stream",
     "text": [
      "{'Hans': 'aktif', '景太郎': 'aktif'}\n",
      "{'Hans': 'aktif', '景太郎': 'aktif'}\n"
     ]
    }
   ],
   "source": [
    "# Örnek bir koleksiyon oluştur\n",
    "kullanicilar = {'Hans': 'aktif', 'Éléonore': 'pasif', '景太郎': 'aktif'}\n",
    "\n",
    "# Strateji: Bir kopya üzerinde döngü\n",
    "for kullanici, durum in kullanicilar.copy().items():\n",
    "    if durum == 'pasif':\n",
    "        del kullanicilar[kullanici]\n",
    "\n",
    "# Strateji: Yeni bir koleksiyon oluştur\n",
    "aktif_kullanicilar = {}\n",
    "for kullanici, durum in kullanicilar.items():\n",
    "    if durum == 'aktif':\n",
    "        aktif_kullanicilar[kullanici] = durum\n",
    "\n",
    "print(kullanicilar)\n",
    "print(aktif_kullanicilar)\n"
   ]
  },
  {
   "cell_type": "code",
   "execution_count": null,
   "metadata": {},
   "outputs": [],
   "source": [
    "knights = {'gallahad': 'the pure', 'robin': 'the brave'}\n",
    "for k, v in knights.items():\n",
    "    print(k, v)"
   ]
  },
  {
   "cell_type": "code",
   "execution_count": null,
   "metadata": {},
   "outputs": [],
   "source": [
    "# Bir dizi boyunca döngü yaparken, enumerate() fonksiyonu kullanılarak konum indeksi ve karşılık gelen değer aynı anda alınabilir\n",
    "\n",
    "for i, v in enumerate(['tic', 'tac', 'toe']):\n",
    "    print(i, v)"
   ]
  },
  {
   "cell_type": "code",
   "execution_count": null,
   "metadata": {},
   "outputs": [],
   "source": [
    "# Bir dizi üzerinde ters yönde döngü yapmak için, önce diziyi ileri yönde belirtin ve ardından reversed() fonksiyonunu çağırın.\n",
    "\n",
    "for i in reversed(range(1, 10, 2)):\n",
    "    print(i)"
   ]
  }
 ],
 "metadata": {
  "kernelspec": {
   "display_name": "Python 3",
   "language": "python",
   "name": "python3"
  },
  "language_info": {
   "codemirror_mode": {
    "name": "ipython",
    "version": 3
   },
   "file_extension": ".py",
   "mimetype": "text/x-python",
   "name": "python",
   "nbconvert_exporter": "python",
   "pygments_lexer": "ipython3",
   "version": "3.11.2"
  },
  "orig_nbformat": 4
 },
 "nbformat": 4,
 "nbformat_minor": 2
}
