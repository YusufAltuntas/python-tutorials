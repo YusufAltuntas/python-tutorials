{
 "cells": [
  {
   "cell_type": "markdown",
   "metadata": {},
   "source": [
    "# datetime() Modülü\n",
    "\n",
    "    * Python'da datetime modülü, tarih ve saat işlemleri için kullanılan temel bir modüldür. Bu modülü kullanarak tarihleri oluşturabilir, aritmetik işlemler yapabilir, farkları hesaplayabilir ve tarih/saat nesnelerini biçimlendirebilirsiniz. İşte datetime modülünü kullanmanız için bilmeniz gereken temel konular ve örnekler:"
   ]
  },
  {
   "cell_type": "markdown",
   "metadata": {},
   "source": [
    "### 1) datetime.date() Fonksiyonu:\n",
    "\n",
    "* Python'da date() fonksiyonu, tarih bilgisini içeren bir datetime.date nesnesi oluşturmanızı sağlar. Bu fonksiyon genellikle tarih verileriyle çalışırken kullanılır.\n",
    "\n",
    "- date() fonksiyonunun kullanımı:\n",
    "\n",
    "    * date(year, month, day): Bu fonksiyon, yıl (year), ay (month) ve gün (day) argümanlarını alır ve bu bilgileri kullanarak bir datetime.date nesnesi oluşturur. Fonksiyonun bu üç argümanı zorunludur."
   ]
  },
  {
   "cell_type": "code",
   "execution_count": 8,
   "metadata": {},
   "outputs": [
    {
     "name": "stdout",
     "output_type": "stream",
     "text": [
      "2023-09-22\n",
      "2023\n",
      "22\n",
      "9\n",
      "4\n",
      "5\n"
     ]
    }
   ],
   "source": [
    "# Şu anki tarihi almak (sistem saatini kullanarak):\n",
    "\n",
    "from datetime import date\n",
    "\n",
    "bugün = datetime.date.today()\n",
    "print(bugün)\n",
    "print(bugün.year)\n",
    "print(bugün.day)\n",
    "print(bugün.month)\n",
    "print(bugün.weekday())    # pazartesiyi sıfır kabul edip haftanın günlerini sıfırdan 6 ya numaralandırır.\n",
    "print(bugün.isoweekday()) # pazartesiyi 1 kabul edip haftanın günlerini 1 den 7 ye numaralandırır\n"
   ]
  },
  {
   "cell_type": "code",
   "execution_count": 10,
   "metadata": {},
   "outputs": [
    {
     "name": "stdout",
     "output_type": "stream",
     "text": [
      "2003-08-24\n"
     ]
    }
   ],
   "source": [
    "### Belirli bir tarih oluşturma:\n",
    "\n",
    "from datetime import date\n",
    "\n",
    "gecmis_zaman = date(2003, 8, 24)  # 2003-08-24\n",
    "print(gecmis_zaman)"
   ]
  },
  {
   "cell_type": "code",
   "execution_count": 11,
   "metadata": {},
   "outputs": [
    {
     "name": "stdout",
     "output_type": "stream",
     "text": [
      "7334 days, 0:00:00\n"
     ]
    }
   ],
   "source": [
    "# Geçen zamanı bulma:\n",
    "\n",
    "gecen_zaman = bugün - gecmis_zaman\n",
    "print(gecen_zaman)"
   ]
  },
  {
   "cell_type": "markdown",
   "metadata": {},
   "source": [
    "### timedelta() Fonksiyonu:\n",
    "\n",
    "*  timedelta() fonksiyonu, Python'un datetime modülünde yer alan bir fonksiyondur ve iki tarih veya saat arasındaki zaman farkını temsil eden bir datetime.timedelta nesnesi oluşturmanızı sağlar. Bu nesne, belirli bir zaman dilimini (gün, saat, dakika, saniye, mikrosaniye) ifade eder.\n",
    "\n",
    "* imedelta(days=0, seconds=0, microseconds=0, milliseconds=0, minutes=0, hours=0, weeks=0): Bu fonksiyon, belirli bir süreyi temsil etmek için kullanılır ve birçok isteğe bağlı argümanı alır. Örneğin, days ile gün, seconds ile saniye, minutes ile dakika gibi zaman birimlerini belirtebilirsiniz."
   ]
  },
  {
   "cell_type": "code",
   "execution_count": 18,
   "metadata": {},
   "outputs": [],
   "source": [
    "# 2 gün 5 saat 30 dakika süren bir timedelta nesnesi oluşturma:\n",
    "\n",
    "from datetime import timedelta\n",
    "\n",
    "duration = timedelta(days=2, hours=5, minutes=30)\n"
   ]
  },
  {
   "cell_type": "code",
   "execution_count": 20,
   "metadata": {},
   "outputs": [
    {
     "name": "stdout",
     "output_type": "stream",
     "text": [
      "8 days, 0:00:00\n"
     ]
    }
   ],
   "source": [
    "# İki tarih arasındaki zaman farkını hesaplama:\n",
    "\n",
    "from datetime import datetime, timedelta\n",
    "\n",
    "date1 = datetime(2023, 9, 22)\n",
    "date2 = datetime(2023, 9, 30)\n",
    "time_difference = date2 - date1\n",
    "print(time_difference)"
   ]
  },
  {
   "cell_type": "code",
   "execution_count": 22,
   "metadata": {},
   "outputs": [
    {
     "name": "stdout",
     "output_type": "stream",
     "text": [
      "2023-09-22 22:22:11.001656\n",
      "2023-09-22 23:22:11.001656\n"
     ]
    }
   ],
   "source": [
    "# Belirli bir süreyi tarih veya saat nesnesine eklemek:\n",
    "\n",
    "from datetime import datetime, timedelta\n",
    "\n",
    "suanki_zaman = datetime.now()\n",
    "one_hour_later = suanki_zaman + timedelta(hours=1)\n",
    "print(suanki_zaman)\n",
    "print(one_hour_later)\n"
   ]
  },
  {
   "cell_type": "markdown",
   "metadata": {},
   "source": [
    "### 2) datetime.datetime() Fonksiyonu:\n",
    "\n",
    "* datetime.datetime() fonksiyonu, Python'un datetime modülünde yer alan bir fonksiyondur ve tarih ve saat bilgisini içeren bir datetime.datetime nesnesi oluşturmanıza olanak tanır. Bu nesne, hem tarih (yıl, ay, gün) hem de saat (saat, dakika, saniye) bilgilerini içerir. \n",
    "\n",
    "* datetime(year, month, day, hour=0, minute=0, second=0, microsecond=0): Bu fonksiyon, yıl (year), ay (month), gün (day) ve isteğe bağlı olarak saat (hour), dakika (minute), saniye (second) ve mikrosaniye (microsecond) gibi argümanları alır ve bu bilgilere dayalı olarak bir datetime.datetime nesnesi oluşturur. İlk üç argüman (yıl, ay, gün) zorunludur."
   ]
  },
  {
   "cell_type": "code",
   "execution_count": 12,
   "metadata": {},
   "outputs": [
    {
     "name": "stdout",
     "output_type": "stream",
     "text": [
      "2023-09-22 14:30:00\n"
     ]
    }
   ],
   "source": [
    "# A) Belirli bir tarih ve saat oluşturma:\n",
    "\n",
    "from datetime import datetime\n",
    "\n",
    "my_datetime = datetime(2023, 9, 22, 14, 30, 0)  # 2023-09-22 14:30:00\n",
    "print(my_datetime)"
   ]
  },
  {
   "cell_type": "code",
   "execution_count": 17,
   "metadata": {},
   "outputs": [
    {
     "name": "stdout",
     "output_type": "stream",
     "text": [
      "2023-09-22 22:10:15.779410\n",
      "2023\n",
      "9\n",
      "22\n",
      "22\n",
      "10\n",
      "15\n",
      "779410\n"
     ]
    }
   ],
   "source": [
    "# B) Şu anki tarih ve saat bilgisini almak (sistem saatini kullanarak):\n",
    "\n",
    "from datetime import datetime\n",
    "\n",
    "suan = datetime.now()\n",
    "print(suan)\n",
    "print(suan.year)\n",
    "print(suan.month)\n",
    "print(suan.day)\n",
    "print(suan.hour)\n",
    "print(suan.minute)\n",
    "print(suan.second)\n",
    "print(suan.microsecond)\n"
   ]
  },
  {
   "cell_type": "code",
   "execution_count": 15,
   "metadata": {},
   "outputs": [
    {
     "name": "stdout",
     "output_type": "stream",
     "text": [
      "2023-09-22 22:08:56.332645\n",
      "2023-09-22 23:08:56.332645\n"
     ]
    }
   ],
   "source": [
    "# C) datetime nesneleri üzerinde tarih ve saat aritmetiği yapma:\n",
    "\n",
    "from datetime import datetime, timedelta\n",
    "\n",
    "current_datetime = datetime.now()\n",
    "next_hour = current_datetime + timedelta(hours=1)  # 1 saat ekler\n",
    "print(current_datetime)\n",
    "print(next_hour)\n"
   ]
  },
  {
   "cell_type": "markdown",
   "metadata": {},
   "source": [
    "## datetime Modülü İle Çözülebilecek Bir Eueler Problemi\n",
    "\n",
    "* 20. yüzyılda yani 1 Ocak 1901 den 31 Aralık 2000 e kadar kaç kere bir ayın ilk günü pazar olur?"
   ]
  },
  {
   "cell_type": "code",
   "execution_count": 23,
   "metadata": {},
   "outputs": [
    {
     "name": "stdout",
     "output_type": "stream",
     "text": [
      "171\n"
     ]
    }
   ],
   "source": [
    "pazar_sayisi = 0\n",
    "\n",
    "for yil in range(1901, 2001):\n",
    "    for ay in range(1,13):\n",
    "        if datetime(yil, ay, 1).weekday() == 6:\n",
    "            pazar_sayisi += 1\n",
    "print(pazar_sayisi)"
   ]
  },
  {
   "cell_type": "code",
   "execution_count": null,
   "metadata": {},
   "outputs": [],
   "source": []
  }
 ],
 "metadata": {
  "kernelspec": {
   "display_name": "Python 3",
   "language": "python",
   "name": "python3"
  },
  "language_info": {
   "codemirror_mode": {
    "name": "ipython",
    "version": 3
   },
   "file_extension": ".py",
   "mimetype": "text/x-python",
   "name": "python",
   "nbconvert_exporter": "python",
   "pygments_lexer": "ipython3",
   "version": "3.11.2"
  },
  "orig_nbformat": 4
 },
 "nbformat": 4,
 "nbformat_minor": 2
}
