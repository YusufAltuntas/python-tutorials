{
 "cells": [
  {
   "cell_type": "markdown",
   "metadata": {},
   "source": [
    "# Fonksiyonlar(functions)\n",
    "\n",
    "* Python'da fonksiyonlar, kodunuzu modüler hale getirmenize ve tekrar kullanılabilirlik sağlamanıza yardımcı olan temel yapı taşlarından biridir. Fonksiyonlar, belirli bir işlevi yerine getiren ve parametrelerle çalışabilen kod bloklarıdır. \n",
    "\n",
    "### Fonksiyon Tanımlama (Definition):\n",
    "\n",
    "* Python'da bir fonksiyon tanımlamak için def anahtar kelimesini kullanırız. Temel bir fonksiyon tanımı aşağıdaki gibidir:\n",
    "\n",
    "```\n",
    "def fonksiyon_adı(parametre1, parametre2, ...):\n",
    "    # Fonksiyonun işlevi burada tanımlanır\n",
    "    # İşlem sonucu varsa return anahtar kelimesiyle döndürülür\n",
    "```\n",
    "\n",
    "* fonksiyon_adı: Fonksiyonun adıdır ve sizin tarafınızdan belirlenir.\n",
    "* parametre1, parametre2, ...: Fonksiyonun giriş parametreleri, işlevin çalışması için gerekli verileri alır.\n",
    "* return: Fonksiyon, işlem sonucunu geri döndürmek istediğinizde kullanılır (isteğe bağlıdır).\n",
    "\n",
    "Örnek bir fonksiyon tanımı:\n",
    "\n",
    "```\n",
    "def selamla(isim):\n",
    "    return f\"Merhaba, {isim}!\"\n",
    "```\n",
    "\n",
    "- İşte Python'da fonksiyonların önemi ve kullanımı hakkında daha fazla ayrıntı ve örnek:"
   ]
  },
  {
   "cell_type": "markdown",
   "metadata": {},
   "source": [
    "        A) Kodun Modüler Hale Gelmesi: \n",
    "        Fonksiyonlar, bir programı küçük, bağımsız parçalara bölmek ve her parçayı ayrı ayrı düşünmek anlamına gelir. Bu, kodunuzun daha kolay anlaşılmasını, bakımını \n",
    "        yapılmasını ve hataların izlenmesini sağlar. "
   ]
  },
  {
   "cell_type": "code",
   "execution_count": 1,
   "metadata": {},
   "outputs": [
    {
     "name": "stdout",
     "output_type": "stream",
     "text": [
      "8\n"
     ]
    }
   ],
   "source": [
    "def toplama(a, b):\n",
    "    return a + b\n",
    "\n",
    "def carpma(a, b):\n",
    "    return a * b\n",
    "\n",
    "sonuc = toplama(3, 5)\n",
    "print(sonuc)  # Çıktı: 8\n"
   ]
  },
  {
   "cell_type": "markdown",
   "metadata": {},
   "source": [
    "        B) Tekrar Kullanılabilirlik: \n",
    "        Fonksiyonlar, aynı işlemi birden fazla kez yapmanız gerektiğinde işleri kolaylaştırır. İhtiyaç duyduğunuzda fonksiyonu tekrar kullanabilirsiniz."
   ]
  },
  {
   "cell_type": "code",
   "execution_count": 2,
   "metadata": {},
   "outputs": [
    {
     "name": "stdout",
     "output_type": "stream",
     "text": [
      "Merhaba, Ahmet!\n",
      "Merhaba, Ayşe!\n"
     ]
    }
   ],
   "source": [
    "def selamla(isim):\n",
    "    return f\"Merhaba, {isim}!\"\n",
    "\n",
    "print(selamla(\"Ahmet\"))  # Çıktı: Merhaba, Ahmet!\n",
    "print(selamla(\"Ayşe\"))   # Çıktı: Merhaba, Ayşe!\n"
   ]
  },
  {
   "cell_type": "markdown",
   "metadata": {},
   "source": [
    "        C) Kodun Daha Anlaşılır Olması: \n",
    "        Kodunuzu fonksiyonlarla bölerek, her bir fonksiyonun ne yaptığını daha iyi belirtmeniz mümkün olur. Bu, kodunuzu diğer geliştiricilerle daha iyi paylaşılabilir \n",
    "        hale getirir."
   ]
  },
  {
   "cell_type": "code",
   "execution_count": 3,
   "metadata": {},
   "outputs": [
    {
     "name": "stdout",
     "output_type": "stream",
     "text": [
      "Alan: 24, Karekök: 4.898979485566356\n"
     ]
    }
   ],
   "source": [
    "def hesapla_karekök(sayı):\n",
    "    return sayı ** 0.5\n",
    "\n",
    "def alan_hesapla(uzunluk, genişlik):\n",
    "    return uzunluk * genişlik\n",
    "\n",
    "kenar1 = 4\n",
    "kenar2 = 6\n",
    "alan = alan_hesapla(kenar1, kenar2)\n",
    "kök = hesapla_karekök(alan)\n",
    "print(f\"Alan: {alan}, Karekök: {kök}\")\n"
   ]
  },
  {
   "cell_type": "markdown",
   "metadata": {},
   "source": [
    "## Return Anahtar Kelimesi\n",
    "\n",
    "    * return ifadesi, bir Python fonksiyonunun çalıştıktan sonra sonucunu vermesini sağlar. Bu sonuç, fonksiyonun çağrıldığı yere iletilir ve orada kullanılabilir veya \n",
    "      başka bir amaç için kullanılabilir.\n",
    "\n",
    "- Örneklerle açıklamak gerekirse:\n",
    "\n",
    "```\n",
    "def toplama(a, b):\n",
    "    sonuc = a + b\n",
    "    return sonuc\n",
    "\n",
    "sonuc = toplama(3, 5)\n",
    "print(sonuc)  # Çıktı: 8\n",
    "```\n",
    "\n",
    "- Eğer return kullanmasaydık fonksiyon sonucunu sonuc adlı değişkene atayamazdık. Return kullandığımız için sonuç daha sonra kullanılmak üzere (bir değişkene atanmak gibi) hafızaya kaydedildi. "
   ]
  },
  {
   "cell_type": "code",
   "execution_count": 4,
   "metadata": {},
   "outputs": [
    {
     "name": "stdout",
     "output_type": "stream",
     "text": [
      "SELAM DÜNYA!\n"
     ]
    }
   ],
   "source": [
    "# Verilen metni büyük harfe çeviren fonksiyon:\n",
    "\n",
    "def buyuk_harfe_cevir(metin):\n",
    "    metin = metin.upper()\n",
    "    print(metin)\n",
    "\n",
    "buyuk_harfe_cevir(\"selam dünya!\")"
   ]
  },
  {
   "cell_type": "code",
   "execution_count": 5,
   "metadata": {},
   "outputs": [
    {
     "name": "stdout",
     "output_type": "stream",
     "text": [
      "İndirimli tutar: 126.0\n"
     ]
    }
   ],
   "source": [
    "# Bir ürüne indirim oranı uygulayıp indirimli fiyatı ekrana yazdıran fonksiyon\n",
    "\n",
    "def indirim_yap(fiyat, yuzde):\n",
    "    indirim_miktarı = fiyat * (yuzde / 100)\n",
    "    indirimli_fiyat = fiyat - indirim_miktarı\n",
    "    print(f\"İndirimli tutar: {indirimli_fiyat}\")\n",
    "\n",
    "indirim_yap(180,30)"
   ]
  },
  {
   "cell_type": "code",
   "execution_count": 7,
   "metadata": {},
   "outputs": [
    {
     "name": "stdout",
     "output_type": "stream",
     "text": [
      "5.0\n",
      "Hata: Sıfıra bölme hatası!\n"
     ]
    }
   ],
   "source": [
    "def bolme(a, b):\n",
    "    if b == 0:\n",
    "        return \"Hata: Sıfıra bölme hatası!\"\n",
    "    else:\n",
    "        return a / b\n",
    "\n",
    "sonuc1 = bolme(10, 2)\n",
    "sonuc2 = bolme(10, 0)\n",
    "\n",
    "print(sonuc1)  # Çıktı: 5.0\n",
    "print(sonuc2)  # Çıktı: Hata: Sıfıra bölme hatası!\n"
   ]
  },
  {
   "cell_type": "code",
   "execution_count": null,
   "metadata": {},
   "outputs": [],
   "source": []
  }
 ],
 "metadata": {
  "kernelspec": {
   "display_name": "Python 3",
   "language": "python",
   "name": "python3"
  },
  "language_info": {
   "codemirror_mode": {
    "name": "ipython",
    "version": 3
   },
   "file_extension": ".py",
   "mimetype": "text/x-python",
   "name": "python",
   "nbconvert_exporter": "python",
   "pygments_lexer": "ipython3",
   "version": "3.11.2"
  },
  "orig_nbformat": 4
 },
 "nbformat": 4,
 "nbformat_minor": 2
}
