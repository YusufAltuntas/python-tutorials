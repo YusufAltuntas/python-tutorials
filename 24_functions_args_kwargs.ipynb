{
 "cells": [
  {
   "cell_type": "markdown",
   "metadata": {},
   "source": [
    "# Fonksiyonlarda *args ve **Kwargs Kullanımı"
   ]
  },
  {
   "cell_type": "markdown",
   "metadata": {},
   "source": [
    "1- **Positional Arguments**\n",
    "* Python'da fonksiyonlarda \"positional arguments\" veya \"pozisyonel argümanlar,\" fonksiyon çağrısı sırasında argümanların sırasına göre iletilen argümanları ifade eder. Bu, fonksiyon tanımında parametrelerin sırasına uygun şekilde argümanların iletilmesini gerektirir. Pozisyonel argümanlar, fonksiyon çağrısının sırasına ve parametrelerin sırasına bağlı olduğu için, dikkatli olunması ve doğru sırayı kullanmanız gerekmektedir. Eğer sıra karıştırılırsa veya eksik argümanlar iletilirse, hata alabilirsiniz veya beklenmeyen sonuçlar elde edebilirsiniz."
   ]
  },
  {
   "cell_type": "code",
   "execution_count": null,
   "metadata": {},
   "outputs": [],
   "source": [
    "# Örnek 1: Bir fonksiyonun parametreleriyle pozisyonel argümanlar kullanma\n",
    "\n",
    "def carpma(a, b):\n",
    "    return a * b\n",
    "\n",
    "sonuc = carpma(4, 5)\n",
    "print(sonuc)  # 4 * 5 = 20\n",
    "\n",
    "# Örnekte, carpma fonksiyonu iki pozisyonel argüman alır ve bu argümanlar sırayla a ve b parametrelerine atanır."
   ]
  },
  {
   "cell_type": "code",
   "execution_count": null,
   "metadata": {},
   "outputs": [],
   "source": [
    "# Örnek 2: Parametre sırasını karıştırmanın sonuçları\n",
    "\n",
    "def bolme(a, b):\n",
    "    return a / b\n",
    "\n",
    "sonuc = bolme(10, 2)\n",
    "print(sonuc)  # 10 / 2 = 5\n",
    "\n",
    "# Parametre sırasını karıştırırsak\n",
    "sonuc = bolme(2, 10)\n",
    "print(sonuc)  # 2 / 10 = 0.2\n",
    "\n",
    "# Burada, bolme fonksiyonu iki pozisyonel argüman alır. İkinci örnekte argümanların sırası değiştirildiği için sonuç farklı olur."
   ]
  },
  {
   "cell_type": "code",
   "execution_count": null,
   "metadata": {},
   "outputs": [],
   "source": [
    "# Örnek 3: Eksik argüman kullanımı\n",
    "\n",
    "def kare_alma(a, b, c):\n",
    "    return a ** 2, b ** 2, c ** 2\n",
    "\n",
    "sonuclar = kare_alma(2, 3)\n",
    "print(sonuclar)  # Hata: eksik argümanlar\n",
    "\n",
    "# Bu örnekte, kare_alma fonksiyonu üç pozisyonel argüman alır, ancak sadece iki argüman iletilmiştir. Bu durumda bir hata alırsınız çünkü eksik argümanlar iletilmiştir."
   ]
  },
  {
   "cell_type": "markdown",
   "metadata": {},
   "source": [
    "2- **Keyword Arguments**\n",
    "\n",
    "- Python'da, \"keyword arguments\" veya \"anahtar kelime argümanları,\" bir fonksiyonu çağırırken argümanları parametre isimleri ile birlikte iletmeyi ifade eder. Bu, pozisyonlarına göre değil, doğrudan parametre isimleri ile belirtilir. Bu sayede, fonksiyonun parametrelerinin sırası önemli olmaz.\n",
    "\n",
    "- Keyword argümanlar, fonksiyon çağrısını daha açık ve anlaşılır hale getirir ve fonksiyonun hangi argümanın ne olduğunu anlamak kolaylaşır. Aynı zamanda, bazı parametreleri atlayarak veya sıralamada değişiklik yaparak sadece belirli parametreleri değiştirmenizi sağlar."
   ]
  },
  {
   "cell_type": "code",
   "execution_count": null,
   "metadata": {},
   "outputs": [],
   "source": [
    "def carpma(a, b):\n",
    "    return a * b\n",
    "\n",
    "sonuc1 = carpma(a=4, b=5)  # Keyword argüman kullanımı\n",
    "print(sonuc1)  # 4 * 5 = 20\n",
    "\n",
    "sonuc2 = carpma(b=5, a=4)  # Parametre sırasını değiştirmek mümkün\n",
    "print(sonuc2)  # 4 * 5 = 20\n",
    "\n",
    "sonuc3 = carpma(b=5, a=10)  # Sadece belirli parametreleri değiştirmek\n",
    "print(sonuc3)  # 10 * 5 = 50\n",
    "\n",
    "# Yukarıdaki örneklerde, carpma fonksiyonu keyword argümanlarla çağrılmıştır. Parametreler a ve b anahtarları ile belirtilmiş ve sıra önemli değildir. \n",
    "# Bu, kodun okunabilirliğini artırır ve fonksiyonun hangi parametrenin ne anlama geldiği açıktır.\n"
   ]
  },
  {
   "cell_type": "code",
   "execution_count": null,
   "metadata": {},
   "outputs": [],
   "source": [
    "# Örnek 1: Varsayılan değerli bir parametreyi değiştirme\n",
    "\n",
    "def selamla(isim, hosgeldin_mesaji=\"Merhaba\"):\n",
    "    return f\"{hosgeldin_mesaji}, {isim}!\"\n",
    "\n",
    "mesaj1 = selamla(\"Ahmet\")\n",
    "print(mesaj1)  # \"Merhaba, Ahmet!\"\n",
    "\n",
    "mesaj2 = selamla(\"Mehmet\", hosgeldin_mesaji=\"Selam\")\n",
    "print(mesaj2)  # \"Selam, Mehmet!\"\n",
    "\n",
    "# Bu örnekte, selamla fonksiyonu iki parametre alır, ancak hosgeldin_mesaji adlı ikinci parametre bir varsayılan değere sahiptir. \n",
    "# İlk çağrıda varsayılan değer kullanılırken, ikinci çağrıda bu değer değiştirilerek kullanılır."
   ]
  },
  {
   "cell_type": "code",
   "execution_count": null,
   "metadata": {},
   "outputs": [],
   "source": [
    "# Örnek 2: Birden fazla keyword argüman kullanımı\n",
    "\n",
    "def ogrenci_bilgisi(ad, soyad, numara, sinif):\n",
    "    return f\"Ad: {ad}, Soyad: {soyad}, Numara: {numara}, Sınıf: {sinif}\"\n",
    "\n",
    "bilgi = ogrenci_bilgisi(soyad=\"Demir\", numara=1234, ad=\"Ali\", sinif=\"10A\")\n",
    "print(bilgi)  # \"Ad: Ali, Soyad: Demir, Numara: 1234, Sınıf: 10A\"\n",
    "\n",
    "# Bu örnekte, ogrenci_bilgisi fonksiyonu dört parametre alır ve bu parametreler keyword argümanlarla iletilmiştir. Sıra önemli değildir.\n"
   ]
  },
  {
   "cell_type": "code",
   "execution_count": null,
   "metadata": {},
   "outputs": [],
   "source": [
    "# Örnek 3: Farklı keyword argümanları farklı zamanlarda kullanma\n",
    "\n",
    "def toplama(a, b, c):\n",
    "    return a + b + c\n",
    "\n",
    "sonuc1 = toplama(1, 2, 3)  # Pozisyonel argümanlar\n",
    "sonuc2 = toplama(a=1, b=2, c=3)  # Keyword argümanlar\n",
    "sonuc3 = toplama(b=2, a=1, c=3)  # Parametre sırasını karıştırmak\n",
    "\n",
    "print(sonuc1)  # 1 + 2 + 3 = 6\n",
    "print(sonuc2)  # 1 + 2 + 3 = 6\n",
    "print(sonuc3)  # 1 + 2 + 3 = 6\n",
    "\n",
    "# Bu örnekte, aynı fonksiyon farklı argüman geçme yöntemleri ile çağrılmıştır. Tüm sonuçlar aynıdır çünkü argümanlar aynı değerleri taşımaktadır."
   ]
  },
  {
   "cell_type": "markdown",
   "metadata": {},
   "source": [
    "3- ***args Kullanımı**\n",
    "\n",
    "- *args, Python'da özellikle fonksiyonlara değişken sayıda pozisyonel argümanlar iletmek için kullanılan bir özel bir parametredir. \"args\" kısaltması \"arguments\" kelimesinden gelir. *args ile tanımlanan bir parametre, bir fonksiyona geçirilen tüm pozisyonel argümanları bir tuple içinde toplar. Bu, fonksiyonun ne kadar çok argüman alacağını önceden belirlemenize gerek olmadığını ve değişken sayıda argümanı kolayca işleyebilmenizi sağlar."
   ]
  },
  {
   "cell_type": "code",
   "execution_count": null,
   "metadata": {},
   "outputs": [],
   "source": [
    "def toplam(*args):\n",
    "    sonuc = 0\n",
    "    for arg in args:\n",
    "        sonuc += arg\n",
    "    return sonuc\n",
    "\n",
    "# Farklı sayıda pozisyonel argüman ile fonksiyon çağrısı yapabilirsiniz.\n",
    "toplam1 = toplam(1, 2, 3)\n",
    "toplam2 = toplam(10, 20, 30, 40, 50)\n",
    "\n",
    "print(toplam1)  # 1 + 2 + 3 = 6\n",
    "print(toplam2)  # 10 + 20 + 30 + 40 + 50 = 150\n",
    "\n",
    "# toplam fonksiyonu *args kullanarak birçok pozisyonel argümanı toplar. Bu sayede, fonksiyonu çağıran kişi istediği kadar argüman iletebilir ve bu argümanlar \n",
    "# args adlı bir tuple içinde toplanır. Fonksiyon içinde bu argümanları işleyebilirsiniz.\n",
    "\n",
    "# *args, özellikle işlevselliği önceden tahmin edilemeyen veya çok sayıda farklı pozisyonel argümanı kabul eden fonksiyonlar oluştururken kullanışlıdır."
   ]
  },
  {
   "cell_type": "code",
   "execution_count": null,
   "metadata": {},
   "outputs": [],
   "source": [
    "# Örnek 1: Pozisyonel argümanları toplama\n",
    "\n",
    "def toplam(*args):\n",
    "    sonuc = 0\n",
    "    for arg in args:\n",
    "        sonuc += arg\n",
    "    return sonuc\n",
    "\n",
    "toplam1 = toplam(1, 2, 3, 4, 5)\n",
    "print(toplam1)  # 1 + 2 + 3 + 4 + 5 = 15\n",
    "\n",
    "toplam2 = toplam(10, 20, 30)\n",
    "print(toplam2)  # 10 + 20 + 30 = 60\n",
    "\n",
    "# Bu örnekte, toplam fonksiyonu *args kullanarak istediğiniz kadar pozisyonel argümanı toplayabilir.\n",
    "# Argümanlar bir tuple içinde toplanır ve bu tuple üzerinde işlem yapılabilir."
   ]
  },
  {
   "cell_type": "code",
   "execution_count": null,
   "metadata": {},
   "outputs": [],
   "source": [
    "# Örnek 2: Değişken sayıda argüman kabul eden ortalama hesaplama\n",
    "\n",
    "def ortalama(*args):\n",
    "    toplam = sum(args)\n",
    "    adet = len(args)\n",
    "    return toplam / adet if adet > 0 else 0\n",
    "\n",
    "ortalama1 = ortalama(2, 4, 6, 8, 10)\n",
    "print(ortalama1)  # (2 + 4 + 6 + 8 + 10) / 5 = 6.0\n",
    "\n",
    "ortalama2 = ortalama(7, 9, 11)\n",
    "print(ortalama2)  # (7 + 9 + 11) / 3 = 9.0\n",
    "\n",
    "# Bu örnekte, ortalama fonksiyonu *args kullanarak değişken sayıda argümanı kabul eder ve bu argümanların ortalamasını hesaplar."
   ]
  },
  {
   "cell_type": "code",
   "execution_count": null,
   "metadata": {},
   "outputs": [],
   "source": [
    "# Örnek 3: Farklı türde argümanlar ile çalışma\n",
    "\n",
    "def birlestir(*args):\n",
    "    return \" - \".join(args)\n",
    "\n",
    "sonuc = birlestir(\"Python\", \"Java\", \"C++\", \"JavaScript\")\n",
    "print(sonuc)  # \"Python - Java - C++ - JavaScript\"\n",
    "\n",
    "# Bu örnekte, birlestir fonksiyonu farklı türde argümanları kabul eder ve bu argümanları birleştirerek bir dize oluşturur."
   ]
  },
  {
   "cell_type": "markdown",
   "metadata": {},
   "source": [
    "4- ****kwargs Kullanımı**\n",
    "\n",
    "- **kwargs, Python'da fonksiyonlara değişken sayıda anahtar kelime (keyword) argümanları iletmek için kullanılan bir özel bir parametredir. \"kwargs\" kısaltması \"keyword arguments\" kelimesinden gelir. **kwargs ile tanımlanan bir parametre, bir fonksiyona geçirilen tüm keyword argümanları bir sözlük (dictionary) içinde toplar. Bu, fonksiyonun ne kadar çok keyword argümanı alacağını önceden belirlemenize gerek olmadığını ve değişken sayıda keyword argümanı kolayca işleyebilmenizi sağlar.\n",
    "\n",
    "- **kwargs özellikle bir fonksiyona farklı sayıda ve türde keyword argümanlar iletmek istediğinizde ve bu keyword argümanları bir sözlük içinde kullanmak istediğinizde kullanışlıdır."
   ]
  },
  {
   "cell_type": "code",
   "execution_count": null,
   "metadata": {},
   "outputs": [],
   "source": [
    "def ogrenci_bilgisi(**kwargs):\n",
    "    for anahtar, deger in kwargs.items():\n",
    "        print(f\"{anahtar}: {deger}\")\n",
    "\n",
    "ogrenci_bilgisi(ad=\"Ali\", soyad=\"Yılmaz\", numara=1234, sinif=\"10A\")\n",
    "\n",
    "#* Bu örnekte, ogrenci_bilgisi fonksiyonu **kwargs kullanarak birçok keyword argümanı kabul eder. \n",
    "#* Bu keyword argümanlar bir sözlük içinde toplanır. Fonksiyon içinde bu sözlüğü işleyebilirsiniz."
   ]
  },
  {
   "cell_type": "code",
   "execution_count": null,
   "metadata": {},
   "outputs": [],
   "source": [
    "# Örnek 2: Farklı türde keyword argümanlar ile çalışma\n",
    "\n",
    "def kitap_bilgisi(**kwargs):\n",
    "    if 'yazar' in kwargs:\n",
    "        print(f\"Yazar: {kwargs['yazar']}\")\n",
    "    if 'basim_tarihi' in kwargs:\n",
    "        print(f\"Basım Tarihi: {kwargs['basim_tarihi']}\")\n",
    "    if 'yayinevi' in kwargs:\n",
    "        print(f\"Yayınevi: {kwargs['yayinevi']}\")\n",
    "\n",
    "kitap_bilgisi(ad=\"Python Programlama\", yazar=\"Guido van Rossum\", basim_tarihi=\"2020\")\n",
    "\n",
    "#* Bu örnekte, kitap_bilgisi fonksiyonu farklı türde keyword argümanları kabul eder ve bu keyword argümanları kullanarak kitap bilgisi oluşturur.\n",
    "\n",
    "#* **kwargs, özellikle fonksiyonların karmaşıklığını azaltmak ve kodun okunabilirliğini artırmak için önemlidir. Bu parametre sayesinde, \n",
    "#* fonksiyonunuzu daha esnek hale getirebilirsiniz."
   ]
  }
 ],
 "metadata": {
  "language_info": {
   "name": "python"
  }
 },
 "nbformat": 4,
 "nbformat_minor": 2
}
