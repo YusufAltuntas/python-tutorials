{
 "cells": [
  {
   "cell_type": "code",
   "execution_count": null,
   "metadata": {},
   "outputs": [],
   "source": [
    "# 1- \"Bmw, Mercedes, Opel, Mazda\" elemanlarına sahip bir liste oluşturunuz.\n",
    "\n",
    "arabalar = ['Bmw', 'Mercedes', 'Opel', 'Mazda']"
   ]
  },
  {
   "cell_type": "code",
   "execution_count": 3,
   "metadata": {},
   "outputs": [
    {
     "name": "stdout",
     "output_type": "stream",
     "text": [
      "4\n"
     ]
    }
   ],
   "source": [
    "# 2- Liste Kaç elemanlıdır ?\n",
    "arabalar = ['Bmw', 'Mercedes', 'Opel', 'Mazda']\n",
    "result = len(arabalar)\n",
    "print(result)"
   ]
  },
  {
   "cell_type": "code",
   "execution_count": 74,
   "metadata": {},
   "outputs": [
    {
     "name": "stdout",
     "output_type": "stream",
     "text": [
      "Bmw Audi\n"
     ]
    }
   ],
   "source": [
    "# 3- Listenin ilk ve son elemanı nedir ?\n",
    "ilk = arabalar [0]\n",
    "son = arabalar [-1]\n",
    "print(ilk, son)\n"
   ]
  },
  {
   "cell_type": "code",
   "execution_count": 6,
   "metadata": {},
   "outputs": [
    {
     "name": "stdout",
     "output_type": "stream",
     "text": [
      "['Bmw', 'Mercedes', 'Opel', 'Toyota']\n"
     ]
    }
   ],
   "source": [
    "# 4- Mazda değerini Toyota ile değiştirin.\n",
    "\n",
    "arabalar[-1] = \"Toyota\"\n",
    "print(arabalar)"
   ]
  },
  {
   "cell_type": "code",
   "execution_count": 7,
   "metadata": {},
   "outputs": [
    {
     "name": "stdout",
     "output_type": "stream",
     "text": [
      "True\n"
     ]
    }
   ],
   "source": [
    "# 5- Mercedes listenin bir elemanı mıdır ?\n",
    "\n",
    "check = \"Mercedes\" in arabalar\n",
    "print(check)"
   ]
  },
  {
   "cell_type": "code",
   "execution_count": 8,
   "metadata": {},
   "outputs": [
    {
     "name": "stdout",
     "output_type": "stream",
     "text": [
      "['Bmw', 'Mercedes', 'Opel']\n"
     ]
    }
   ],
   "source": [
    "# 6- Listenin ilk üç elemanını alınız\n",
    "\n",
    "print(arabalar[0:3])\n"
   ]
  },
  {
   "cell_type": "code",
   "execution_count": 77,
   "metadata": {},
   "outputs": [
    {
     "name": "stdout",
     "output_type": "stream",
     "text": [
      "['Bmw', 'Mercedes', 'Opel']\n",
      "['Bmw', 'Mercedes', 'Opel', 'Toyota', 'Audi']\n"
     ]
    }
   ],
   "source": [
    "# 7- Listenin üzerine \"Audi\" ve \"Nissan\" değerlerini ekleyiniz\n",
    "\n",
    "print(arabalar)\n",
    "newcars = arabalar + [\"Toyota\", \"Audi\"]\n",
    "arabalar.append(\"Nissan\")\n",
    "print(newcars)"
   ]
  }
 ],
 "metadata": {
  "kernelspec": {
   "display_name": "Python 3",
   "language": "python",
   "name": "python3"
  },
  "language_info": {
   "codemirror_mode": {
    "name": "ipython",
    "version": 3
   },
   "file_extension": ".py",
   "mimetype": "text/x-python",
   "name": "python",
   "nbconvert_exporter": "python",
   "pygments_lexer": "ipython3",
   "version": "3.9.13"
  },
  "orig_nbformat": 4
 },
 "nbformat": 4,
 "nbformat_minor": 2
}
