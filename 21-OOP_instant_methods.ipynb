{
 "cells": [
  {
   "cell_type": "markdown",
   "metadata": {},
   "source": [
    "# Örnek Metodları(instance methods)\n",
    "\n",
    "Instance yöntemleri, bir sınıfın örneği (instance) üzerinde çalışan ve genellikle bu örneklerin özelliklerine (instance değişkenleri) erişebilen fonksiyonlardır. İşte Python'da instance yöntemleri hakkında bilmeniz gereken temel konular:\n",
    "\n",
    "1) **Instance (Örnek) ve Sınıf (Class) Nedir?**\n",
    "\n",
    "* Bir sınıf, nesneleri (örnekleri) oluşturmak için kullanılan bir taslağı temsil eder. Örneğin, bir \"Araba\" sınıfı, farklı araçların özelliklerini ve davranışlarını tanımlar.\n",
    "* Bir instance (örnek), belirli bir sınıfın bir örneğidir ve sınıfın özelliklerini ve yöntemlerini içerir.\n",
    "\n",
    "2) **Instance Yöntemleri Nasıl Tanımlanır?**\n",
    "\n",
    "* Instance yöntemleri, sınıf içinde tanımlanır ve genellikle \"self\" adlı bir parametre ile başlar. \"self\" parametresi, yöntemin çağrıldığı örnek kendisini temsil eder.\n",
    "* Yöntemler, sınıfın özelliklerine ve başka yöntemlere erişebilirler."
   ]
  },
  {
   "cell_type": "code",
   "execution_count": 1,
   "metadata": {},
   "outputs": [
    {
     "name": "stdout",
     "output_type": "stream",
     "text": [
      "Toyota Corolla aracının hızı: 50 km/saat\n",
      "Honda Civic aracının hızı: 40 km/saat\n",
      "Toyota Corolla aracının hızı: 30 km/saat\n",
      "Honda Civic aracının hızı: 30 km/saat\n"
     ]
    }
   ],
   "source": [
    "# 3) Instance Yöntemi Örnekleri:\n",
    "\n",
    "class Araba:\n",
    "    def __init__(self, marka, model):\n",
    "        self.marka = marka\n",
    "        self.model = model\n",
    "        self.hiz = 0\n",
    "\n",
    "    def hizlan(self, artis):\n",
    "        self.hiz += artis\n",
    "\n",
    "    def fren_yap(self, azalis):\n",
    "        self.hiz -= azalis\n",
    "\n",
    "    def bilgi_goster(self):  # **İnstance Method**\n",
    "        print(f\"{self.marka} {self.model} aracının hızı: {self.hiz} km/saat\")\n",
    "\n",
    "# Araba sınıfından iki örnek oluşturalım\n",
    "araba1 = Araba(\"Toyota\", \"Corolla\")\n",
    "araba2 = Araba(\"Honda\", \"Civic\")\n",
    "\n",
    "# Instance yöntemlerini çağıralım\n",
    "araba1.hizlan(50)\n",
    "araba2.hizlan(40)\n",
    "\n",
    "araba1.bilgi_goster()  # Toyota Corolla aracının hızı: 50 km/saat\n",
    "araba2.bilgi_goster()  # Honda Civic aracının hızı: 40 km/saat\n",
    "\n",
    "araba1.fren_yap(20)\n",
    "araba2.fren_yap(10)\n",
    "\n",
    "araba1.bilgi_goster()  # Toyota Corolla aracının hızı: 30 km/saat\n",
    "araba2.bilgi_goster()  # Honda Civic aracının hızı: 30 km/saat\n"
   ]
  },
  {
   "cell_type": "markdown",
   "metadata": {},
   "source": [
    "# Sınıf Metodları(Class Methods)\n",
    "\n",
    "Python'da class methods (sınıf yöntemleri), bir sınıfın tüm örnekleri arasında paylaşılan ve sınıfın kendisi üzerinde çalışan yöntemlerdir. Instance (örnek) yöntemlerinden farklı olarak, class methods \"self\" parametresi yerine \"cls\" parametresini kullanırlar ve genellikle sınıfın durumuyla ilgili işlemler yapmak için kullanılırlar. \n",
    "\n",
    "İşte Python'da class methods hakkında bilmeniz gereken her şey:\n",
    "\n",
    "1) **Class Method Nasıl Tanımlanır?**\n",
    "\n",
    "* Bir class method, sınıf içinde \"@classmethod\" dekoratörü ile tanımlanır.\n",
    "* Class methodlarının birinci parametresi genellikle \"cls\" adını alır ve sınıfın kendisini temsil eder.\n",
    "* Class methodlarının içinde sınıfın durumu ile ilgili işlemler yapılabilir.\n",
    "\n",
    "2) **Class Methodlarının Kullanımı:**\n",
    "\n",
    "* Class methodlarını sınıfın tüm örnekleri üzerinde çağırabilirsiniz.\n",
    "* Class methodlarını, örneğin sınıfın tüm örneklerinin sayısını izlemek gibi sınıf düzeyinde işlemler yapmak için kullanabilirsiniz.\n",
    "\n",
    "3) **Class Methodlarının Avantajları:**\n",
    "\n",
    "* Sınıf değişkenleri ve sınıf yöntemleri, sınıf düzeyinde verileri ve işlemleri yönetmek için kullanılır.\n",
    "* Class methodları, sınıfın özelliklerine veya sınıfın örneklerine erişmek için kullanılabilen bir araçtır.\n",
    "* Sınıf değişkenleri ve class methodları, sınıfın tekil (singleton) örneklerini paylaşan ve sınıf düzeyinde verilere erişim sağlayan tasarım desenlerinde sıkça kullanılır.\n",
    "\n",
    "4) **Sınıf Değişkenleri:**\n",
    "\n",
    "* Yukarıdaki örnekte görüldüğü gibi, class methodlarının sınıf değişkenlerine erişebilir ve bu değişkenleri güncelleyebilirler.\n",
    "* Sınıf değişkenleri, sınıfın tüm örnekleri arasında paylaşılan verileri tutmak için kullanılır.\n",
    "\n",
    "5) **Class Methodlar ve Örnek Yöntemleri Arasındaki Fark:**\n",
    "\n",
    "* Class methodlar sınıfın kendisi üzerinde çalışırken, örnek yöntemleri belirli bir örnek üzerinde çalışır.\n",
    "* Class methodlarının \"cls\" parametresi ile sınıfı temsil ettiğine dikkat edin, örnek yöntemlerinin \"self\" parametresi ile örneği temsil ettiği gibi."
   ]
  },
  {
   "cell_type": "code",
   "execution_count": null,
   "metadata": {},
   "outputs": [],
   "source": [
    "class Araba:\n",
    "    arabalar = []  # Sınıf değişkeni (class variable)\n",
    "\n",
    "    def __init__(self, marka, model):\n",
    "        self.marka = marka\n",
    "        self.model = model\n",
    "        Araba.arabalar.append(self)  # Sınıf değişkenine örnek ekleyin\n",
    "\n",
    "    @classmethod\n",
    "    def toplam_araba_sayisi(cls):\n",
    "        return len(cls.arabalar)\n",
    "\n",
    "# Araba sınıfından örnekler oluşturalım\n",
    "araba1 = Araba(\"Toyota\", \"Corolla\")\n",
    "araba2 = Araba(\"Honda\", \"Civic\")\n",
    "\n",
    "# Class method'u çağıralım\n",
    "toplam_araba = Araba.toplam_araba_sayisi()\n",
    "print(f\"Toplam araba sayısı: {toplam_araba}\")  # Toplam araba sayısı: 2\n"
   ]
  },
  {
   "cell_type": "markdown",
   "metadata": {},
   "source": [
    "# Static Methods:\n",
    "\n",
    "Python'da static methodlar, bir sınıfın herhangi bir örneği (instance) veya sınıf kendisi üzerinde çalışmayan, genellikle bağımsız işlevler olarak tanımlanan özel yöntemlerdir. Static methodlar sınıf içinde tanımlanır, ancak \"self\" veya \"cls\" gibi özel bir ilk parametreye ihtiyaç duymazlar ve sınıfın durumu veya özellikleriyle doğrudan ilgilenmezler.\n",
    "\n",
    "İşte Python'da static methodlar hakkında bilmeniz gereken her şey:\n",
    "\n",
    "1) **Static Method Nasıl Tanımlanır?**\n",
    "\n",
    "* Bir static method, sınıf içinde \"@staticmethod\" dekoratörü ile tanımlanır.\n",
    "* Static methodlar, herhangi bir özel parametre almadan tanımlanır ve genellikle sınıfın durumu veya özellikleriyle ilgili olmayan işlemler için kullanılırlar.\n",
    "\n",
    "2) **Static Methodlar Nasıl Kullanılır?**\n",
    "\n",
    "* Static methodlar, sınıfın örnekleri olmadan veya sınıfın kendisi üzerinden çağrılabilir.\n",
    "* Sınıfın durumu veya özellikleriyle ilgilenmeyen işlemleri gerçekleştirmek için kullanılır.\n",
    "\n",
    "3) **Instance Methodlar ve Class Methodlar ile Karşılaştırma:**\n",
    "\n",
    "* Instance methodları ve class methodları, sınıfın durumu veya özellikleriyle ilgilenen işlemler için kullanılırken, static methodlar ilgilenmezler.\n",
    "* Instance methodları \"self\" parametresi ile örneği temsil ederken, class methodları \"cls\" parametresi ile sınıfı temsil eder. Ancak static methodlar özel bir parametre almadan tanımlanır.\n",
    "\n",
    "4) **Static Methodların Avantajları:**\n",
    "\n",
    "* Static methodlar, sınıf içinde bağımsız işlevler tanımlamak için kullanılır.\n",
    "* Sınıfın durumu veya özellikleri ile ilgili olmayan işlemleri gruplamak için kullanılırlar.\n",
    "* Static methodlar, sınıfın yapısını ve işlevselliğini genişletmek veya daha özelleştirilebilir hale getirmek için kullanılabilir.\n",
    "\n",
    "5) **Örnek Kullanım Senaryosu:**\n",
    "\n",
    "* Özellikle bir sınıfın içinde bulunan bağımsız işlevlerin düzenli bir şekilde gruplandırılması gerektiğinde, static methodlar çok kullanışlıdır.\n",
    "* Örneğin, matematiksel işlemler veya dosya işlemleri gibi sınıfın amacıyla doğrudan ilgisi olmayan işlemleri gruplamak için static methodlar kullanabilirsiniz."
   ]
  },
  {
   "cell_type": "code",
   "execution_count": 16,
   "metadata": {},
   "outputs": [
    {
     "name": "stdout",
     "output_type": "stream",
     "text": [
      "5.0\n"
     ]
    }
   ],
   "source": [
    "class Matematik:\n",
    "    @staticmethod\n",
    "    def karekok_hesapla(sayi):\n",
    "        if sayi >= 0:\n",
    "            return sayi ** 0.5\n",
    "        else:\n",
    "            return \"Geçersiz giriş\"\n",
    "\n",
    "# Static method'u çağıralım\n",
    "sonuc = Matematik.karekok_hesapla(25)\n",
    "print(sonuc)  # 5.0\n"
   ]
  },
  {
   "cell_type": "code",
   "execution_count": 17,
   "metadata": {},
   "outputs": [
    {
     "name": "stdout",
     "output_type": "stream",
     "text": [
      "dosya.txt dosyası bulunamadı.\n"
     ]
    }
   ],
   "source": [
    "class DosyaIslemleri:\n",
    "    @staticmethod\n",
    "    def dosyayi_oku(dosya_adi):\n",
    "        try:\n",
    "            with open(dosya_adi, 'r') as dosya:\n",
    "                icerik = dosya.read()\n",
    "            return icerik\n",
    "        except FileNotFoundError:\n",
    "            return f\"{dosya_adi} dosyası bulunamadı.\"\n",
    "\n",
    "# Static method'u kullanarak dosyayı okuyabiliriz\n",
    "dosya_icerigi = DosyaIslemleri.dosyayi_oku(\"dosya.txt\")\n",
    "print(dosya_icerigi)\n"
   ]
  },
  {
   "cell_type": "code",
   "execution_count": 15,
   "metadata": {},
   "outputs": [
    {
     "name": "stdout",
     "output_type": "stream",
     "text": [
      "Ad: Yusuf Yas: 20  Maas: 25000\n",
      "Ad: Nehir Yas: 18  Maas: 15000\n",
      "Ad: Ece Yas: 19  Maas: bilinmiyor\n",
      "Ad: Derin Yas: 17  Maas: bilinmiyor\n",
      "4\n",
      "2003\n"
     ]
    }
   ],
   "source": [
    "from datetime import date\n",
    "\n",
    "\n",
    "class Kisi:\n",
    "    zam_orani = 1.1\n",
    "    kisi_sayisi = 0\n",
    "    def __init__(self, isim,yas, maas=\"bilinmiyor\"):\n",
    "        self.isim = isim\n",
    "        self.yas = yas\n",
    "        self.maas = maas\n",
    "        Kisi.kisi_sayisi += 1\n",
    "\n",
    "    def bilgilerini_goster(self): #instance method\n",
    "        return f\"Ad: {self.isim} Yas: {self.yas}  Maas: {self.maas}\"\n",
    "\n",
    "    @classmethod\n",
    "    def kisi_sayisini_soyle(cls):\n",
    "        return cls.kisi_sayisi\n",
    "\n",
    "    @classmethod\n",
    "    def string_ile_olustur(cls, str_):\n",
    "        isim, yas = str_.split(\"-\")\n",
    "        return cls(isim, yas)\n",
    "\n",
    "    @classmethod\n",
    "    def dogum_yili_ile_olustur(cls, isim, dogum_yili):\n",
    "        return cls(isim, date.today().year - dogum_yili)\n",
    "\n",
    "    @staticmethod\n",
    "    def dogum_yili_hesapla(kisi):\n",
    "        return date.today().year - kisi.yas\n",
    "    \n",
    "\n",
    "\n",
    "kisi1 = Kisi(\"Yusuf\",20, 25000)\n",
    "kisi2 = Kisi(\"Nehir\",18, 15000)\n",
    "kisi3 = Kisi.string_ile_olustur(\"Ece-19\")\n",
    "kisi4 = Kisi.dogum_yili_ile_olustur(\"Derin\", 2006)\n",
    "\n",
    "\n",
    "print(kisi1.bilgilerini_goster())\n",
    "print(kisi2.bilgilerini_goster())\n",
    "print(kisi3.bilgilerini_goster())\n",
    "print(kisi4.bilgilerini_goster())\n",
    "print(Kisi.kisi_sayisini_soyle())\n",
    "print(Kisi.dogum_yili_hesapla(kisi1))\n"
   ]
  },
  {
   "cell_type": "code",
   "execution_count": 31,
   "metadata": {},
   "outputs": [
    {
     "name": "stdout",
     "output_type": "stream",
     "text": [
      "Toplam Müşteri Sayısı: 3\n",
      "İsim: Yusuf, Soyisim: Altuntas, Mail: yusufaltuntas452@gmail.com\n",
      "İsim: Ece, Soyisim: Duran, Mail: kralicem@gmail.com\n",
      "İsim: Nehir, Soyisim: Pelit, Mail: asüfte@gmail.com\n"
     ]
    }
   ],
   "source": [
    "class Müsteri:\n",
    "    müsteri_sayisi = 0\n",
    "    def __init__(self, isim, soyisim, mail):\n",
    "        self.isim = isim\n",
    "        self.soyisim = soyisim\n",
    "        self.mail = mail\n",
    "        Müsteri.müsteri_sayisi += 1\n",
    "\n",
    "    @classmethod\n",
    "    def icerikle_olustur(cls, dosya_adı):\n",
    "        müsteri_listesi = []\n",
    "        dosya_adı = r\"C:\\Users\\Yusuf Altuntaş\\Desktop\\müsteriler.txt\"\n",
    "        try:\n",
    "            with open(dosya_adı, \"r\", encoding= \"utf-8\") as f:\n",
    "                for satir in f:\n",
    "                    isim, soyisim, mail = satir.strip().split(\" \")\n",
    "                    müsteri = cls(isim, soyisim, mail)\n",
    "                    müsteri_listesi.append(müsteri)\n",
    "            return müsteri_listesi\n",
    "        except FileNotFoundError:\n",
    "            print(f\"{dosya_adı} bulunamadı.\")\n",
    "            return []\n",
    "\n",
    "\n",
    "# Müşteri bilgilerini oku ve nesneleri oluştur\n",
    "müsteri_listesi = Müsteri.icerikle_olustur(\"müsteriler2.txt\")\n",
    "\n",
    "# Müşteri sayısını ve bilgileri görüntüle\n",
    "print(f\"Toplam Müşteri Sayısı: {Müsteri.müsteri_sayisi}\")\n",
    "for müsteri in müsteri_listesi:\n",
    "    print(f\"İsim: {müsteri.isim}, Soyisim: {müsteri.soyisim}, Mail: {müsteri.mail}\")\n",
    "\n"
   ]
  },
  {
   "cell_type": "code",
   "execution_count": null,
   "metadata": {},
   "outputs": [],
   "source": []
  }
 ],
 "metadata": {
  "kernelspec": {
   "display_name": "Python 3",
   "language": "python",
   "name": "python3"
  },
  "language_info": {
   "codemirror_mode": {
    "name": "ipython",
    "version": 3
   },
   "file_extension": ".py",
   "mimetype": "text/x-python",
   "name": "python",
   "nbconvert_exporter": "python",
   "pygments_lexer": "ipython3",
   "version": "3.11.2"
  },
  "orig_nbformat": 4
 },
 "nbformat": 4,
 "nbformat_minor": 2
}
