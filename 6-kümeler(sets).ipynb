{
 "cells": [
  {
   "cell_type": "markdown",
   "metadata": {},
   "source": [
    "# KÜMELER (SETS)\n",
    "\n",
    "### 1. Küme Nedir?\n",
    "\n",
    "    - Set, küme teorisi temelinde çalışan bir veri türüdür.\n",
    "    - Yinelenen öğeleri olmayan sırasız bir koleksiyondur., bu nedenle elemanlar indekslenmez ve sıralanmaz.\n",
    "    - Her eleman yalnızca bir kez bulunabilir ve benzersiz olmalıdır.\n",
    "*** Küme oluşturmak için küme parantezleri veya set() fonksiyonu kullanılabilir. Not: boş bir küme oluşturmak için {} değil set() kullanmanız gerekir, çünkü birincisi boş bir sözlük oluşturur, ki bu da bir sonraki bölümde tartışacağımız bir veri yapısıdır.\n",
    "    "
   ]
  },
  {
   "cell_type": "code",
   "execution_count": 3,
   "metadata": {},
   "outputs": [
    {
     "name": "stdout",
     "output_type": "stream",
     "text": [
      "pembe\n",
      "sari\n",
      "mor\n",
      "mavi\n"
     ]
    }
   ],
   "source": [
    "kume = {\"mavi\", \"sari\", \"pembe\", \"mor\"}\n",
    "\n",
    "for renk in kume:\n",
    "    print(renk)\n",
    "\n",
    "# elemanları hangi sırayla eklediğimizin bir önemi yok. Döngü her çalıştığında renkler farklı bir sırayla yazılmış olacak."
   ]
  },
  {
   "cell_type": "markdown",
   "metadata": {},
   "source": [
    "### 2. Eleman Ekleme ve Çıkarma\n",
    "\n",
    "    * add() metodu ile set'e eleman ekleyebilirsiniz.\n",
    "    * remove() veya discard() metodu ile belirli bir elemanı set'ten çıkarabilirsiniz. \n",
    "    * remove() kullanıldığında, eleman set içinde yoksa bir hata (KeyError) oluşurken, discard() kullanıldığında böyle bir hata oluşmaz.  \n"
   ]
  },
  {
   "cell_type": "code",
   "execution_count": 6,
   "metadata": {},
   "outputs": [
    {
     "name": "stdout",
     "output_type": "stream",
     "text": [
      "{1, 2, 3, 4}\n",
      "{1, 3, 4}\n"
     ]
    }
   ],
   "source": [
    "my_set = {1, 2, 3}\n",
    "\n",
    "my_set.add(4)\n",
    "print(my_set)\n",
    "\n",
    "my_set.remove(2)\n",
    "print(my_set)"
   ]
  },
  {
   "cell_type": "markdown",
   "metadata": {},
   "source": [
    "### 3. Set İşlemleri\n",
    "\n",
    "    * Set'ler aritmetik küme işlemlerini destekler. Bu işlemler arasında birleşim (union), kesişim (intersection), fark (difference) ve simetrik fark (symmetric difference) bulunur."
   ]
  },
  {
   "cell_type": "code",
   "execution_count": 8,
   "metadata": {},
   "outputs": [
    {
     "name": "stdout",
     "output_type": "stream",
     "text": [
      "{1, 2, 3, 4, 5}\n",
      "{3}\n",
      "{1, 2}\n",
      "{1, 2, 4, 5}\n"
     ]
    }
   ],
   "source": [
    "set1 = {1, 2, 3}\n",
    "set2 = {3, 4, 5}\n",
    "\n",
    "union_set = set1.union(set2)  # Birleşim\n",
    "intersection_set = set1.intersection(set2)  # Kesişim\n",
    "difference_set = set1.difference(set2)  # Fark\n",
    "symmetric_difference_set = set1.symmetric_difference(set2)  # Simetrik Fark\n",
    "\n",
    "print(union_set)\n",
    "print(intersection_set)\n",
    "print(difference_set)\n",
    "print(symmetric_difference_set)\n"
   ]
  },
  {
   "cell_type": "markdown",
   "metadata": {},
   "source": [
    "### 4. Diğer Metodlar\n",
    "\n",
    "    * len() ile set'in eleman sayısını öğrenebilirsiniz.\n",
    "    * clear() ile set'in içeriğini temizleyebilirsiniz.    \n",
    "    * copy() ile set'i kopyalayabilirsiniz.\n",
    "    * in anahtar kelimesi ile bir elemanın set içinde olup olmadığını kontrol edebilirsiniz."
   ]
  },
  {
   "cell_type": "markdown",
   "metadata": {},
   "source": [
    "### 5. Set ve Liste/Demetler Arasındaki Farklar\n",
    "\n",
    "    - Set'ler sırasız ve benzersiz elemanlar içerirken, listeler sıralı ve tekrarlanabilir elemanlar içerir.\n",
    "    - Set'ler süslü parantezler veya set() ile oluşturulurken, listeler köşeli parantezler [ ] veya list() ile oluşturulur.\n",
    "    - Set'lerde bir elemanın indeksi yoktur, bu nedenle indeksleme veya dilimleme işlemleri uygulanamaz.\n",
    "    - Set'ler, özellikle benzersiz elemanların saklanması veya iki kümenin aritmetik işlemlerinin yapılması gereken durumlarda kullanışlıdır.\n"
   ]
  }
 ],
 "metadata": {
  "kernelspec": {
   "display_name": "Python 3",
   "language": "python",
   "name": "python3"
  },
  "language_info": {
   "codemirror_mode": {
    "name": "ipython",
    "version": 3
   },
   "file_extension": ".py",
   "mimetype": "text/x-python",
   "name": "python",
   "nbconvert_exporter": "python",
   "pygments_lexer": "ipython3",
   "version": "3.11.2"
  },
  "orig_nbformat": 4
 },
 "nbformat": 4,
 "nbformat_minor": 2
}
