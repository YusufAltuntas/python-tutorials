{
 "cells": [
  {
   "cell_type": "markdown",
   "metadata": {},
   "source": [
    "# Math Modülü\n",
    "\n",
    "* Python'da \"math\" modülü, matematiksel işlemler yapmak için bir dizi matematiksel fonksiyon ve sabit içeren bir standart kütüphanedir. Bu modülü kullanarak trigonometrik işlemler, üs alma, kök çıkarma, logaritma hesaplama gibi çeşitli matematiksel işlemleri gerçekleştirebilirsiniz. İşte Python'da \"math\" modülü hakkında bilmeniz gerekenler:"
   ]
  },
  {
   "cell_type": "markdown",
   "metadata": {},
   "source": [
    "### 1) Temel Matematiksel Fonksiyonlar\n",
    "\n",
    "    * \"math\" modülü, aşağıdaki gibi temel matematiksel işlemleri gerçekleştirmenize olanak tanır:"
   ]
  },
  {
   "cell_type": "code",
   "execution_count": 2,
   "metadata": {},
   "outputs": [
    {
     "name": "stdout",
     "output_type": "stream",
     "text": [
      "4.0\n"
     ]
    }
   ],
   "source": [
    "# Karekök Hesaplama:\n",
    "\n",
    "import math\n",
    "\n",
    "x = 16\n",
    "square_root = math.sqrt(x)\n",
    "print(square_root)  # Sonuç: 4.0\n"
   ]
  },
  {
   "cell_type": "code",
   "execution_count": 3,
   "metadata": {},
   "outputs": [
    {
     "name": "stdout",
     "output_type": "stream",
     "text": [
      "8.0\n"
     ]
    }
   ],
   "source": [
    "# Üs Alma \n",
    "\n",
    "x = 2\n",
    "y = 3\n",
    "power = math.pow(x, y)\n",
    "print(power)  # Sonuç: 8.0\n"
   ]
  },
  {
   "cell_type": "code",
   "execution_count": 4,
   "metadata": {},
   "outputs": [],
   "source": [
    "# Trigonometrik Fonksiyonlar:\n",
    "\n",
    "angle = 45  # Derece cinsinden\n",
    "radians = math.radians(angle)  # Dereceden radyana çevirme\n",
    "sine = math.sin(radians)\n",
    "cosine = math.cos(radians)\n",
    "tangent = math.tan(radians)\n"
   ]
  },
  {
   "cell_type": "code",
   "execution_count": null,
   "metadata": {},
   "outputs": [],
   "source": [
    "# Logaritma Hesaplama:\n",
    "\n",
    "x = 10\n",
    "natural_log = math.log(x)\n",
    "base_10_log = math.log10(x)\n"
   ]
  },
  {
   "cell_type": "markdown",
   "metadata": {},
   "source": [
    "### 2) Sabitler\n",
    "\n",
    "\"math\" modülü, bazı matematiksel sabitleri içerir:\n",
    "\n",
    "- π (Pi): math.pi sabiti, π'nin yaklaşık değerini saklar.\n",
    "- e (Euler Sabiti): math.e sabiti, e'nin yaklaşık değerini saklar."
   ]
  },
  {
   "cell_type": "code",
   "execution_count": 5,
   "metadata": {},
   "outputs": [
    {
     "name": "stdout",
     "output_type": "stream",
     "text": [
      "3.141592653589793\n",
      "2.718281828459045\n"
     ]
    }
   ],
   "source": [
    "print(math.pi)  # Sonuç: 3.141592653589793\n",
    "print(math.e)   # Sonuç: 2.718281828459045\n"
   ]
  },
  {
   "cell_type": "markdown",
   "metadata": {},
   "source": [
    "\n",
    "### 3) Diğer İşlevler\n",
    "\n",
    "- \"math\" modülü, daha fazla matematiksel işlev içerir, örneğin, faktöriyel hesaplama (math.factorial()), en büyük ortak bölen bulma (math.gcd()), tamsayı yuvarlama (math.floor() ve math.ceil()), mutlak değer hesaplama (math.fabs()) vb."
   ]
  },
  {
   "cell_type": "markdown",
   "metadata": {},
   "source": [
    "## ÖRNEKLER\n"
   ]
  },
  {
   "cell_type": "code",
   "execution_count": null,
   "metadata": {},
   "outputs": [],
   "source": [
    "# Bir üçgenin Hipotenüsünü hesaplama\n",
    "\n",
    "a = 3\n",
    "b = 4\n",
    "hypotenuse = math.sqrt(a**2 + b**2)\n",
    "print(hypotenuse)  # Sonuç: 5.0\n"
   ]
  },
  {
   "cell_type": "code",
   "execution_count": null,
   "metadata": {},
   "outputs": [],
   "source": [
    "# Bir açının derecesini radyana çevirme\n",
    "\n",
    "degree = 60\n",
    "radians = math.radians(degree)\n",
    "print(radians)  # Sonuç: 1.0471975511965979\n"
   ]
  },
  {
   "cell_type": "code",
   "execution_count": null,
   "metadata": {},
   "outputs": [],
   "source": [
    "# Bir sayının faktoriyelini hesaplama\n",
    "\n",
    "n = 5\n",
    "factorial = math.factorial(n)\n",
    "print(factorial)  # Sonuç: 120\n"
   ]
  },
  {
   "cell_type": "code",
   "execution_count": null,
   "metadata": {},
   "outputs": [],
   "source": []
  }
 ],
 "metadata": {
  "kernelspec": {
   "display_name": "Python 3",
   "language": "python",
   "name": "python3"
  },
  "language_info": {
   "codemirror_mode": {
    "name": "ipython",
    "version": 3
   },
   "file_extension": ".py",
   "mimetype": "text/x-python",
   "name": "python",
   "nbconvert_exporter": "python",
   "pygments_lexer": "ipython3",
   "version": "3.11.2"
  },
  "orig_nbformat": 4
 },
 "nbformat": 4,
 "nbformat_minor": 2
}
