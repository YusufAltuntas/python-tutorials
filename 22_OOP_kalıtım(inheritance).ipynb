{
 "cells": [
  {
   "cell_type": "markdown",
   "metadata": {},
   "source": [
    "# Kalıtım (İnheritance)\n",
    "\n",
    "Kalıtım (inheritance), nesne tabanlı programlamada temel bir kavramdır ve bir sınıfın (class) özelliklerini ve davranışlarını başka bir sınıfa aktarma yeteneğini ifade    eder. Bu, yazılım geliştirmede kodun tekrar kullanılabilirliğini artırmak, kodun daha organizeli ve sürdürülebilir olmasını sağlamak için önemli bir yapı taşıdır. Kalıtım,    bir üst sınıfın (ana sınıf, temel sınıf veya süper sınıf olarak adlandırılır) özelliklerini ve davranışlarını bir alt sınıfa (alt sınıf, türetilmiş sınıf veya alt sınıf   olarak adlandırılır) aktararak işlev görür. Kalıtımın avantajları şunlar olabilir:\n",
    "\n",
    "1- **Kodun Daha Az Tekrar Edilmesi:** Kalıtım, kodun tekrar kullanılabilirliğini artırır. Ortak özelliklere sahip sınıflar arasındaki kodu paylaşmanıza olanak tanır, böylece kodunuzu daha az yazmak ve daha az tekrar etmek zorunda kalırsınız.\n",
    "\n",
    "2- **Kodun Daha Organize Olması:** Kalıtım, sınıfları mantıklı bir hiyerarşi içinde düzenlemenizi sağlar. Bu, kodun daha düzenli ve anlaşılır olmasına yardımcı olur.\n",
    "\n",
    "3- **Sürdürülebilirlik:** Kod değişiklikleri yaparken, ana sınıfta yapılan değişiklikler alt sınıflara otomatik olarak yansır. Bu, kodun güncel ve sürdürülebilir olmasını kolaylaştırır.\n",
    "\n",
    "    Şimdi, Python'da kalıtımın nasıl çalıştığını gösteren bazı örneklerle açıklayalım:"
   ]
  },
  {
   "cell_type": "code",
   "execution_count": 1,
   "metadata": {},
   "outputs": [
    {
     "name": "stdout",
     "output_type": "stream",
     "text": [
      "Alice\n",
      "S12345\n",
      "Alice is speaking\n",
      "Alice is studying Math\n"
     ]
    }
   ],
   "source": [
    "# Temel Sınıf (Üst Sınıf)\n",
    "class Person:\n",
    "    def __init__(self, name, age):\n",
    "        self.name = name\n",
    "        self.age = age\n",
    "\n",
    "    def speak(self):\n",
    "        print(f\"{self.name} is speaking\")\n",
    "\n",
    "# Alt Sınıf (Türetilmiş Sınıf)\n",
    "class Student(Person):\n",
    "    def __init__(self, name, age, student_id):\n",
    "        super().__init__(name, age)  # Üst sınıfın __init__ yöntemini çağırır\n",
    "        self.student_id = student_id\n",
    "\n",
    "    def study(self, subject):\n",
    "        print(f\"{self.name} is studying {subject}\")\n",
    "\n",
    "# Alt Sınıfın bir örneği oluşturalım\n",
    "student1 = Student(\"Alice\", 20, \"S12345\")\n",
    "print(student1.name)  # Üst sınıfın özelliği\n",
    "print(student1.student_id)  # Alt sınıfın özelliği\n",
    "student1.speak()  # Üst sınıfın yöntemini kullanabilir\n",
    "student1.study(\"Math\")  # Alt sınıfın yöntemini kullanabilir\n"
   ]
  },
  {
   "cell_type": "markdown",
   "metadata": {},
   "source": [
    "- Bu örnek, Person adlı temel sınıfı oluşturur ve bu sınıfın name ve age adlı özelliklerini ve speak adlı bir yöntemini içerir. Daha sonra, Student adlı bir alt sınıf oluşturulur ve bu sınıf, Person sınıfından kalıtım alır. Student sınıfı ayrıca kendi özelliği olan student_id ve kendi yöntemi olan study'yi içerir.\n",
    "\n",
    "- Kalıtım sayesinde, Student sınıfı, Person sınıfının özelliklerini (name ve age) ve yöntemlerini (speak) otomatik olarak miras alır. Bu özellikler ve yöntemler, Student sınıfı tarafından kullanılabilir.\n",
    "\n",
    "Bu örnek, Python'da kalıtımın temel bir çalışma şeklini gösteriyor. Kalıtım, sınıflar arasındaki ilişkileri tanımlamak ve kodunuzu daha etkili bir şekilde yönetmek için kullanabileceğiniz güçlü bir araçtır."
   ]
  },
  {
   "cell_type": "code",
   "execution_count": 6,
   "metadata": {},
   "outputs": [
    {
     "name": "stdout",
     "output_type": "stream",
     "text": [
      "Person Created\n",
      "Person Created\n",
      "Student Created\n",
      "Person Created\n",
      "Yusuf Altuntas\n",
      "Nehir Pelit\n",
      "Hello I am a student\n",
      "Recep Öztürk\n",
      "I am a English teacher\n"
     ]
    }
   ],
   "source": [
    "class Person():\n",
    "    def __init__(self, fname, lname):\n",
    "        self.firstName = fname\n",
    "        self.lastName = lname\n",
    "        print(\"Person Created\")\n",
    "\n",
    "class Student(Person):\n",
    "    def __init__(self, fname, lname):\n",
    "        Person.__init__(self, fname, lname)\n",
    "        print(\"Student Created\")\n",
    "\n",
    "    def sayHello(self):\n",
    "        print(\"Hello I am a student\")\n",
    "\n",
    "class Teacher(Person):\n",
    "\n",
    "    def __init__(self, fname, lname, branch):\n",
    "        super().__init__(fname, lname)\n",
    "        self.branch = branch\n",
    "\n",
    "    def who_am_i(self):\n",
    "        print(f\"I am a {self.branch} teacher\")\n",
    "\n",
    "\n",
    "p1 = Person(\"Yusuf\", \"Altuntas\")\n",
    "s1 = Student(\"Nehir\", \"Pelit\")\n",
    "t1 = Teacher(\"Recep\", \"Öztürk\", \"English\")\n",
    "print(p1.firstName + \" \" + p1.lastName)\n",
    "print(s1.firstName + \" \" + s1.lastName)\n",
    "s1.sayHello()\n",
    "print(t1.firstName + \" \" + t1.lastName)\n",
    "t1.who_am_i()\n"
   ]
  },
  {
   "cell_type": "code",
   "execution_count": 14,
   "metadata": {},
   "outputs": [
    {
     "name": "stdout",
     "output_type": "stream",
     "text": [
      "Ad: Yusuf Soyad: Altuntas Maas: 30000 Email: YusufAltuntas@sirket.com\n",
      "Ad: Yunus Soyad: Altuntas Maas: 10000 Email: YunusAltuntas@sirket.com Dil: Java\n",
      "********************\n",
      "Ad: Güven Soyad: Altuntas Maas: 50000 Email: GüvenAltuntas@sirket.com\n",
      "Ad: Yusuf Soyad: Altuntas Maas: 30000 Email: YusufAltuntas@sirket.com\n",
      "Ad: Ece Soyad: Duran Maas: 25000 Email: EceDuran@sirket.com\n",
      "None\n",
      "********************\n",
      "Ad: Yasin Soyad: Altuntas Maas: 15000 Email: YasinAltuntas@sirket.com Dil: Python\n",
      "Ad: Yunus Soyad: Altuntas Maas: 10000 Email: YunusAltuntas@sirket.com Dil: Java\n",
      "Ad: Nehir Soyad: Pelit Maas: 20000 Email: NehirPelit@sirket.com\n"
     ]
    }
   ],
   "source": [
    "class Calisan:\n",
    "    zam_orani = 1.1\n",
    "    def __init__(self, ad, soyad, maas):\n",
    "        self.ad = ad\n",
    "        self.soyad = soyad\n",
    "        self.maas = maas\n",
    "        self.email = ad + soyad + \"@sirket.com\"\n",
    "    def bilgileri_goster(self):\n",
    "        return \"Ad: {} Soyad: {} Maas: {} Email: {}\".format(self.ad, self.soyad, self.maas, self.email)\n",
    "\n",
    "calisan1 = Calisan(\"Yusuf\", \"Altuntas\", 30000)\n",
    "calisan2 = Calisan(\"Ece\", \"Duran\", 25000)\n",
    "calisan3 = Calisan(\"Nehir\", \"Pelit\", 20000 )\n",
    "\n",
    "\n",
    "class Yazilimci(Calisan):\n",
    "    def __init__(self, ad, soyad, maas, bildigi_dil):\n",
    "        super().__init__(ad, soyad, maas)\n",
    "        self.bildigi_dil = bildigi_dil\n",
    "    zam_orani = 1.2\n",
    "    def bilgileri_goster(self):\n",
    "        return \"Ad: {} Soyad: {} Maas: {} Email: {} Dil: {}\".format(self.ad, self.soyad, self.maas, self.email, self.bildigi_dil)\n",
    "    \n",
    "yazilimci1 = Yazilimci(\"Yasin\", \"Altuntas\", 15000, \"Python\")\n",
    "yazilimci2 = Yazilimci(\"Yunus\", \"Altuntas\", 10000, \"Java\")\n",
    "\n",
    "class Yonetici(Calisan):\n",
    "\n",
    "    def __init__(self, ad, soyad, maas, calisanlar = None):\n",
    "        super().__init__(ad, soyad, maas)\n",
    "        if calisanlar == None:\n",
    "            self.calisanlar = []\n",
    "        else:\n",
    "            self.calisanlar = calisanlar\n",
    "\n",
    "    def calisan_ekle(self, calisan):\n",
    "        if calisan not in self.calisanlar:\n",
    "            self.calisanlar.append(calisan)\n",
    "\n",
    "    def calisan_sil(self,calisan):\n",
    "        if calisan in self.calisanlar:\n",
    "            self.calisanlar.remove(calisan)\n",
    "\n",
    "    def calisanlari_goster(self):\n",
    "        for calisan in self.calisanlar:\n",
    "            print(calisan.bilgileri_goster())\n",
    "\n",
    "yonetici1 = Yonetici(\"Güven\", \"Altuntas\", 50000)\n",
    "yonetici1.calisan_ekle(calisan1)\n",
    "yonetici1.calisan_ekle(calisan2)\n",
    "\n",
    "yonetici2 = Yonetici(\"Esengül\", \"Altuntas\", 60000, [yazilimci1, yazilimci2, calisan3])\n",
    "\n",
    "\n",
    "print(calisan1.bilgileri_goster())\n",
    "print(yazilimci2.bilgileri_goster())\n",
    "print(\"********************\")\n",
    "print(yonetici1.bilgileri_goster())\n",
    "print(yonetici1.calisanlari_goster())\n",
    "print(\"********************\")\n",
    "yonetici2.calisanlari_goster()\n",
    "\n"
   ]
  },
  {
   "cell_type": "code",
   "execution_count": null,
   "metadata": {},
   "outputs": [],
   "source": []
  }
 ],
 "metadata": {
  "kernelspec": {
   "display_name": "Python 3",
   "language": "python",
   "name": "python3"
  },
  "language_info": {
   "codemirror_mode": {
    "name": "ipython",
    "version": 3
   },
   "file_extension": ".py",
   "mimetype": "text/x-python",
   "name": "python",
   "nbconvert_exporter": "python",
   "pygments_lexer": "ipython3",
   "version": "3.11.2"
  }
 },
 "nbformat": 4,
 "nbformat_minor": 2
}
