{
 "cells": [
  {
   "cell_type": "code",
   "execution_count": 6,
   "metadata": {},
   "outputs": [
    {
     "name": "stdout",
     "output_type": "stream",
     "text": [
      "10000\n",
      "270\n"
     ]
    }
   ],
   "source": [
    "# ilk 1000 asal sayı içinde 3 ile başlayıp 7 ile bitenleri bulma\n",
    "\n",
    "prime_numbers = []\n",
    "sayi = 2\n",
    "\n",
    "while len(prime_numbers) < 10000:\n",
    "    is_prime = True\n",
    "    for i in range(2, int(sayi ** 0.5) +1):\n",
    "        if (sayi % i == 0 ):\n",
    "            is_prime = False\n",
    "            break\n",
    "    if is_prime:\n",
    "        prime_numbers.append(sayi)\n",
    "\n",
    "    sayi += 1\n",
    "\n",
    "print(len(prime_numbers))\n",
    "\n",
    "\n",
    "sayac = 0\n",
    "for sayi in prime_numbers:\n",
    "    if str(sayi).startswith(\"3\") and str(sayi).endswith(\"7\"):\n",
    "        sayac+=1\n",
    "    else:\n",
    "        continue\n",
    "\n",
    "print(sayac)\n",
    "\n",
    "\n"
   ]
  },
  {
   "cell_type": "code",
   "execution_count": 13,
   "metadata": {},
   "outputs": [
    {
     "name": "stdout",
     "output_type": "stream",
     "text": [
      "[153, 370, 371, 407]\n"
     ]
    }
   ],
   "source": [
    "# 3 basamaklı sayıların kaç tanesi rakamlarının küpleri toplamına eşittir?\n",
    "\n",
    "liste = []\n",
    "\n",
    "for sayi1 in range(100, 1000):\n",
    "    toplam = 0\n",
    "    gecici_sayi = sayi1\n",
    "    while gecici_sayi != 0:\n",
    "        basamak = gecici_sayi % 10\n",
    "        toplam += basamak ** 3\n",
    "        gecici_sayi //= 10 \n",
    "    if toplam == sayi1:\n",
    "        liste.append(sayi1)\n",
    "\n",
    "print(liste)\n"
   ]
  },
  {
   "cell_type": "code",
   "execution_count": 16,
   "metadata": {},
   "outputs": [
    {
     "name": "stdout",
     "output_type": "stream",
     "text": [
      "[1, 1, 2, 3, 5, 8, 13, 21, 34, 55, 89, 144, 233, 377, 610, 987, 1597, 2584, 4181, 6765, 10946, 17711, 28657, 46368, 75025, 121393, 196418, 317811, 514229, 832040, 1346269, 2178309, 3524578, 5702887, 9227465, 14930352, 24157817, 39088169, 63245986, 102334155, 165580141, 267914296, 433494437, 701408733, 1134903170, 1836311903, 2971215073, 4807526976, 7778742049, 12586269025, 20365011074, 32951280099, 53316291173, 86267571272, 139583862445, 225851433717, 365435296162, 591286729879, 956722026041, 1548008755920, 2504730781961, 4052739537881, 6557470319842, 10610209857723, 17167680177565, 27777890035288, 44945570212853, 72723460248141, 117669030460994, 190392490709135, 308061521170129, 498454011879264, 806515533049393, 1304969544928657, 2111485077978050, 3416454622906707, 5527939700884757, 8944394323791464, 14472334024676221, 23416728348467685, 37889062373143906, 61305790721611591, 99194853094755497, 160500643816367088, 259695496911122585, 420196140727489673, 679891637638612258, 1100087778366101931, 1779979416004714189, 2880067194370816120, 4660046610375530309, 7540113804746346429, 12200160415121876738, 19740274219868223167, 31940434634990099905, 51680708854858323072, 83621143489848422977, 135301852344706746049, 218922995834555169026, 354224848179261915075]\n"
     ]
    }
   ],
   "source": [
    "# Fibonacci dizisi ilk 2 terimi 1 olan ve sonraki her terimi kendinden önceki 2 sayının toplamı olan bir sayı dizisidir. İlk 100 fibonacci sayısını yazdırınız.\n",
    "\n",
    "fibonacci_list = [1,1]\n",
    "index = 2\n",
    "while len(fibonacci_list) < 100:\n",
    "    fibonacci_list.append((fibonacci_list[index - 1] + fibonacci_list[index - 2]))\n",
    "    index += 1\n",
    "\n",
    "print(fibonacci_list)"
   ]
  },
  {
   "cell_type": "code",
   "execution_count": null,
   "metadata": {},
   "outputs": [],
   "source": [
    "\n"
   ]
  }
 ],
 "metadata": {
  "kernelspec": {
   "display_name": "Python 3",
   "language": "python",
   "name": "python3"
  },
  "language_info": {
   "codemirror_mode": {
    "name": "ipython",
    "version": 3
   },
   "file_extension": ".py",
   "mimetype": "text/x-python",
   "name": "python",
   "nbconvert_exporter": "python",
   "pygments_lexer": "ipython3",
   "version": "3.11.2"
  },
  "orig_nbformat": 4
 },
 "nbformat": 4,
 "nbformat_minor": 2
}
