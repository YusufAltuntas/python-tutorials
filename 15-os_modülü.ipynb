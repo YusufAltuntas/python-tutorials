{
 "cells": [
  {
   "cell_type": "markdown",
   "metadata": {},
   "source": [
    "# os Modülü\n",
    "\n",
    "* os modülü, işletim sistemi ile etkileşim kurmanıza yardımcı olan Python'ın standart kütüphanelerinden biridir. Bu modül, dosya işleme, dizin yönetimi, yol manipülasyonu ve daha fazlası için çeşitli işlevler sunar. İşte os modülü hakkında bilmeniz gereken temel konular ve örnekler:"
   ]
  },
  {
   "cell_type": "markdown",
   "metadata": {},
   "source": [
    "### 1) Bulunduğun Dizini Öğrenme:\n",
    "\n",
    "* getcwd() fonksiyonu, Python programının şu anki çalışma dizinini döndürür. Yani, programınızın hangi dizinde çalıştığını öğrenmek için kullanılır.\n",
    "\n",
    "```\n",
    "import os\n",
    "\n",
    "current_dir = os.getcwd()\n",
    "print(\"Şu anki çalışma dizini:\", current_dir)\n",
    "```"
   ]
  },
  {
   "cell_type": "code",
   "execution_count": 12,
   "metadata": {},
   "outputs": [
    {
     "name": "stdout",
     "output_type": "stream",
     "text": [
      "Şu anki çalışma dizini: C:\\Users\\Yusuf Altuntaş\\Desktop\\python vscode\n"
     ]
    }
   ],
   "source": [
    "import os\n",
    "\n",
    "current_dir = os.getcwd()\n",
    "print(\"Şu anki çalışma dizini:\", current_dir)\n",
    "\n"
   ]
  },
  {
   "cell_type": "markdown",
   "metadata": {},
   "source": [
    "### 2) Çalışma Dizini Değiştirme (Changing the Current Working Directory):"
   ]
  },
  {
   "cell_type": "markdown",
   "metadata": {},
   "source": [
    "* os.chdir() fonksiyonu, Python programınızın çalışma dizinini değiştirmenizi sağlar.\n",
    "\n",
    "```\n",
    "import os\n",
    "\n",
    "# Şu anki çalışma dizinini al\n",
    "current_dir = os.getcwd()\n",
    "print(\"Şu anki çalışma dizini:\", current_dir)\n",
    "\n",
    "# Çalışma dizinini değiştir\n",
    "new_dir = \"C:\\\\Users\\\\Yusuf Altuntaş\\\\Desktop\\\\euler problemleri\"\n",
    "os.chdir(new_dir)\n",
    "print(current_dir)\n",
    "```"
   ]
  },
  {
   "cell_type": "markdown",
   "metadata": {},
   "source": [
    "### 3) Dizin İçeriğini Listeleme (Listing Directory Contents):\n",
    "\n",
    "* os.listdir() fonksiyonu, belirtilen bir dizindeki dosya ve dizinleri listeler (bir liste döndürür).\n",
    "* Eğer kendimiz bir dizin girmezsek varsayılan olarak bulunduğumuz dizindeki içeriği listeler."
   ]
  },
  {
   "cell_type": "code",
   "execution_count": 14,
   "metadata": {},
   "outputs": [
    {
     "name": "stdout",
     "output_type": "stream",
     "text": [
      "['datetime_modülü.ipynb', 'demetler(tuples).ipynb', 'Döngüler(loops).ipynb', 'fonksiyonlar(functions).ipynb', 'genel_tekrar.ipynb', 'if_elif_else.ipynb', 'input_fonksiyonu.ipynb', 'int_float.ipynb', 'kümeler(sets).ipynb', 'listeler.ipynb', 'list_örnekler.ipynb', 'math_modülü.ipynb', 'os_modülü.ipynb', 'Projeck_euler_çözümleri.ipynb', 'random_modülü.ipynb', 'stringler.ipynb', 'sözlükler(dictionaires).ipynb', 'time_modülü.ipynb']\n",
      "datetime_modülü.ipynb\n",
      "demetler(tuples).ipynb\n",
      "Döngüler(loops).ipynb\n",
      "fonksiyonlar(functions).ipynb\n",
      "genel_tekrar.ipynb\n",
      "if_elif_else.ipynb\n",
      "input_fonksiyonu.ipynb\n",
      "int_float.ipynb\n",
      "kümeler(sets).ipynb\n",
      "listeler.ipynb\n",
      "list_örnekler.ipynb\n",
      "math_modülü.ipynb\n",
      "os_modülü.ipynb\n",
      "Projeck_euler_çözümleri.ipynb\n",
      "random_modülü.ipynb\n",
      "stringler.ipynb\n",
      "sözlükler(dictionaires).ipynb\n",
      "time_modülü.ipynb\n"
     ]
    }
   ],
   "source": [
    "import os\n",
    "\n",
    "dir_contents = os.listdir(r\"C:\\Users\\Yusuf Altuntaş\\Desktop\\python vscode\")\n",
    "print(dir_contents)\n",
    "for item in dir_contents:\n",
    "    print(item)\n"
   ]
  },
  {
   "cell_type": "markdown",
   "metadata": {},
   "source": [
    "### 4) Dizin Oluşturma (Creating Directories):\n",
    "\n",
    "* os.mkdir() veya os.makedirs() fonksiyonları, yeni dizinler oluşturmanıza olanak tanır.\n",
    "\n",
    "```\n",
    "import os\n",
    "\n",
    "# Tek bir dizin oluşturma\n",
    "os.mkdir(\"yeni_dizin\")\n",
    "\n",
    "# Birden fazla dizini hiyerarşik olarak oluşturma\n",
    "os.makedirs(\"yeni_dizin/alt_dizin1/alt_dizin2\", exist_ok=True)\n"
   ]
  },
  {
   "cell_type": "markdown",
   "metadata": {},
   "source": [
    "### 5) Dizin veya Dosya Silme (Removing Directory or File):\n",
    "\n",
    "* os.remove() dosya silmek için kullanılırken, os.rmdir() veya os.removedirs() dizinleri silmek için kullanılır.\n",
    "* Bu fonksiyonlarla sadece boş klasörler silinebilir.\n",
    "\n",
    "```\n",
    "import os\n",
    "\n",
    "# Dosya silme\n",
    "os.remove(\"dosya.txt\")\n",
    "\n",
    "# Dizin silme\n",
    "os.rmdir(\"boş_dizin\")\n"
   ]
  },
  {
   "cell_type": "markdown",
   "metadata": {},
   "source": [
    "### 6) Dosya Adını Değiştirme ve Dosya Taşıma\n",
    "\n",
    "* rename() fonksiyonu, Python'un os (işletim sistemi) modülünde bulunan ve bir dosyanın adını değiştirmek veya taşımak için kullanılan bir işlevdir. Bu fonksiyon, mevcut bir dosyanın adını başka bir ad ile değiştirmenizi sağlar.  \n",
    "İşte rename() fonksiyonunun kullanımı ve örnekleri:\n",
    "\n",
    "    ```\n",
    "    import os\n",
    "    \n",
    "    eski_ad = \"eski_dosya.txt\"\n",
    "    yeni_ad = \"yeni_dosya.txt\"\n",
    "    \n",
    "    # Dosyanın adını değiştirme\n",
    "    os.rename(eski_ad, yeni_ad)\n",
    "\n",
    "* Yukarıdaki örnek, eski_dosya.txt adlı bir dosyanın adını yeni_dosya.txt olarak değiştirir. rename() fonksiyonu, eski dosyanın adını ve yeni dosyanın adını alır ve eski dosyanın adını yeni ad ile değiştirir.\n",
    "\n",
    "    Ayrıca, rename() fonksiyonunu kullanarak dosyaları farklı dizinler arasında taşıyabilirsiniz:\n",
    "\n",
    "        ```\n",
    "        import os\n",
    "    \n",
    "        eski_yol = \"eski_dizin/eski_dosya.txt\"\n",
    "        yeni_yol = \"yeni_dizin/yeni_dosya.txt\"\n",
    "        \n",
    "        # Dosyayı farklı bir dizine taşıma ve adını değiştirme\n",
    "        os.rename(eski_yol, yeni_yol)\n",
    "\n",
    "* Bu örnek, eski_dizin içindeki eski_dosya.txt dosyasını yeni_dizin içine taşırken adını da yeni_dosya.txt olarak değiştirir.\n"
   ]
  },
  {
   "cell_type": "markdown",
   "metadata": {},
   "source": [
    "### 7) Dosya Hakkında Ayrıntılara Erişme:\n",
    "\n",
    "* os.stat() fonksiyonu, belirtilen dosya veya dizin hakkında ayrıntılı bilgileri içeren bir os.stat_result nesnesi döndüren bir Python işlevidir. Bu işlev, dosyanın veya dizinin çeşitli özelliklerini, erişim izinlerini, boyutunu, oluşturulma ve değiştirilme tarihlerini vb. elde etmek için kullanılır. os.stat() fonksiyonu, dosya işlemleri, hata ayıklama ve veri analizi gibi birçok uygulamada kullanışlıdır.\n",
    "\n",
    "* s.stat() fonksiyonunun kullanımı:\n",
    "\n",
    "    os.stat(path): Bu işlev, path adı verilen dosya veya dizin yolunu alır ve bu yolu temsil eden os.stat_result nesnesini döndürür.\n",
    "\n",
    "A) Bir dosyanın ayrıntılı bilgilerini almak:\n",
    "\n",
    "    ```\n",
    "    import os\n",
    "    \n",
    "    file_path = \"example.txt\"\n",
    "    file_stat = os.stat(file_path)\n",
    "    \n",
    "    # Dosya boyutu\n",
    "    print(\"Dosya Boyutu:\", file_stat.st_size, \"byte\")\n",
    "    \n",
    "    # Dosyanın oluşturulma tarihi (Unix zaman damgası)\n",
    "    print(\"Oluşturulma Tarihi:\", file_stat.st_ctime)\n",
    "    \n",
    "    # Dosyanın son değiştirilme tarihi (Unix zaman damgası)\n",
    "    print(\"Son Değiştirilme Tarihi:\", file_stat.st_mtime)\n",
    "    \n",
    "B) Bir dizinin izinlerini ve sahibini almak:\n",
    "\n",
    "    ``\n",
    "    mport os\n",
    "    \n",
    "    directory_path = \"/path/to/directory\"\n",
    "    directory_stat = os.stat(directory_path)\n",
    "    \n",
    "    # Dosya veya dizinin sahibi\n",
    "    print(\"Sahip Kullanıcı ID'si:\", directory_stat.st_uid)\n",
    "    \n",
    "    # Dosya veya dizinin izinleri (octal format)\n",
    "    print(\"İzinler (Octal):\", oct(directory_stat.st_mode))\n",
    "\n",
    "\n",
    "* os.stat() fonksiyonu, dosyaların ve dizinlerin birçok özelliğini döndüren oldukça güçlü bir araçtır. Döndürülen os.stat_result nesnesi, bu özelliklere erişmek için bir dizi özellik ve yöntem içerir (örneğin, st_size, st_ctime, st_mtime gibi). Bu bilgileri kullanarak dosya veya dizinler hakkında detaylı analizler yapabilirsiniz.\n"
   ]
  },
  {
   "cell_type": "markdown",
   "metadata": {},
   "source": [
    "### 8) os.walk() Fonksiyonu:\n",
    "\n",
    "* os.walk() fonksiyonu, belirtilen bir dizinin içindeki alt dizinleri ve dosyaları yürüterek, bu dizin ağacını dolaşmanızı sağlayan bir Python işlevidir. os.walk(), genellikle dosya işleme, klasör tarayıcıları ve veri analizi gibi uygulamalarda kullanılır. Bu fonksiyon, dizin içeriğini alt dizinlerle birlikte rekürsif olarak dolaşmanızı sağlar.\n",
    "\n",
    "        * os.walk() fonksiyonunun kullanımı:\n",
    "\n",
    "    * os.walk(top, topdown=True, onerror=None, followlinks=False): Bu işlev, yürütmeniz gereken dizini (top) ve bazı opsiyonel parametreleri alır ve bir üçlü (tuple) döndürür. Her üçlü, bir dizin yolunu (dirpath), o dizindeki alt dizinleri (dirnames) ve o dizindeki dosyaları (filenames) içerir. topdown parametresi, yürütmenin yukarıdan aşağı mı (varsayılan) yoksa aşağıdan yukarı mı (False) yapılacağını belirler. followlinks, sembolik linkleri takip edip etmeyeceğinizi belirler.\n",
    "        \n",
    "     A) Belirli bir dizini yürüterek alt dizinleri ve dosyaları listeleme:\n",
    "\n",
    "    ```\n",
    "    import os\n",
    "    \n",
    "    start_directory = \"/path/to/start/directory\"\n",
    "    \n",
    "    for dirpath, dirnames, filenames in os.walk(start_directory):\n",
    "        print(\"Dizin Yolu:\", dirpath)\n",
    "        print(\"Alt Dizinler:\", dirnames)\n",
    "        print(\"Dosyalar:\", filenames)\n",
    "        print()\n",
    "\n",
    "            \n",
    "* B) Belirli bir dizinde belirli türdeki dosyaları arama (örneğin, .txt uzantılı dosyaları bulma):\n",
    "\n",
    "    ```\n",
    "    import os\n",
    "    \n",
    "    start_directory = \"/path/to/start/directory\"\n",
    "    target_extension = \".txt\"\n",
    "    \n",
    "    for dirpath, dirnames, filenames in os.walk(start_directory):\n",
    "        for filename in filenames:\n",
    "            if filename.endswith(target_extension):\n",
    "                file_path = os.path.join(dirpath, filename)\n",
    "                print(\"Bulunan Dosya:\", file_path)\n"
   ]
  },
  {
   "cell_type": "markdown",
   "metadata": {},
   "source": [
    "### 9) Yol Manipülasyonu (Path Manipulation):\n",
    "\n",
    "* os.path.join() fonksiyonu, dosya yollarını ve dizin yollarını düzgün bir şekilde birleştirmek için kullanılan bir işlemdir. Bu işlem, platforma özgü yol ayırıcılarını otomatik olarak dikkate alır ve dosya yollarını geçerli işletim sisteminin gereksinimlerine göre oluşturur. Bu, kodunuzun taşınabilirliğini artırır, çünkü dosya yollarını elle birleştirmek yerine bu işlevi kullanarak işletim sisteminize özgü sorunları önleyebilirsiniz.\n",
    "\n",
    "os.path.join() fonksiyonunun kullanımı aşağıdaki gibidir:\n",
    "\n",
    "    ```\n",
    "    import os\n",
    "    \n",
    "    # Dosya yollarını birleştirme örneği\n",
    "    ana_dizin = \"/usr\"\n",
    "    alt_dizin = \"kullanici\"\n",
    "    dosya = \"belge.txt\"\n",
    "    \n",
    "    dosya_yolu = os.path.join(ana_dizin, alt_dizin, dosya)\n",
    "    \n",
    "    print(dosya_yolu)\n",
    "\n",
    "* Bu örnekte, os.path.join() fonksiyonu, ana_dizin, alt_dizin ve dosya değişkenlerini alır ve bunları işletim sisteminin gerektirdiği şekilde birleştirir. Örneğin, Windows üzerinde \\ işareti kullanırken Unix/Linux sistemlerinde / işareti kullanır. Sonuç, işletim sistemine bağlı olarak uygun bir dosya yolunu temsil eder.\n"
   ]
  },
  {
   "cell_type": "markdown",
   "metadata": {},
   "source": [
    "### 10) Belirtilen Yolun Dizin(klasör) mü Ya DA Dosya mı Olduğunu Kontrol Etme:\n",
    "\n",
    "* A) os.path.isdir() Fonksiyonu:\n",
    "\n",
    "    os.path.isdir() fonksiyonu, belirtilen bir yolun bir dizin (klasör) olup olmadığını kontrol etmek için kullanılır. Eğer belirtilen yol bir dizinse True döner, aksi takdirde False döner.\n",
    "\n",
    "    ```\n",
    "    import os\n",
    "\n",
    "    path = \"/path/to/directory\"\n",
    "    \n",
    "    if os.path.isdir(path):\n",
    "        print(f\"{path} bir dizindir.\")\n",
    "    else:\n",
    "        print(f\"{path} bir dizin değildir.\")\n",
    "   \n",
    "* B) os.path.isfile() Fonksiyonu:\n",
    "\n",
    "    os.path.isfile() fonksiyonu, belirtilen bir yolun bir dosya olup olmadığını kontrol etmek için kullanılır. Eğer belirtilen yol bir dosyaysa True döner, aksi takdirde False döner.\n",
    "\n",
    "    ```\n",
    "    import os\n",
    "\n",
    "    path = \"/path/to/file.txt\"\n",
    "    \n",
    "    if os.path.isfile(path):\n",
    "        print(f\"{path} bir dosyadır.\")\n",
    "    else:\n",
    "        print(f\"{path} bir dosya değildir.\")\n"
   ]
  },
  {
   "cell_type": "markdown",
   "metadata": {},
   "source": [
    "### 11) Dosya Adı ve Uzantısını Ayrı Yazdırma:\n",
    "\n",
    "* os.path.splitext() fonksiyonu, bir dosya yolundan dosya adını ve dosya uzantısını ayırmak için kullanılır. Bu işlev, dosya yollarını işlerken dosya uzantısını elde etmek veya değiştirmek için sıkça kullanılır.\n",
    "\n",
    "os.path.splitext() fonksiyonunun kullanımı aşağıdaki gibidir:\n",
    "\n",
    "    ```\n",
    "    import os\n",
    "\n",
    "    dosya_yolu = \"/path/to/file.txt\"\n",
    "    \n",
    "    dosya_adı, uzantı = os.path.splitext(dosya_yolu)\n",
    "    \n",
    "    print(\"Dosya Adı:\", dosya_adı)\n",
    "    print(\"Uzantı:\", uzantı)\n",
    "    \n",
    "* Bu örnek, /path/to/file.txt adlı bir dosya yolunu alır ve os.path.splitext() işlevini kullanarak dosya adını (dosya_adı) ve uzantısını (uzantı) ayırır. Ardından bu iki değeri ekrana yazdırır.\n",
    "\n",
    "    Örnek çıktı:\n",
    "\n",
    "        * Dosya Adı: /path/to/file\n",
    "        Uzantı: .txt\n",
    "\n",
    "* Görüldüğü gibi, os.path.splitext() işlevi dosya yolunu iki parçaya böler. İlk parça, dosya adıdır ve uzantı olmadan dosya yolunu temsil eder. İkinci parça ise dosyanın uzantısını temsil eder ve . ile başlar.\n"
   ]
  },
  {
   "cell_type": "code",
   "execution_count": null,
   "metadata": {},
   "outputs": [],
   "source": []
  }
 ],
 "metadata": {
  "kernelspec": {
   "display_name": "Python 3",
   "language": "python",
   "name": "python3"
  },
  "language_info": {
   "codemirror_mode": {
    "name": "ipython",
    "version": 3
   },
   "file_extension": ".py",
   "mimetype": "text/x-python",
   "name": "python",
   "nbconvert_exporter": "python",
   "pygments_lexer": "ipython3",
   "version": "3.11.2"
  },
  "orig_nbformat": 4
 },
 "nbformat": 4,
 "nbformat_minor": 2
}
